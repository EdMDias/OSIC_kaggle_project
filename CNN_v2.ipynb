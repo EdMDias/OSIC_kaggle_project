{
 "cells": [
  {
   "cell_type": "code",
   "execution_count": 1,
   "metadata": {},
   "outputs": [
    {
     "name": "stderr",
     "output_type": "stream",
     "text": [
      "Using TensorFlow backend.\n"
     ]
    }
   ],
   "source": [
    "import pandas as pd\n",
    "import numpy as np\n",
    "import pydicom \n",
    "import os\n",
    "import matplotlib.pyplot as plt\n",
    "\n",
    "from keras.models import Model, Sequential\n",
    "from keras.layers import Concatenate, Dense, Input, concatenate\n",
    "from keras.layers import Dense, Dropout, Conv2D, MaxPool2D, Flatten"
   ]
  },
  {
   "cell_type": "code",
   "execution_count": 2,
   "metadata": {},
   "outputs": [],
   "source": [
    "def load_best_slices(path):\n",
    "    ind = []\n",
    "    for file in os.listdir(path):\n",
    "        if file.split('.')[1] == 'txt':\n",
    "            ind.append(file.split('.')[0])\n",
    "        \n",
    "    df = pd.DataFrame(index = ind, columns= ['CT'])\n",
    "    for ind in df.index:\n",
    "        df.loc[ind].CT = np.loadtxt(path + ind + '.txt')\n",
    "    \n",
    "    return df\n",
    "\n",
    "df = load_best_slices('best_lung_slice/')"
   ]
  },
  {
   "cell_type": "code",
   "execution_count": 3,
   "metadata": {},
   "outputs": [],
   "source": [
    "linear_data_all = pd.read_csv('patient_slope_intercept.csv', index_col=0)\n",
    "result = pd.DataFrame(index = df.index, columns = ['slope'])\n",
    "\n",
    "for ind in result.index:\n",
    "    result.loc[ind].slope = linear_data_all.loc[ind].slope"
   ]
  },
  {
   "cell_type": "code",
   "execution_count": 4,
   "metadata": {},
   "outputs": [],
   "source": [
    "dataset = df.values"
   ]
  },
  {
   "cell_type": "code",
   "execution_count": 5,
   "metadata": {},
   "outputs": [],
   "source": [
    "X = []\n",
    "for ind in df.index:\n",
    "    X.append(df.loc[ind].CT)\n",
    "\n",
    "X = np.array(X)/10\n",
    "X = X.reshape(X.shape[0], 512, 512, 1)"
   ]
  },
  {
   "cell_type": "code",
   "execution_count": null,
   "metadata": {},
   "outputs": [],
   "source": []
  },
  {
   "cell_type": "code",
   "execution_count": 6,
   "metadata": {},
   "outputs": [],
   "source": [
    "from sklearn.preprocessing import MinMaxScaler\n",
    "y = result.values\n",
    "scaler = MinMaxScaler()\n",
    "scaler.fit(y)\n",
    "y_scaled = scaler.transform(y)"
   ]
  },
  {
   "cell_type": "code",
   "execution_count": 47,
   "metadata": {},
   "outputs": [],
   "source": [
    "from sklearn.model_selection import train_test_split\n",
    "X_train, X_test, y_train, y_test = train_test_split(X, y_scaled, test_size=0.2)"
   ]
  },
  {
   "cell_type": "code",
   "execution_count": 48,
   "metadata": {},
   "outputs": [],
   "source": [
    "# building a linear stack of layers with the sequential model\n",
    "model = Sequential()\n",
    "# convolutional layer\n",
    "model.add(Conv2D(64, kernel_size=(2,2), strides=(1,1), padding='valid', activation='relu', \n",
    "                 input_shape=(512,512,1), kernel_initializer='random_normal', \n",
    "                 bias_initializer='zeros' ))\n",
    "model.add(MaxPool2D(pool_size=(2,2)))\n",
    "\n",
    "model.add(Conv2D(32, kernel_size=(3,3), strides=(1,1), padding='valid', activation='relu'))\n",
    "model.add(MaxPool2D(pool_size=(2,2)))\n",
    "model.add(Dropout(0.2))\n",
    "\n",
    "# flatten output of conv\n",
    "model.add(Flatten())\n",
    "# hidden layer\n",
    "model.add(Dense(10, activation='relu'))\n",
    "model.add(Dropout(0.25))\n",
    "model.add(Dense(10, activation='relu'))\n",
    "# output layer\n",
    "model.add(Dense(1, activation='sigmoid'))"
   ]
  },
  {
   "cell_type": "code",
   "execution_count": null,
   "metadata": {},
   "outputs": [],
   "source": []
  },
  {
   "cell_type": "code",
   "execution_count": 49,
   "metadata": {},
   "outputs": [],
   "source": [
    "model.compile(loss='mean_squared_error', metrics=['mean_squared_error'], optimizer='adam')"
   ]
  },
  {
   "cell_type": "code",
   "execution_count": null,
   "metadata": {},
   "outputs": [
    {
     "name": "stdout",
     "output_type": "stream",
     "text": [
      "Train on 140 samples, validate on 36 samples\n",
      "Epoch 1/20\n",
      "140/140 [==============================] - 9s 64ms/step - loss: 0.0220 - mean_squared_error: 0.0220 - val_loss: 0.0219 - val_mean_squared_error: 0.0219\n",
      "Epoch 2/20\n",
      "140/140 [==============================] - 8s 58ms/step - loss: 0.0198 - mean_squared_error: 0.0198 - val_loss: 0.0222 - val_mean_squared_error: 0.0222\n",
      "Epoch 3/20\n",
      "140/140 [==============================] - 8s 59ms/step - loss: 0.0198 - mean_squared_error: 0.0198 - val_loss: 0.0224 - val_mean_squared_error: 0.0224\n",
      "Epoch 4/20\n",
      "140/140 [==============================] - 8s 59ms/step - loss: 0.0187 - mean_squared_error: 0.0187 - val_loss: 0.0222 - val_mean_squared_error: 0.0222\n",
      "Epoch 5/20\n",
      "140/140 [==============================] - 8s 59ms/step - loss: 0.0181 - mean_squared_error: 0.0181 - val_loss: 0.0222 - val_mean_squared_error: 0.0222\n",
      "Epoch 6/20\n",
      "140/140 [==============================] - 8s 59ms/step - loss: 0.0163 - mean_squared_error: 0.0163 - val_loss: 0.0222 - val_mean_squared_error: 0.0222\n",
      "Epoch 7/20\n",
      "140/140 [==============================] - 8s 58ms/step - loss: 0.0161 - mean_squared_error: 0.0161 - val_loss: 0.0230 - val_mean_squared_error: 0.0230\n",
      "Epoch 8/20\n",
      "140/140 [==============================] - 8s 58ms/step - loss: 0.0146 - mean_squared_error: 0.0146 - val_loss: 0.0212 - val_mean_squared_error: 0.0212\n",
      "Epoch 9/20\n",
      "140/140 [==============================] - 8s 59ms/step - loss: 0.0137 - mean_squared_error: 0.0137 - val_loss: 0.0219 - val_mean_squared_error: 0.0219\n",
      "Epoch 10/20\n",
      "140/140 [==============================] - 8s 59ms/step - loss: 0.0116 - mean_squared_error: 0.0116 - val_loss: 0.0203 - val_mean_squared_error: 0.0203\n",
      "Epoch 11/20\n",
      "140/140 [==============================] - 8s 58ms/step - loss: 0.0117 - mean_squared_error: 0.0117 - val_loss: 0.0201 - val_mean_squared_error: 0.0201\n",
      "Epoch 12/20\n",
      "140/140 [==============================] - 8s 58ms/step - loss: 0.0101 - mean_squared_error: 0.0101 - val_loss: 0.0206 - val_mean_squared_error: 0.0206\n",
      "Epoch 13/20\n",
      "140/140 [==============================] - 8s 60ms/step - loss: 0.0091 - mean_squared_error: 0.0091 - val_loss: 0.0198 - val_mean_squared_error: 0.0198\n",
      "Epoch 14/20\n",
      "140/140 [==============================] - 8s 58ms/step - loss: 0.0096 - mean_squared_error: 0.0096 - val_loss: 0.0205 - val_mean_squared_error: 0.0205\n",
      "Epoch 15/20\n",
      "140/140 [==============================] - 8s 60ms/step - loss: 0.0088 - mean_squared_error: 0.0088 - val_loss: 0.0207 - val_mean_squared_error: 0.0207\n",
      "Epoch 16/20\n",
      "140/140 [==============================] - 9s 64ms/step - loss: 0.0087 - mean_squared_error: 0.0087 - val_loss: 0.0208 - val_mean_squared_error: 0.0208\n",
      "Epoch 17/20\n",
      "140/140 [==============================] - 10s 73ms/step - loss: 0.0095 - mean_squared_error: 0.0095 - val_loss: 0.0211 - val_mean_squared_error: 0.0211\n",
      "Epoch 18/20\n",
      "140/140 [==============================] - 10s 71ms/step - loss: 0.0098 - mean_squared_error: 0.0098 - val_loss: 0.0207 - val_mean_squared_error: 0.0207\n",
      "Epoch 19/20\n",
      " 64/140 [============>.................] - ETA: 5s - loss: 0.0128 - mean_squared_error: 0.0128"
     ]
    }
   ],
   "source": [
    "model.fit(X_train,y_train, batch_size=32, epochs=20, validation_data=(X_test,y_test))"
   ]
  },
  {
   "cell_type": "code",
   "execution_count": 41,
   "metadata": {},
   "outputs": [
    {
     "data": {
      "text/plain": [
       "array([[-7.4007325 ],\n",
       "       [-6.494286  ],\n",
       "       [-6.3619285 ],\n",
       "       [-8.007622  ],\n",
       "       [-6.6625533 ],\n",
       "       [-7.899496  ],\n",
       "       [-2.8914237 ],\n",
       "       [-1.2078733 ],\n",
       "       [-0.78241044],\n",
       "       [-3.1333277 ],\n",
       "       [-4.6602025 ],\n",
       "       [-9.227251  ],\n",
       "       [-3.884321  ],\n",
       "       [-8.494724  ],\n",
       "       [-6.87902   ],\n",
       "       [-3.6849215 ],\n",
       "       [-6.2760487 ],\n",
       "       [-3.9387085 ],\n",
       "       [-5.679025  ],\n",
       "       [-7.2061234 ],\n",
       "       [-3.1693962 ],\n",
       "       [-8.906324  ],\n",
       "       [-7.75552   ],\n",
       "       [-6.0269012 ],\n",
       "       [-8.220977  ],\n",
       "       [-6.70435   ],\n",
       "       [-5.4434752 ],\n",
       "       [-0.9539635 ],\n",
       "       [-6.1597133 ],\n",
       "       [-8.514712  ],\n",
       "       [-1.8876113 ],\n",
       "       [-1.6841084 ],\n",
       "       [-4.637399  ],\n",
       "       [-1.4360673 ],\n",
       "       [-6.511016  ],\n",
       "       [-2.393571  ]], dtype=float32)"
      ]
     },
     "execution_count": 41,
     "metadata": {},
     "output_type": "execute_result"
    }
   ],
   "source": [
    "scaler.inverse_transform(model.predict(X_test))"
   ]
  },
  {
   "cell_type": "code",
   "execution_count": 42,
   "metadata": {},
   "outputs": [
    {
     "name": "stdout",
     "output_type": "stream",
     "text": [
      "[[12.922438]]\n",
      "slope   -3.41031\n",
      "Name: ID00229637202260254240583, dtype: object\n"
     ]
    }
   ],
   "source": [
    "n=8\n",
    "example = df.iloc[n].CT.reshape(1,512,512,1)\n",
    "print(scaler.inverse_transform(model.predict(example)))\n",
    "print(result.iloc[n])"
   ]
  },
  {
   "cell_type": "code",
   "execution_count": 46,
   "metadata": {},
   "outputs": [
    {
     "data": {
      "text/plain": [
       "3.409579953933438"
      ]
     },
     "execution_count": 46,
     "metadata": {},
     "output_type": "execute_result"
    }
   ],
   "source": [
    "abs(scaler.inverse_transform(model.predict(X_test)) - scaler.inverse_transform(y_test)).mean()"
   ]
  },
  {
   "cell_type": "code",
   "execution_count": 29,
   "metadata": {},
   "outputs": [
    {
     "data": {
      "text/plain": [
       "array([[  0.35006384],\n",
       "       [ -2.13597507],\n",
       "       [-12.68318624],\n",
       "       [ -0.06711805],\n",
       "       [  0.32038146],\n",
       "       [ -0.95680346],\n",
       "       [ -0.33056823],\n",
       "       [ -5.94791091],\n",
       "       [ -5.9863249 ],\n",
       "       [  7.19713765],\n",
       "       [  4.67761641],\n",
       "       [ -2.35611511],\n",
       "       [  7.33125819],\n",
       "       [ -0.26516073],\n",
       "       [ -0.28084152],\n",
       "       [ -2.54915177],\n",
       "       [ -6.74182279],\n",
       "       [-11.62740016],\n",
       "       [-18.38177853],\n",
       "       [ -1.0813172 ],\n",
       "       [  0.69377163],\n",
       "       [ -3.81404806],\n",
       "       [ -5.73331844],\n",
       "       [-23.2875    ],\n",
       "       [ -0.57674104],\n",
       "       [  8.24164244],\n",
       "       [ -9.38184773],\n",
       "       [ -6.04144002],\n",
       "       [  1.89659994],\n",
       "       [ -4.80809129],\n",
       "       [ -2.58405342],\n",
       "       [ -8.93189583],\n",
       "       [ -4.28962749],\n",
       "       [ -1.56416425],\n",
       "       [ -1.8502907 ],\n",
       "       [-10.81815282],\n",
       "       [  0.71656977],\n",
       "       [ -4.40627448],\n",
       "       [-14.03341163],\n",
       "       [ -6.40337866],\n",
       "       [ -0.19162534],\n",
       "       [ -3.0797419 ],\n",
       "       [ -4.24042951],\n",
       "       [ -7.77925641],\n",
       "       [-11.80520073],\n",
       "       [  2.55714969],\n",
       "       [ -8.18945971],\n",
       "       [ -9.37995512],\n",
       "       [  0.68111192],\n",
       "       [ -0.80079712],\n",
       "       [  0.59813385],\n",
       "       [  9.05220839],\n",
       "       [ -2.22092935]])"
      ]
     },
     "execution_count": 29,
     "metadata": {},
     "output_type": "execute_result"
    }
   ],
   "source": [
    "scaler.inverse_transform(y_test)"
   ]
  },
  {
   "cell_type": "code",
   "execution_count": null,
   "metadata": {},
   "outputs": [],
   "source": []
  }
 ],
 "metadata": {
  "kernelspec": {
   "display_name": "Python 3",
   "language": "python",
   "name": "python3"
  },
  "language_info": {
   "codemirror_mode": {
    "name": "ipython",
    "version": 3
   },
   "file_extension": ".py",
   "mimetype": "text/x-python",
   "name": "python",
   "nbconvert_exporter": "python",
   "pygments_lexer": "ipython3",
   "version": "3.7.7"
  }
 },
 "nbformat": 4,
 "nbformat_minor": 4
}
