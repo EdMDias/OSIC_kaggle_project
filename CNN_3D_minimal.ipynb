{
 "cells": [
  {
   "cell_type": "code",
   "execution_count": 1,
   "metadata": {},
   "outputs": [
    {
     "name": "stderr",
     "output_type": "stream",
     "text": [
      "Using TensorFlow backend.\n"
     ]
    }
   ],
   "source": [
    "import pandas as pd\n",
    "import numpy as np\n",
    "import pydicom \n",
    "import os\n",
    "import matplotlib.pyplot as plt\n",
    "\n",
    "import tensorflow as tf\n",
    "import keras\n",
    "from keras.models import Model, Sequential\n",
    "from keras.layers import Concatenate, Dense, Input, concatenate, BatchNormalization\n",
    "from keras.layers import Dense, Dropout, Flatten, Conv3D, MaxPool3D, GlobalMaxPooling3D\n",
    "\n",
    "from sklearn.preprocessing import MinMaxScaler"
   ]
  },
  {
   "cell_type": "code",
   "execution_count": null,
   "metadata": {},
   "outputs": [],
   "source": []
  },
  {
   "cell_type": "code",
   "execution_count": 2,
   "metadata": {},
   "outputs": [],
   "source": [
    "def color_change(arr):\n",
    "    arr = arr.copy()\n",
    "    factor = 3*np.random.uniform()\n",
    "    return arr**factor  \n",
    "\n",
    "def translation(arr):\n",
    "    direction = [round(3*np.random.uniform()),round(50*np.random.uniform()),round(128*np.random.uniform())]\n",
    "    result = np.zeros(arr.shape)\n",
    "    for i in range(arr.shape[0]-direction[0]):\n",
    "        for j in range(arr.shape[1]-direction[1]):\n",
    "            for k in range(arr.shape[2]-direction[2]):\n",
    "                result[i+direction[0],j+direction[1],k+direction[2]] = arr[i,j,k]\n",
    "    return result\n",
    "\n",
    "def symmetry(arr):\n",
    "    result = np.zeros(arr.shape)\n",
    "    for i in range(arr.shape[0]):\n",
    "        result[i] = arr[i].T\n",
    "    return result\n",
    "\n",
    "def rand_crop(arr):\n",
    "    x, y = round(64*np.random.uniform()), round(64*np.random.uniform())\n",
    "    arr = arr.copy()\n",
    "    result = arr[:, x: x+128 , y: y+128]\n",
    "    tmp_ = []\n",
    "    for i in range(result.shape[0]):\n",
    "        tmp_.append(np.resize(result[i], (arr.shape[1], arr.shape[2])))\n",
    "    return tmp_\n",
    "\n",
    "def gaussian_noise(arr):\n",
    "    noise = np.random.normal(size = arr.shape[0]*arr.shape[1]*arr.shape[2])\n",
    "    return 0.05*noise.reshape(arr.shape) + arr"
   ]
  },
  {
   "cell_type": "code",
   "execution_count": 3,
   "metadata": {},
   "outputs": [],
   "source": [
    "def load_best_slices(path):\n",
    "    ind = []\n",
    "    for file in os.listdir(path):\n",
    "        if file.split('.')[1] == 'npy':\n",
    "            ind.append(file.split('.')[0])\n",
    "        \n",
    "    df = pd.DataFrame(index = ind, columns= ['CT'])\n",
    "    for ind in df.index:\n",
    "        df.loc[ind].CT = np.load(path + ind + '.npy')\n",
    "    \n",
    "    return df\n",
    "\n",
    "df = load_best_slices('lung_chunks_256/')"
   ]
  },
  {
   "cell_type": "code",
   "execution_count": 4,
   "metadata": {},
   "outputs": [],
   "source": [
    "df = df.reset_index()\n",
    "df = df.rename(columns = {'index' : 'Patient'})"
   ]
  },
  {
   "cell_type": "code",
   "execution_count": 5,
   "metadata": {},
   "outputs": [],
   "source": [
    "features = pd.read_csv('features.csv')\n",
    "df = df.merge(features, on= 'Patient')"
   ]
  },
  {
   "cell_type": "code",
   "execution_count": 6,
   "metadata": {},
   "outputs": [],
   "source": [
    "linear_data_all = pd.read_csv('patient_slope_intercept.csv', index_col=0)\n",
    "result = pd.DataFrame(index = df.Patient, columns = ['slope'])\n",
    "    \n",
    "for ind in result.index:\n",
    "    result.loc[ind].slope = linear_data_all.loc[ind].slope\n",
    "\n",
    "df = df.merge(result, on='Patient')\n",
    "df.iloc[:,2:] = df.iloc[:,2:].astype(np.float32)"
   ]
  },
  {
   "cell_type": "code",
   "execution_count": 7,
   "metadata": {},
   "outputs": [],
   "source": [
    "dataset = df.values[:,1:]"
   ]
  },
  {
   "cell_type": "code",
   "execution_count": 8,
   "metadata": {},
   "outputs": [],
   "source": [
    "scaler_features = MinMaxScaler()\n",
    "dataset[:,1:] = scaler_features.fit_transform(dataset[:,1:])\n",
    "\n",
    "scale = MinMaxScaler()\n",
    "scale.min_, scale.scale_ = scaler_features.min_[-1], scaler_features.scale_[-1]"
   ]
  },
  {
   "cell_type": "code",
   "execution_count": 9,
   "metadata": {},
   "outputs": [],
   "source": [
    "def custom_loss_function():\n",
    "\n",
    "    def loss_function(y_true, y_pred):\n",
    "        y_true = (y_true - scale.min_)/scale.scale_\n",
    "        y_pred = (y_pred - scale.min_)/scale.scale_\n",
    "        diff = tf.abs(y_pred-y_true)\n",
    "        \n",
    "        return tf.reduce_mean(diff**2, axis=-1)**.5\n",
    "    \n",
    "    return loss_function\n",
    "\n",
    "def custom_metric_function():\n",
    "\n",
    "    def metric_function(y_true, y_pred):\n",
    "        y_true = (y_true - scale.min_)/scale.scale_\n",
    "        y_pred = (y_pred - scale.min_)/scale.scale_\n",
    "        diff = abs(y_pred-y_true)\n",
    "        diff = tf.where(diff > 7.5, 7.5, diff)\n",
    "        diff = tf.where(diff < 0.5, 0.5, diff)\n",
    "        \n",
    "        return tf.reduce_mean(diff, axis=-1)\n",
    "    \n",
    "    return metric_function"
   ]
  },
  {
   "cell_type": "code",
   "execution_count": 10,
   "metadata": {},
   "outputs": [],
   "source": [
    "dataset_color_change = dataset[:,:].copy()\n",
    "# dataset_translation = dataset[:,:].copy()\n",
    "# dataset_symmetry = dataset[:,:].copy()\n",
    "# dataset_crop = dataset[:,:].copy()\n",
    "dataset_gaussian_noise = dataset[:,:].copy()"
   ]
  },
  {
   "cell_type": "code",
   "execution_count": 11,
   "metadata": {},
   "outputs": [],
   "source": [
    "for i in range(dataset.shape[0]):\n",
    "    dataset_color_change[i,0] = color_change(dataset_color_change[i,0])\n",
    "    \n",
    "# for i in range(dataset.shape[0]):\n",
    "#     dataset_symmetry[i,0] = symmetry(dataset_symmetry[i,0])\n",
    "\n",
    "# for i in range(dataset.shape[0]):\n",
    "#     dataset_translation[i,0] = translation(dataset_translation[i,0])\n",
    "\n",
    "# for i in range(dataset.shape[0]):\n",
    "#     dataset_crop[i,0] = rand_crop(dataset_crop[i,0])\n",
    "\n",
    "for i in range(dataset.shape[0]):\n",
    "    dataset_gaussian_noise[i,0] = gaussian_noise(dataset_gaussian_noise[i,0])"
   ]
  },
  {
   "cell_type": "code",
   "execution_count": 12,
   "metadata": {},
   "outputs": [],
   "source": [
    "#dataset = np.concatenate((dataset, dataset_color_change, dataset_symmetry, dataset_translation, dataset_crop, dataset_gaussian_noise), axis = 0)\n",
    "\n",
    "dataset = np.concatenate((dataset, dataset_color_change, dataset_gaussian_noise), axis = 0)"
   ]
  },
  {
   "cell_type": "code",
   "execution_count": 13,
   "metadata": {},
   "outputs": [],
   "source": [
    "from sklearn.model_selection import train_test_split\n",
    "X_train, X_test, y_train, y_test = train_test_split(dataset[:,:-1], dataset[:,-1], test_size=0.2)"
   ]
  },
  {
   "cell_type": "code",
   "execution_count": 14,
   "metadata": {},
   "outputs": [],
   "source": [
    "lungs_train = []\n",
    "for i in range(X_train[:,0].shape[0]):\n",
    "    lungs_train.append(X_train[i,0]) #.astype(np.float32))\n",
    "\n",
    "lungs_train = np.array(lungs_train)    \n",
    "lungs_train = lungs_train.reshape(X_train[:,0].shape[0], 7, 256, 256, 1)\n",
    "\n",
    "lungs_test = []\n",
    "for i in range(X_test[:,0].shape[0]):\n",
    "    lungs_test.append(X_test[i,0]) #.astype(np.float32))\n",
    "\n",
    "lungs_test = np.array(lungs_test)    \n",
    "lungs_test = lungs_test.reshape(X_test[:,0].shape[0], 7, 256, 256, 1)"
   ]
  },
  {
   "cell_type": "code",
   "execution_count": 15,
   "metadata": {},
   "outputs": [],
   "source": [
    "features_train = []\n",
    "for i in range(X_train[:,1:].shape[0]):\n",
    "    features_train.append(X_train[i,1:].astype(np.float32))\n",
    "    \n",
    "features_test = []\n",
    "for i in range(X_test[:,1:].shape[0]):\n",
    "    features_test.append(X_test[i,1:].astype(np.float32))"
   ]
  },
  {
   "cell_type": "code",
   "execution_count": 16,
   "metadata": {},
   "outputs": [],
   "source": [
    "features_train = np.array(np.array(features_train))\n",
    "features_train = features_train.reshape(features_train.shape[0], 8)\n",
    "\n",
    "features_test = np.array(np.array(features_test))\n",
    "features_test = features_test.reshape(features_test.shape[0], 8)"
   ]
  },
  {
   "cell_type": "code",
   "execution_count": 17,
   "metadata": {},
   "outputs": [],
   "source": [
    "def create_model():\n",
    "\n",
    "\n",
    "    inp_conv = Input(shape = (7,256,256,1), name='lungs')\n",
    "\n",
    "    model_conv = Conv3D(16, kernel_size=(1,3,3), strides=(1,1,1), padding='valid', activation='relu')(inp_conv)\n",
    "    model_conv = Conv3D(32, kernel_size=(1,3,3), strides=(1,1,1), padding='valid', activation='sigmoid')(model_conv)\n",
    "\n",
    "    model_conv = GlobalMaxPooling3D()(model_conv)\n",
    "    #model_conv = Flatten()(model_conv)\n",
    "    model_conv = Dropout(0.25)(model_conv)\n",
    "\n",
    "    model_conv =  Dense(16, activation='relu')(model_conv)\n",
    "    outp_conv = Dense(8, activation='sigmoid')(model_conv)\n",
    "\n",
    "    inp_feat = Input(shape = (8,), name='features')\n",
    "    model_feat = Dense(32, activation='relu')(inp_feat)\n",
    "    outp_feat = Dense(8, activation='sigmoid')(model_feat)\n",
    "\n",
    "    model_conc = concatenate([outp_conv, outp_feat])\n",
    "    model_conc = Dense(32, activation='relu')(model_conc)\n",
    "    output = Dense(1, activation='linear')(model_conc)\n",
    "\n",
    "    model = Model(inputs=[inp_conv, inp_feat], outputs=output, name=\"cnn_nn_model\")\n",
    "    \n",
    "    model.compile(loss=custom_loss_function(), metrics=[custom_metric_function()], optimizer='adam')\n",
    "    \n",
    "    return model"
   ]
  },
  {
   "cell_type": "code",
   "execution_count": 18,
   "metadata": {},
   "outputs": [],
   "source": [
    "model = create_model()"
   ]
  },
  {
   "cell_type": "code",
   "execution_count": 19,
   "metadata": {},
   "outputs": [
    {
     "name": "stdout",
     "output_type": "stream",
     "text": [
      "Model: \"cnn_nn_model\"\n",
      "__________________________________________________________________________________________________\n",
      "Layer (type)                    Output Shape         Param #     Connected to                     \n",
      "==================================================================================================\n",
      "lungs (InputLayer)              (None, 7, 256, 256,  0                                            \n",
      "__________________________________________________________________________________________________\n",
      "conv3d_1 (Conv3D)               (None, 7, 254, 254,  160         lungs[0][0]                      \n",
      "__________________________________________________________________________________________________\n",
      "conv3d_2 (Conv3D)               (None, 7, 252, 252,  4640        conv3d_1[0][0]                   \n",
      "__________________________________________________________________________________________________\n",
      "global_max_pooling3d_1 (GlobalM (None, 32)           0           conv3d_2[0][0]                   \n",
      "__________________________________________________________________________________________________\n",
      "dropout_1 (Dropout)             (None, 32)           0           global_max_pooling3d_1[0][0]     \n",
      "__________________________________________________________________________________________________\n",
      "features (InputLayer)           (None, 8)            0                                            \n",
      "__________________________________________________________________________________________________\n",
      "dense_1 (Dense)                 (None, 16)           528         dropout_1[0][0]                  \n",
      "__________________________________________________________________________________________________\n",
      "dense_3 (Dense)                 (None, 32)           288         features[0][0]                   \n",
      "__________________________________________________________________________________________________\n",
      "dense_2 (Dense)                 (None, 8)            136         dense_1[0][0]                    \n",
      "__________________________________________________________________________________________________\n",
      "dense_4 (Dense)                 (None, 8)            264         dense_3[0][0]                    \n",
      "__________________________________________________________________________________________________\n",
      "concatenate_1 (Concatenate)     (None, 16)           0           dense_2[0][0]                    \n",
      "                                                                 dense_4[0][0]                    \n",
      "__________________________________________________________________________________________________\n",
      "dense_5 (Dense)                 (None, 32)           544         concatenate_1[0][0]              \n",
      "__________________________________________________________________________________________________\n",
      "dense_6 (Dense)                 (None, 1)            33          dense_5[0][0]                    \n",
      "==================================================================================================\n",
      "Total params: 6,593\n",
      "Trainable params: 6,593\n",
      "Non-trainable params: 0\n",
      "__________________________________________________________________________________________________\n"
     ]
    }
   ],
   "source": [
    "model.summary()"
   ]
  },
  {
   "cell_type": "code",
   "execution_count": 20,
   "metadata": {},
   "outputs": [
    {
     "name": "stdout",
     "output_type": "stream",
     "text": [
      "Train on 422 samples, validate on 106 samples\n",
      "Epoch 1/2\n",
      "422/422 [==============================] - 218s 517ms/step - loss: 14.6154 - metric_function: 6.1957 - val_loss: 5.6673 - val_metric_function: 4.3222\n",
      "Epoch 2/2\n",
      "422/422 [==============================] - 214s 506ms/step - loss: 4.7849 - metric_function: 3.9085 - val_loss: 4.5540 - val_metric_function: 3.8572\n"
     ]
    },
    {
     "data": {
      "text/plain": [
       "<keras.callbacks.callbacks.History at 0x7fefd8465fd0>"
      ]
     },
     "execution_count": 20,
     "metadata": {},
     "output_type": "execute_result"
    }
   ],
   "source": [
    "model.fit(\n",
    "    {\"lungs\": lungs_train, \"features\": features_train},\n",
    "    y_train,\n",
    "    epochs=2, #experimenta mudar este número\n",
    "    batch_size=14,\n",
    "    validation_data = ({\"lungs\": lungs_test, \"features\": features_test}, y_test),\n",
    "    mul\n",
    ")"
   ]
  },
  {
   "cell_type": "code",
   "execution_count": null,
   "metadata": {},
   "outputs": [],
   "source": []
  },
  {
   "cell_type": "code",
   "execution_count": 21,
   "metadata": {},
   "outputs": [],
   "source": [
    "y_pred = scale.inverse_transform(np.array(model.predict([lungs_test,features_test])).reshape(-1,1))\n",
    "y_true = scale.inverse_transform(np.array(y_test).reshape(-1,1)) "
   ]
  },
  {
   "cell_type": "code",
   "execution_count": 22,
   "metadata": {
    "scrolled": true
   },
   "outputs": [
    {
     "name": "stdout",
     "output_type": "stream",
     "text": [
      "([-5.530886650085451], [-3.4708447456359863])\n",
      "([-3.3800275325775173], [-6.185254096984863])\n",
      "([-1.0402375459671034], [-3.424771308898926])\n",
      "([0.597787022590637], [-3.4471042156219482])\n",
      "([-2.2209293842315683], [-6.468137264251709])\n",
      "([0.3500638306140918], [-5.113730430603027])\n",
      "([14.6826114654541], [-5.150026321411133])\n",
      "([-3.94448208808899], [-3.9274041652679443])\n",
      "([0.7165697813034049], [-3.8931472301483154])\n",
      "([-6.038142204284668], [-3.0957353115081787])\n",
      "([4.677616596221924], [-4.13248872756958])\n",
      "([0.2653380334377305], [-5.6801838874816895])\n",
      "([-16.46481704711914], [-5.895273685455322])\n",
      "([-13.420945167541504], [-6.027400970458984])\n",
      "([-3.873737335205078], [-5.738102436065674])\n",
      "([4.515500545501709], [-2.9733831882476807])\n",
      "([-0.3305682241916653], [-3.1789376735687256])\n",
      "([-8.28763484954834], [-5.0095133781433105])\n",
      "([-1.1424745321273815], [-3.777806043624878])\n",
      "([-8.543078422546387], [-6.344699382781982])\n",
      "([-1.5106828212738046], [-5.6081156730651855])\n",
      "([-12.683186531066895], [-6.814350128173828])\n",
      "([-10.831542015075684], [-3.756469488143921])\n",
      "([-2.216851472854614], [-6.401782512664795])\n",
      "([-4.40627431869507], [-3.2432308197021484])\n",
      "([-7.460478782653809], [-5.198187351226807])\n",
      "([-11.658905982971193], [-3.2587623596191406])\n",
      "([-9.081413269042969], [-4.057919502258301])\n",
      "([-1.408633947372435], [-5.803493976593018])\n",
      "([-9.107582092285156], [-5.985698699951172])\n",
      "([-3.1304659843444846], [-5.203652381896973])\n",
      "([-5.947910785675047], [-5.9700446128845215])\n",
      "([-9.379955291748047], [-3.886044502258301])\n",
      "([-0.5767410397529591], [-3.234229564666748])\n",
      "([-3.4443292617797874], [-6.6273193359375])\n",
      "([-4.070408821105955], [-3.7808258533477783])\n",
      "([-1.1424745321273815], [-3.8216848373413086])\n",
      "([-0.12898512184619818], [-3.526573657989502])\n",
      "([-1.1790502071380609], [-5.053844451904297])\n",
      "([-8.931896209716799], [-6.490089416503906])\n",
      "([-4.289627552032469], [-3.989579200744629])\n",
      "([-6.5318942070007315], [-4.9163055419921875])\n",
      "([-4.980366706848147], [-4.006863594055176])\n",
      "([-10.939917564392092], [-3.200951099395752])\n",
      "([0.6937716007232687], [-5.144330978393555])\n",
      "([-3.94448208808899], [-3.868614435195923])\n",
      "([-8.189459800720215], [-3.2044923305511475])\n",
      "([-4.40627431869507], [-3.2316644191741943])\n",
      "([-8.91279411315918], [-5.509964466094971])\n",
      "([-2.0166771411895774], [-6.081798553466797])\n",
      "([0.01665963791310674], [-3.4044694900512695])\n",
      "([-2.216851472854614], [-6.365660190582275])\n",
      "([-3.8140480518341056], [-3.2570173740386963])\n",
      "([-2.315920352935792], [-5.059084892272949])\n",
      "([-3.4435780048370344], [-6.617855548858643])\n",
      "([-4.497841835021971], [-6.4203338623046875])\n",
      "([-4.548924922943117], [-3.6611719131469727])\n",
      "([-3.0797419548034686], [-6.043185234069824])\n",
      "([-0.658932805061338], [-3.301064968109131])\n",
      "([-28.182575225830078], [-3.087817430496216])\n",
      "([-0.4374125897884369], [-3.416109800338745])\n",
      "([-2.584053516387938], [-3.0904617309570312])\n",
      "([-5.131120681762695], [-4.055395126342773])\n",
      "([-11.658905982971193], [-3.2969846725463867])\n",
      "([-15.030662536621092], [-3.856049060821533])\n",
      "([11.225947380065918], [-6.577512741088867])\n",
      "([0.2653380334377305], [-5.683456897735596])\n",
      "([-0.19162534177303453], [-6.4721999168396])\n",
      "([3.9701631069183336], [-3.1733217239379883])\n",
      "([-2.135975122451782], [-3.422497272491455])\n",
      "([-5.530886650085451], [-3.4754796028137207])\n",
      "([-5.947910785675047], [-5.949367046356201])\n",
      "([-0.5684723854064933], [-3.4988625049591064])\n",
      "([-9.214885711669924], [-3.6165313720703125])\n",
      "([-11.658905982971193], [-3.26452898979187])\n",
      "([-1.408633947372435], [-5.818159580230713])\n",
      "([-3.4103143215179426], [-3.7233340740203857])\n",
      "([-4.070408821105955], [-3.7843875885009766])\n",
      "([-4.513049125671386], [-3.761650800704956])\n",
      "([-0.9299216866493228], [-4.256478309631348])\n",
      "([-8.003376960754393], [-5.165304660797119])\n",
      "([-8.28763484954834], [-4.974538326263428])\n",
      "([-3.4443292617797874], [-6.621460914611816])\n",
      "([1.8965998888015752], [-3.2126657962799072])\n",
      "([-0.8007971048355095], [-4.05832052230835])\n",
      "([7.197137832641601], [-4.314981937408447])\n",
      "([-10.818152427673338], [-3.550143241882324])\n",
      "([-4.40627431869507], [-3.2255632877349854])\n",
      "([-15.329545021057129], [-3.280860185623169])\n",
      "([-4.808091163635257], [-3.5534775257110596])\n",
      "([-10.778018951416014], [-3.551982879638672])\n",
      "([-1.5641642808914191], [-3.511254072189331])\n",
      "([-14.033411979675293], [-4.125061511993408])\n",
      "([-8.515748977661135], [-3.75199818611145])\n",
      "([-17.042802810668945], [-4.00153923034668])\n",
      "([-3.4103143215179426], [-3.715625762939453])\n",
      "([0.656382143497468], [-3.556934356689453])\n",
      "([-16.46481704711914], [-5.805323600769043])\n",
      "([1.4750059843063343], [-3.505147695541382])\n",
      "([-6.041440010070803], [-3.4480443000793457])\n",
      "([-3.646254301071168], [-4.997888088226318])\n",
      "([7.331258296966552], [-6.063717365264893])\n",
      "([-8.28763484954834], [-4.984132289886475])\n",
      "([-9.381847381591797], [-3.8864991664886475])\n",
      "([0.01665963791310674], [-3.447303533554077])\n",
      "([-1.4017115831375109], [-5.018407344818115])\n"
     ]
    }
   ],
   "source": [
    "for i in zip(y_true.tolist(),y_pred.tolist()):\n",
    "    print(i)"
   ]
  },
  {
   "cell_type": "code",
   "execution_count": 23,
   "metadata": {},
   "outputs": [
    {
     "name": "stdout",
     "output_type": "stream",
     "text": [
      "0.00145626068115412\n",
      "25.094757795333862\n",
      "4.55395464975176\n",
      "[[2.06004190e+00]\n",
      " [2.80522656e+00]\n",
      " [2.38453376e+00]\n",
      " [4.04489124e+00]\n",
      " [4.24720788e+00]\n",
      " [5.46379426e+00]\n",
      " [1.98326378e+01]\n",
      " [1.70779228e-02]\n",
      " [4.60971701e+00]\n",
      " [2.94240689e+00]\n",
      " [8.81010532e+00]\n",
      " [5.94552192e+00]\n",
      " [1.05695434e+01]\n",
      " [7.39354420e+00]\n",
      " [1.86436510e+00]\n",
      " [7.48888373e+00]\n",
      " [2.84836945e+00]\n",
      " [3.27812147e+00]\n",
      " [2.63533151e+00]\n",
      " [2.19837904e+00]\n",
      " [4.09743285e+00]\n",
      " [5.86883640e+00]\n",
      " [7.07507253e+00]\n",
      " [4.18493104e+00]\n",
      " [1.16304350e+00]\n",
      " [2.26229143e+00]\n",
      " [8.40014362e+00]\n",
      " [5.02349377e+00]\n",
      " [4.39486003e+00]\n",
      " [3.12188339e+00]\n",
      " [2.07318640e+00]\n",
      " [2.21338272e-02]\n",
      " [5.49391079e+00]\n",
      " [2.65748852e+00]\n",
      " [3.18299007e+00]\n",
      " [2.89582968e-01]\n",
      " [2.67921031e+00]\n",
      " [3.39758854e+00]\n",
      " [3.87479424e+00]\n",
      " [2.44180679e+00]\n",
      " [3.00048351e-01]\n",
      " [1.61558867e+00]\n",
      " [9.73503113e-01]\n",
      " [7.73896646e+00]\n",
      " [5.83810258e+00]\n",
      " [7.58676529e-02]\n",
      " [4.98496747e+00]\n",
      " [1.17460990e+00]\n",
      " [3.40282965e+00]\n",
      " [4.06512141e+00]\n",
      " [3.42112913e+00]\n",
      " [4.14880872e+00]\n",
      " [5.57030678e-01]\n",
      " [2.74316454e+00]\n",
      " [3.17427754e+00]\n",
      " [1.92249203e+00]\n",
      " [8.87753010e-01]\n",
      " [2.96344328e+00]\n",
      " [2.64213216e+00]\n",
      " [2.50947578e+01]\n",
      " [2.97869721e+00]\n",
      " [5.06408215e-01]\n",
      " [1.07572556e+00]\n",
      " [8.36192131e+00]\n",
      " [1.11746135e+01]\n",
      " [1.78034601e+01]\n",
      " [5.94879493e+00]\n",
      " [6.28057458e+00]\n",
      " [7.14348483e+00]\n",
      " [1.28652215e+00]\n",
      " [2.05540705e+00]\n",
      " [1.45626068e-03]\n",
      " [2.93039012e+00]\n",
      " [5.59835434e+00]\n",
      " [8.39437699e+00]\n",
      " [4.40952563e+00]\n",
      " [3.13019753e-01]\n",
      " [2.86021233e-01]\n",
      " [7.51398325e-01]\n",
      " [3.32655662e+00]\n",
      " [2.83807230e+00]\n",
      " [3.31309652e+00]\n",
      " [3.17713165e+00]\n",
      " [5.10926569e+00]\n",
      " [3.25752342e+00]\n",
      " [1.15121198e+01]\n",
      " [7.26800919e+00]\n",
      " [1.18071103e+00]\n",
      " [1.20486848e+01]\n",
      " [1.25461364e+00]\n",
      " [7.22603607e+00]\n",
      " [1.94708979e+00]\n",
      " [9.90835047e+00]\n",
      " [4.76375079e+00]\n",
      " [1.30412636e+01]\n",
      " [3.05311441e-01]\n",
      " [4.21331650e+00]\n",
      " [1.06594934e+01]\n",
      " [4.98015368e+00]\n",
      " [2.59339571e+00]\n",
      " [1.35163379e+00]\n",
      " [1.33949757e+01]\n",
      " [3.30350256e+00]\n",
      " [5.49534822e+00]\n",
      " [3.46396317e+00]\n",
      " [3.61669576e+00]]\n"
     ]
    }
   ],
   "source": [
    "print(abs(y_true - y_pred).min())\n",
    "print(abs(y_true - y_pred).max())\n",
    "print(abs(y_true - y_pred).mean())\n",
    "print(abs(y_pred - y_true))"
   ]
  },
  {
   "cell_type": "code",
   "execution_count": 24,
   "metadata": {},
   "outputs": [],
   "source": [
    "#model.save_weights('model_cnn_3d_minimal_v2')"
   ]
  },
  {
   "cell_type": "code",
   "execution_count": 25,
   "metadata": {},
   "outputs": [],
   "source": [
    "#model_test.load_weights('model_cnn_3d_minimal_v1000')"
   ]
  },
  {
   "cell_type": "code",
   "execution_count": null,
   "metadata": {},
   "outputs": [],
   "source": []
  },
  {
   "cell_type": "code",
   "execution_count": 28,
   "metadata": {},
   "outputs": [],
   "source": [
    "#model.layers[1].get_weights()[1]"
   ]
  },
  {
   "cell_type": "code",
   "execution_count": 29,
   "metadata": {},
   "outputs": [],
   "source": [
    "# model.layers[1].set_weights(model.layers[1].get_weights())"
   ]
  },
  {
   "cell_type": "code",
   "execution_count": null,
   "metadata": {},
   "outputs": [],
   "source": []
  }
 ],
 "metadata": {
  "kernelspec": {
   "display_name": "Python 3",
   "language": "python",
   "name": "python3"
  },
  "language_info": {
   "codemirror_mode": {
    "name": "ipython",
    "version": 3
   },
   "file_extension": ".py",
   "mimetype": "text/x-python",
   "name": "python",
   "nbconvert_exporter": "python",
   "pygments_lexer": "ipython3",
   "version": "3.7.7"
  }
 },
 "nbformat": 4,
 "nbformat_minor": 4
}
