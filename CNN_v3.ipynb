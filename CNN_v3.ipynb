{
 "cells": [
  {
   "cell_type": "code",
   "execution_count": 1,
   "metadata": {},
   "outputs": [],
   "source": [
    "import pandas as pd\n",
    "import numpy as np\n",
    "import pydicom \n",
    "import os\n",
    "import matplotlib.pyplot as plt\n",
    "\n",
    "import tensorflow as tf\n",
    "import keras\n",
    "from keras.models import Model, Sequential\n",
    "from keras.layers import Concatenate, Dense, Input, concatenate\n",
    "from keras.layers import Dense, Dropout, Conv2D, MaxPool2D, AveragePooling2D, Flatten\n",
    "\n",
    "from sklearn.preprocessing import MinMaxScaler"
   ]
  },
  {
   "cell_type": "code",
   "execution_count": 2,
   "metadata": {},
   "outputs": [],
   "source": [
    "def load_best_slices(path):\n",
    "    ind = []\n",
    "    for file in os.listdir(path):\n",
    "        if file.split('.')[1] == 'txt':\n",
    "            ind.append(file.split('.')[0])\n",
    "        \n",
    "    df = pd.DataFrame(index = ind, columns= ['CT'])\n",
    "    for ind in df.index:\n",
    "        df.loc[ind].CT = np.loadtxt(path + ind + '.txt')\n",
    "    \n",
    "    return df\n",
    "\n",
    "df = load_best_slices('best_lung_slice/')"
   ]
  },
  {
   "cell_type": "code",
   "execution_count": 3,
   "metadata": {},
   "outputs": [],
   "source": [
    "def custom_loss_function(original_array):\n",
    "    original_array = original_array.astype('float32')\n",
    "\n",
    "    def loss_function(y_true, y_pred):\n",
    "        \n",
    "        pred = un_scaler(y_pred, original_array)\n",
    "        true = un_scaler(y_true, original_array)\n",
    "        diff = abs(pred-true)\n",
    "        \n",
    "        return tf.reduce_mean(diff**4, axis=-1)**.25\n",
    "    \n",
    "    return loss_function\n",
    "\n",
    "def custom_metric_function(original_array):\n",
    "    original_array = original_array.astype('float32')\n",
    "\n",
    "    def metric_function(y_true, y_pred):\n",
    "        \n",
    "        pred = un_scaler(y_pred, original_array)\n",
    "        true = un_scaler(y_true, original_array)\n",
    "        diff = abs(pred-true)\n",
    "        diff = tf.where(diff > 7.5, 7.5, diff)\n",
    "        diff = tf.where(diff < 0.5, 0.5, diff)\n",
    "        \n",
    "        return tf.reduce_mean(diff, axis=-1)\n",
    "    \n",
    "    return metric_function"
   ]
  },
  {
   "cell_type": "code",
   "execution_count": 4,
   "metadata": {},
   "outputs": [],
   "source": [
    "df = df.reset_index()\n",
    "df = df.rename(columns = {'index' : 'Patient'})"
   ]
  },
  {
   "cell_type": "code",
   "execution_count": 5,
   "metadata": {},
   "outputs": [],
   "source": [
    "features = pd.read_csv('features.csv')\n",
    "df = df.merge(features, on= 'Patient')"
   ]
  },
  {
   "cell_type": "code",
   "execution_count": 6,
   "metadata": {},
   "outputs": [],
   "source": [
    "linear_data_all = pd.read_csv('patient_slope_intercept.csv', index_col=0)\n",
    "result = pd.DataFrame(index = df.Patient, columns = ['slope'])\n",
    "    \n",
    "for ind in result.index:\n",
    "    result.loc[ind].slope = linear_data_all.loc[ind].slope\n",
    "\n",
    "df = df.merge(result, on='Patient')\n",
    "df.iloc[:,2:] = df.iloc[:,2:].astype('float32')"
   ]
  },
  {
   "cell_type": "code",
   "execution_count": 7,
   "metadata": {},
   "outputs": [],
   "source": [
    "#df.info()"
   ]
  },
  {
   "cell_type": "code",
   "execution_count": 8,
   "metadata": {},
   "outputs": [],
   "source": [
    "dataset = df.values[:,1:]"
   ]
  },
  {
   "cell_type": "code",
   "execution_count": 9,
   "metadata": {},
   "outputs": [],
   "source": [
    "scaler_features = MinMaxScaler()\n",
    "dataset[:,1:-1] = scaler_features.fit_transform(dataset[:,1:-1])"
   ]
  },
  {
   "cell_type": "code",
   "execution_count": 10,
   "metadata": {},
   "outputs": [],
   "source": [
    "def my_scaler(array):\n",
    "    max_ = array.max()\n",
    "    min_ = array.min()\n",
    "    y = (array-min_)/(max_-min_)\n",
    "    return 0.5*y + 0.25\n",
    "\n",
    "def un_scaler(array, original_array):\n",
    "    max_ = original_array.max()\n",
    "    min_ = original_array.min()\n",
    "    y = 2*(array - 0.25)\n",
    "    return (max_-min_)*y + min_\n",
    "\n",
    "#y_scaled = my_scaler(result)\n",
    "# y = un_scaler(y_scaled, result)"
   ]
  },
  {
   "cell_type": "code",
   "execution_count": 11,
   "metadata": {},
   "outputs": [],
   "source": [
    "scaled_dataset = np.copy(dataset)\n",
    "scaled_dataset[:,-1] = my_scaler(scaled_dataset[:,-1])\n",
    "\n",
    "#un_scaler(****, dataset[:,-1])"
   ]
  },
  {
   "cell_type": "code",
   "execution_count": 12,
   "metadata": {},
   "outputs": [],
   "source": [
    "#just to set the values of the lung matrices between 0 and 1\n",
    "scaled_dataset[:,0] = scaled_dataset[:,0]/10"
   ]
  },
  {
   "cell_type": "code",
   "execution_count": 13,
   "metadata": {},
   "outputs": [],
   "source": [
    "from sklearn.model_selection import train_test_split\n",
    "X_train, X_test, y_train, y_test = train_test_split(scaled_dataset[:,:-1], scaled_dataset[:,-1], test_size=0.2)"
   ]
  },
  {
   "cell_type": "code",
   "execution_count": 14,
   "metadata": {},
   "outputs": [],
   "source": [
    "lungs_train = []\n",
    "for i in range(X_train[:,0].shape[0]):\n",
    "    lungs_train.append(X_train[:,0][0].astype(np.float32))\n",
    "\n",
    "lungs_train = np.array(lungs_train)    \n",
    "lungs_train = lungs_train.reshape(X_train[:,0].shape[0], 512, 512, 1)\n",
    "\n",
    "lungs_test = []\n",
    "for i in range(X_test[:,0].shape[0]):\n",
    "    lungs_test.append(X_test[:,0][0].astype(np.float32))\n",
    "\n",
    "lungs_test = np.array(lungs_test)    \n",
    "lungs_test = lungs_test.reshape(X_test[:,0].shape[0], 512, 512, 1)"
   ]
  },
  {
   "cell_type": "code",
   "execution_count": 15,
   "metadata": {},
   "outputs": [],
   "source": [
    "features_train = []\n",
    "for i in range(X_train[:,1:].shape[0]):\n",
    "    features_train.append(X_train[i,1:].astype(np.float32))\n",
    "    \n",
    "features_test = []\n",
    "for i in range(X_test[:,1:].shape[0]):\n",
    "    features_test.append(X_test[i,1:].astype(np.float32))"
   ]
  },
  {
   "cell_type": "code",
   "execution_count": 16,
   "metadata": {},
   "outputs": [],
   "source": [
    "features_train = np.array(np.array(features_train))\n",
    "features_train = features_train.reshape(features_train.shape[0], 8)\n",
    "\n",
    "features_test = np.array(np.array(features_test))\n",
    "features_test = features_test.reshape(features_test.shape[0], 8)"
   ]
  },
  {
   "cell_type": "code",
   "execution_count": null,
   "metadata": {},
   "outputs": [],
   "source": [
    "inp_conv = Input(shape = (512,512,1), name='lungs')\n",
    "\n",
    "model_conv = Conv2D(16, kernel_size=(2,2), strides=(1,1), padding='valid', activation='relu')(inp_conv)\n",
    "model_conv = Conv2D(16, kernel_size=(2,2), strides=(1,1), padding='valid', activation='relu')(model_conv)\n",
    "model_conv = AveragePooling2D(pool_size=(3,3))(model_conv)\n",
    "model_conv = Dropout(0.25)(model_conv)\n",
    "model_conv = Conv2D(32, kernel_size=(3,3), strides=(1,1), padding='valid', activation='relu')(model_conv)\n",
    "#model_conv = MaxPool2D(pool_size=(2,2))(model_conv)\n",
    "model_conv = Conv2D(32, kernel_size=(3,3), strides=(1,1), padding='valid', activation='relu')(model_conv)\n",
    "#model_conv = MaxPool2D(pool_size=(2,2))(model_conv)\n",
    "model_conv = AveragePooling2D(pool_size=(3,3))(model_conv)\n",
    "model_conv = Dropout(0.25)(model_conv)\n",
    "model_conv = Conv2D(64, kernel_size=(3,3), strides=(1,1), padding='valid', activation='relu')(model_conv)\n",
    "model_conv = Conv2D(64, kernel_size=(3,3), strides=(1,1), padding='valid', activation='relu')(model_conv)\n",
    "model_conv = AveragePooling2D(pool_size=(3,3))(model_conv)\n",
    "model_conv = MaxPool2D(pool_size=(2,2))(model_conv)\n",
    "model_conv = Dropout(0.25)(model_conv)\n",
    "model_conv = Flatten()(model_conv)\n",
    "model_conv = Dense(16, activation='relu')(model_conv)\n",
    "outp_conv = Dense(8, activation='sigmoid')(model_conv)\n",
    "\n",
    "inp_feat = Input(shape = (8,), name='features')\n",
    "model_feat = Dense(16, activation='relu')(inp_feat)\n",
    "outp_feat = Dense(8, activation='relu')(model_feat)\n",
    "\n",
    "model_conc = concatenate([outp_conv, outp_feat])\n",
    "model_conc = Dense(32, activation='relu')(model_conc)\n",
    "model_conc = Dense(16, activation='relu')(model_conc)\n",
    "model_conc = Dense(8, activation='relu')(model_conc)\n",
    "output = Dense(1, activation='sigmoid')(model_conc)\n",
    "\n",
    "model = Model(inputs=[inp_conv, inp_feat], outputs=output, name=\"cnn_nn_model\")"
   ]
  },
  {
   "cell_type": "code",
   "execution_count": null,
   "metadata": {},
   "outputs": [],
   "source": [
    "model.summary()"
   ]
  },
  {
   "cell_type": "code",
   "execution_count": null,
   "metadata": {},
   "outputs": [],
   "source": [
    "model.compile(loss=custom_loss_function(dataset[:,-1]), metrics=[custom_metric_function(dataset[:,-1])], optimizer='adam')"
   ]
  },
  {
   "cell_type": "code",
   "execution_count": null,
   "metadata": {},
   "outputs": [],
   "source": [
    "model.fit(\n",
    "    {\"lungs\": lungs_train, \"features\": features_train},\n",
    "    y_train,\n",
    "    epochs=2, #experimenta mudar este número\n",
    "    batch_size=28,\n",
    "    validation_data = ({\"lungs\": lungs_test, \"features\": features_test}, y_test)\n",
    ")"
   ]
  },
  {
   "cell_type": "code",
   "execution_count": null,
   "metadata": {},
   "outputs": [],
   "source": [
    "un_scaler(y_test.reshape(-1,1), dataset[:,-1])"
   ]
  },
  {
   "cell_type": "code",
   "execution_count": null,
   "metadata": {
    "scrolled": true
   },
   "outputs": [],
   "source": [
    "un_scaler(model.predict(([lungs_test, features_test])), dataset[:,-1])"
   ]
  },
  {
   "cell_type": "code",
   "execution_count": null,
   "metadata": {},
   "outputs": [],
   "source": [
    "#diz-me que obtemos um número pequenino aqui para eu ficar feliz :D \n",
    "print(abs(un_scaler(model.predict(([lungs_test, features_test])), dataset[:,-1]) - un_scaler(y_test.reshape(-1,1), dataset[:,-1])).max())\n",
    "print(abs(un_scaler(model.predict(([lungs_test, features_test])), dataset[:,-1]) - un_scaler(y_test.reshape(-1,1), dataset[:,-1])).min())\n",
    "print(abs(un_scaler(model.predict(([lungs_test, features_test])), dataset[:,-1]) - un_scaler(y_test.reshape(-1,1), dataset[:,-1])).mean())"
   ]
  },
  {
   "cell_type": "code",
   "execution_count": null,
   "metadata": {},
   "outputs": [],
   "source": [
    "un_scaler(model.predict(([lungs_test, features_test])), dataset[:,-1]) - un_scaler(y_test.reshape(-1,1), dataset[:,-1])"
   ]
  },
  {
   "cell_type": "code",
   "execution_count": null,
   "metadata": {},
   "outputs": [],
   "source": [
    "print(abs(model.predict([lungs_test, features_test])  -y_test.reshape(-1,1)).max())\n",
    "print(abs(model.predict([lungs_test, features_test])  -y_test.reshape(-1,1)).min())\n",
    "print(abs(model.predict([lungs_test, features_test])  -y_test.reshape(-1,1)).mean())"
   ]
  },
  {
   "cell_type": "code",
   "execution_count": null,
   "metadata": {},
   "outputs": [],
   "source": [
    "#last version"
   ]
  },
  {
   "cell_type": "code",
   "execution_count": null,
   "metadata": {},
   "outputs": [],
   "source": []
  },
  {
   "cell_type": "code",
   "execution_count": null,
   "metadata": {},
   "outputs": [],
   "source": [
    "tf.compat.v1.enable_eager_execution()"
   ]
  },
  {
   "cell_type": "code",
   "execution_count": null,
   "metadata": {},
   "outputs": [],
   "source": [
    "tf.executing_eagerly() "
   ]
  },
  {
   "cell_type": "code",
   "execution_count": null,
   "metadata": {},
   "outputs": [],
   "source": [
    "tf.square(dataset[:,-1].astype('float32'))"
   ]
  },
  {
   "cell_type": "code",
   "execution_count": null,
   "metadata": {},
   "outputs": [],
   "source": [
    "un_scaler(1.5,dataset[:,-1])"
   ]
  },
  {
   "cell_type": "code",
   "execution_count": null,
   "metadata": {},
   "outputs": [],
   "source": []
  }
 ],
 "metadata": {
  "kernelspec": {
   "display_name": "Python 3",
   "language": "python",
   "name": "python3"
  },
  "language_info": {
   "codemirror_mode": {
    "name": "ipython",
    "version": 3
   },
   "file_extension": ".py",
   "mimetype": "text/x-python",
   "name": "python",
   "nbconvert_exporter": "python",
   "pygments_lexer": "ipython3",
   "version": "3.7.6"
  }
 },
 "nbformat": 4,
 "nbformat_minor": 4
}
