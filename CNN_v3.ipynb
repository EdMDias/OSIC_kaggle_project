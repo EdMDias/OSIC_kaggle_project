{
 "cells": [
  {
   "cell_type": "code",
   "execution_count": 1,
   "metadata": {},
   "outputs": [
    {
     "name": "stderr",
     "output_type": "stream",
     "text": [
      "Using TensorFlow backend.\n"
     ]
    }
   ],
   "source": [
    "import pandas as pd\n",
    "import numpy as np\n",
    "import pydicom \n",
    "import os\n",
    "import matplotlib.pyplot as plt\n",
    "\n",
    "import keras\n",
    "from keras.models import Model, Sequential\n",
    "from keras.layers import Concatenate, Dense, Input, concatenate\n",
    "from keras.layers import Dense, Dropout, Conv2D, MaxPool2D, AveragePooling2D, Flatten\n",
    "\n",
    "from sklearn.preprocessing import MinMaxScaler"
   ]
  },
  {
   "cell_type": "code",
   "execution_count": 2,
   "metadata": {},
   "outputs": [],
   "source": [
    "def load_best_slices(path):\n",
    "    ind = []\n",
    "    for file in os.listdir(path):\n",
    "        if file.split('.')[1] == 'txt':\n",
    "            ind.append(file.split('.')[0])\n",
    "        \n",
    "    df = pd.DataFrame(index = ind, columns= ['CT'])\n",
    "    for ind in df.index:\n",
    "        df.loc[ind].CT = np.loadtxt(path + ind + '.txt')\n",
    "    \n",
    "    return df\n",
    "\n",
    "df = load_best_slices('best_lung_slice/')"
   ]
  },
  {
   "cell_type": "code",
   "execution_count": 3,
   "metadata": {},
   "outputs": [],
   "source": [
    "df = df.reset_index()\n",
    "df = df.rename(columns = {'index' : 'Patient'})"
   ]
  },
  {
   "cell_type": "code",
   "execution_count": 4,
   "metadata": {},
   "outputs": [],
   "source": [
    "features = pd.read_csv('features.csv')\n",
    "df = df.merge(features, on= 'Patient')"
   ]
  },
  {
   "cell_type": "code",
   "execution_count": 5,
   "metadata": {},
   "outputs": [],
   "source": [
    "linear_data_all = pd.read_csv('patient_slope_intercept.csv', index_col=0)\n",
    "result = pd.DataFrame(index = df.Patient, columns = ['slope'])\n",
    "    \n",
    "for ind in result.index:\n",
    "    result.loc[ind].slope = linear_data_all.loc[ind].slope\n",
    "\n",
    "df = df.merge(result, on='Patient')"
   ]
  },
  {
   "cell_type": "code",
   "execution_count": 6,
   "metadata": {},
   "outputs": [
    {
     "data": {
      "text/html": [
       "<div>\n",
       "<style scoped>\n",
       "    .dataframe tbody tr th:only-of-type {\n",
       "        vertical-align: middle;\n",
       "    }\n",
       "\n",
       "    .dataframe tbody tr th {\n",
       "        vertical-align: top;\n",
       "    }\n",
       "\n",
       "    .dataframe thead th {\n",
       "        text-align: right;\n",
       "    }\n",
       "</style>\n",
       "<table border=\"1\" class=\"dataframe\">\n",
       "  <thead>\n",
       "    <tr style=\"text-align: right;\">\n",
       "      <th></th>\n",
       "      <th>Patient</th>\n",
       "      <th>CT</th>\n",
       "      <th>Percent</th>\n",
       "      <th>Age</th>\n",
       "      <th>FirstWeek</th>\n",
       "      <th>FirstFVC</th>\n",
       "      <th>Height</th>\n",
       "      <th>Male</th>\n",
       "      <th>Ex-smoker</th>\n",
       "      <th>Never smoked</th>\n",
       "      <th>slope</th>\n",
       "    </tr>\n",
       "  </thead>\n",
       "  <tbody>\n",
       "    <tr>\n",
       "      <th>0</th>\n",
       "      <td>ID00329637202285906759848</td>\n",
       "      <td>[[0.0, 0.0, 0.0, 0.0, 0.0, 0.0, 0.0, 0.0, 0.0,...</td>\n",
       "      <td>66.249410</td>\n",
       "      <td>69</td>\n",
       "      <td>39</td>\n",
       "      <td>2805</td>\n",
       "      <td>140.940609</td>\n",
       "      <td>1</td>\n",
       "      <td>1</td>\n",
       "      <td>0</td>\n",
       "      <td>-1.04024</td>\n",
       "    </tr>\n",
       "    <tr>\n",
       "      <th>1</th>\n",
       "      <td>ID00225637202259339837603</td>\n",
       "      <td>[[0.0, 0.0, 0.0, 0.0, 0.0, 0.0, 0.0, 0.0, 0.0,...</td>\n",
       "      <td>80.172195</td>\n",
       "      <td>77</td>\n",
       "      <td>13</td>\n",
       "      <td>1583</td>\n",
       "      <td>113.047204</td>\n",
       "      <td>0</td>\n",
       "      <td>0</td>\n",
       "      <td>1</td>\n",
       "      <td>-7.46048</td>\n",
       "    </tr>\n",
       "    <tr>\n",
       "      <th>2</th>\n",
       "      <td>ID00364637202296074419422</td>\n",
       "      <td>[[0.0, 0.0, 0.0, 0.0, 0.0, 0.0, 0.0, 0.0, 0.0,...</td>\n",
       "      <td>91.171429</td>\n",
       "      <td>64</td>\n",
       "      <td>37</td>\n",
       "      <td>3191</td>\n",
       "      <td>155.947610</td>\n",
       "      <td>1</td>\n",
       "      <td>1</td>\n",
       "      <td>0</td>\n",
       "      <td>-15.0307</td>\n",
       "    </tr>\n",
       "    <tr>\n",
       "      <th>3</th>\n",
       "      <td>ID00130637202220059448013</td>\n",
       "      <td>[[0.0, 0.0, 0.0, 0.0, 0.0, 0.0, 0.0, 0.0, 0.0,...</td>\n",
       "      <td>69.852029</td>\n",
       "      <td>65</td>\n",
       "      <td>11</td>\n",
       "      <td>1690</td>\n",
       "      <td>111.074597</td>\n",
       "      <td>0</td>\n",
       "      <td>0</td>\n",
       "      <td>1</td>\n",
       "      <td>-8.00338</td>\n",
       "    </tr>\n",
       "    <tr>\n",
       "      <th>4</th>\n",
       "      <td>ID00115637202211874187958</td>\n",
       "      <td>[[0.0, 0.0, 0.0, 0.0, 0.0, 0.0, 0.0, 0.0, 0.0,...</td>\n",
       "      <td>77.749298</td>\n",
       "      <td>77</td>\n",
       "      <td>15</td>\n",
       "      <td>2548</td>\n",
       "      <td>134.062927</td>\n",
       "      <td>1</td>\n",
       "      <td>1</td>\n",
       "      <td>0</td>\n",
       "      <td>-6.40338</td>\n",
       "    </tr>\n",
       "  </tbody>\n",
       "</table>\n",
       "</div>"
      ],
      "text/plain": [
       "                     Patient  \\\n",
       "0  ID00329637202285906759848   \n",
       "1  ID00225637202259339837603   \n",
       "2  ID00364637202296074419422   \n",
       "3  ID00130637202220059448013   \n",
       "4  ID00115637202211874187958   \n",
       "\n",
       "                                                  CT    Percent  Age  \\\n",
       "0  [[0.0, 0.0, 0.0, 0.0, 0.0, 0.0, 0.0, 0.0, 0.0,...  66.249410   69   \n",
       "1  [[0.0, 0.0, 0.0, 0.0, 0.0, 0.0, 0.0, 0.0, 0.0,...  80.172195   77   \n",
       "2  [[0.0, 0.0, 0.0, 0.0, 0.0, 0.0, 0.0, 0.0, 0.0,...  91.171429   64   \n",
       "3  [[0.0, 0.0, 0.0, 0.0, 0.0, 0.0, 0.0, 0.0, 0.0,...  69.852029   65   \n",
       "4  [[0.0, 0.0, 0.0, 0.0, 0.0, 0.0, 0.0, 0.0, 0.0,...  77.749298   77   \n",
       "\n",
       "   FirstWeek  FirstFVC      Height  Male  Ex-smoker  Never smoked    slope  \n",
       "0         39      2805  140.940609     1          1             0 -1.04024  \n",
       "1         13      1583  113.047204     0          0             1 -7.46048  \n",
       "2         37      3191  155.947610     1          1             0 -15.0307  \n",
       "3         11      1690  111.074597     0          0             1 -8.00338  \n",
       "4         15      2548  134.062927     1          1             0 -6.40338  "
      ]
     },
     "execution_count": 6,
     "metadata": {},
     "output_type": "execute_result"
    }
   ],
   "source": [
    "df.head()"
   ]
  },
  {
   "cell_type": "code",
   "execution_count": 7,
   "metadata": {},
   "outputs": [],
   "source": [
    "dataset = df.values[:,1:]"
   ]
  },
  {
   "cell_type": "code",
   "execution_count": 8,
   "metadata": {},
   "outputs": [],
   "source": [
    "scaler_features = MinMaxScaler()\n",
    "dataset[:,1:-1] = scaler_features.fit_transform(dataset[:,1:-1])"
   ]
  },
  {
   "cell_type": "code",
   "execution_count": 9,
   "metadata": {},
   "outputs": [],
   "source": [
    "def my_scaler(array):\n",
    "    max_ = array.max()\n",
    "    min_ = array.min()\n",
    "    y = (array-min_)/(max_-min_)\n",
    "    return 0.5*y + 0.25\n",
    "\n",
    "def un_scaler(array, original_array):\n",
    "    max_ = original_array.max()\n",
    "    min_ = original_array.min()\n",
    "    y = 2*(array - 0.25)\n",
    "    return (max_-min_)*y + min_\n",
    "\n",
    "#y_scaled = my_scaler(result)\n",
    "# y = un_scaler(y_scaled, result)"
   ]
  },
  {
   "cell_type": "code",
   "execution_count": 10,
   "metadata": {},
   "outputs": [],
   "source": [
    "scaled_dataset = np.copy(dataset)\n",
    "scaled_dataset[:,-1] = my_scaler(scaled_dataset[:,-1])\n",
    "\n",
    "#un_scaler(****, dataset[:,-1])"
   ]
  },
  {
   "cell_type": "code",
   "execution_count": 11,
   "metadata": {},
   "outputs": [],
   "source": [
    "#just to set the values of the lung matrices between 0 and 1\n",
    "scaled_dataset[:,0] = scaled_dataset[:,0]/10"
   ]
  },
  {
   "cell_type": "code",
   "execution_count": 12,
   "metadata": {},
   "outputs": [],
   "source": [
    "from sklearn.model_selection import train_test_split\n",
    "X_train, X_test, y_train, y_test = train_test_split(scaled_dataset[:,:-1], scaled_dataset[:,-1], test_size=0.2)"
   ]
  },
  {
   "cell_type": "code",
   "execution_count": 13,
   "metadata": {},
   "outputs": [],
   "source": [
    "lungs_train = []\n",
    "for i in range(X_train[:,0].shape[0]):\n",
    "    lungs_train.append(X_train[:,0][0].astype(np.float32))\n",
    "\n",
    "lungs_train = np.array(lungs_train)    \n",
    "lungs_train = lungs_train.reshape(X_train[:,0].shape[0], 512, 512, 1)\n",
    "\n",
    "lungs_test = []\n",
    "for i in range(X_test[:,0].shape[0]):\n",
    "    lungs_test.append(X_test[:,0][0].astype(np.float32))\n",
    "\n",
    "lungs_test = np.array(lungs_test)    \n",
    "lungs_test = lungs_test.reshape(X_test[:,0].shape[0], 512, 512, 1)"
   ]
  },
  {
   "cell_type": "code",
   "execution_count": 14,
   "metadata": {},
   "outputs": [],
   "source": [
    "features_train = []\n",
    "for i in range(X_train[:,1:].shape[0]):\n",
    "    features_train.append(X_train[i,1:].astype(np.float32))\n",
    "    \n",
    "features_test = []\n",
    "for i in range(X_test[:,1:].shape[0]):\n",
    "    features_test.append(X_test[i,1:].astype(np.float32))"
   ]
  },
  {
   "cell_type": "code",
   "execution_count": 15,
   "metadata": {},
   "outputs": [],
   "source": [
    "features_train = np.array(np.array(features_train))\n",
    "features_train = features_train.reshape(features_train.shape[0], 8)\n",
    "\n",
    "features_test = np.array(np.array(features_test))\n",
    "features_test = features_test.reshape(features_test.shape[0], 8)"
   ]
  },
  {
   "cell_type": "code",
   "execution_count": 16,
   "metadata": {},
   "outputs": [],
   "source": [
    "inp_conv = Input(shape = (512,512,1), name='lungs')\n",
    "\n",
    "model_conv = Conv2D(16, kernel_size=(2,2), strides=(1,1), padding='valid', activation='relu')(inp_conv)\n",
    "model_conv = Conv2D(32, kernel_size=(2,2), strides=(1,1), padding='valid', activation='relu')(model_conv)\n",
    "model_conv = MaxPool2D(pool_size=(2,2))(model_conv)\n",
    "model_conv = AveragePooling2D(pool_size=(3,3))(model_conv)\n",
    "model_conv = Dropout(0.25)(model_conv)\n",
    "model_conv = Conv2D(16, kernel_size=(3,3), strides=(1,1), padding='valid', activation='relu')(model_conv)\n",
    "model_conv = Conv2D(32, kernel_size=(3,3), strides=(1,1), padding='valid', activation='relu')(model_conv)\n",
    "model_conv = MaxPool2D(pool_size=(2,2))(model_conv)\n",
    "model_conv = AveragePooling2D(pool_size=(3,3))(model_conv)\n",
    "model_conv = Dropout(0.2)(model_conv)\n",
    "model_conv = Flatten()(model_conv)\n",
    "model_conv = Dense(30, activation='relu')(model_conv)\n",
    "outp_conv = Dense(8, activation='sigmoid')(model_conv)\n",
    "\n",
    "inp_feat = Input(shape = (8,), name='features')\n",
    "model_feat = Dense(16, activation='relu')(inp_feat)\n",
    "outp_feat = Dense(8, activation='relu')(model_feat)\n",
    "\n",
    "model_conc = concatenate([outp_conv, outp_feat])\n",
    "model_conc = Dense(10, activation='relu')(model_conc)\n",
    "model_conc = Dense(7, activation='relu')(model_conc)\n",
    "model_conc = Dense(5, activation='relu')(model_conc)\n",
    "output = Dense(1, activation='sigmoid')(model_conc)\n",
    "\n",
    "model = Model(inputs=[inp_conv, inp_feat], outputs=output, name=\"cnn_nn_model\")"
   ]
  },
  {
   "cell_type": "code",
   "execution_count": 17,
   "metadata": {},
   "outputs": [
    {
     "name": "stdout",
     "output_type": "stream",
     "text": [
      "Model: \"cnn_nn_model\"\n",
      "__________________________________________________________________________________________________\n",
      "Layer (type)                    Output Shape         Param #     Connected to                     \n",
      "==================================================================================================\n",
      "lungs (InputLayer)              (None, 512, 512, 1)  0                                            \n",
      "__________________________________________________________________________________________________\n",
      "conv2d_1 (Conv2D)               (None, 511, 511, 16) 80          lungs[0][0]                      \n",
      "__________________________________________________________________________________________________\n",
      "conv2d_2 (Conv2D)               (None, 510, 510, 32) 2080        conv2d_1[0][0]                   \n",
      "__________________________________________________________________________________________________\n",
      "max_pooling2d_1 (MaxPooling2D)  (None, 255, 255, 32) 0           conv2d_2[0][0]                   \n",
      "__________________________________________________________________________________________________\n",
      "average_pooling2d_1 (AveragePoo (None, 85, 85, 32)   0           max_pooling2d_1[0][0]            \n",
      "__________________________________________________________________________________________________\n",
      "dropout_1 (Dropout)             (None, 85, 85, 32)   0           average_pooling2d_1[0][0]        \n",
      "__________________________________________________________________________________________________\n",
      "conv2d_3 (Conv2D)               (None, 83, 83, 16)   4624        dropout_1[0][0]                  \n",
      "__________________________________________________________________________________________________\n",
      "conv2d_4 (Conv2D)               (None, 81, 81, 32)   4640        conv2d_3[0][0]                   \n",
      "__________________________________________________________________________________________________\n",
      "max_pooling2d_2 (MaxPooling2D)  (None, 40, 40, 32)   0           conv2d_4[0][0]                   \n",
      "__________________________________________________________________________________________________\n",
      "average_pooling2d_2 (AveragePoo (None, 13, 13, 32)   0           max_pooling2d_2[0][0]            \n",
      "__________________________________________________________________________________________________\n",
      "dropout_2 (Dropout)             (None, 13, 13, 32)   0           average_pooling2d_2[0][0]        \n",
      "__________________________________________________________________________________________________\n",
      "flatten_1 (Flatten)             (None, 5408)         0           dropout_2[0][0]                  \n",
      "__________________________________________________________________________________________________\n",
      "features (InputLayer)           (None, 8)            0                                            \n",
      "__________________________________________________________________________________________________\n",
      "dense_1 (Dense)                 (None, 30)           162270      flatten_1[0][0]                  \n",
      "__________________________________________________________________________________________________\n",
      "dense_3 (Dense)                 (None, 16)           144         features[0][0]                   \n",
      "__________________________________________________________________________________________________\n",
      "dense_2 (Dense)                 (None, 8)            248         dense_1[0][0]                    \n",
      "__________________________________________________________________________________________________\n",
      "dense_4 (Dense)                 (None, 8)            136         dense_3[0][0]                    \n",
      "__________________________________________________________________________________________________\n",
      "concatenate_1 (Concatenate)     (None, 16)           0           dense_2[0][0]                    \n",
      "                                                                 dense_4[0][0]                    \n",
      "__________________________________________________________________________________________________\n",
      "dense_5 (Dense)                 (None, 10)           170         concatenate_1[0][0]              \n",
      "__________________________________________________________________________________________________\n",
      "dense_6 (Dense)                 (None, 7)            77          dense_5[0][0]                    \n",
      "__________________________________________________________________________________________________\n",
      "dense_7 (Dense)                 (None, 5)            40          dense_6[0][0]                    \n",
      "__________________________________________________________________________________________________\n",
      "dense_8 (Dense)                 (None, 1)            6           dense_7[0][0]                    \n",
      "==================================================================================================\n",
      "Total params: 174,515\n",
      "Trainable params: 174,515\n",
      "Non-trainable params: 0\n",
      "__________________________________________________________________________________________________\n"
     ]
    }
   ],
   "source": [
    "model.summary()"
   ]
  },
  {
   "cell_type": "code",
   "execution_count": 18,
   "metadata": {},
   "outputs": [],
   "source": [
    "model.compile(loss='mean_squared_error', metrics=['mean_squared_error'], optimizer='adam')"
   ]
  },
  {
   "cell_type": "code",
   "execution_count": null,
   "metadata": {},
   "outputs": [
    {
     "name": "stdout",
     "output_type": "stream",
     "text": [
      "Train on 140 samples, validate on 36 samples\n",
      "Epoch 1/20\n"
     ]
    }
   ],
   "source": [
    "model.fit(\n",
    "    {\"lungs\": lungs_train, \"features\": features_train},\n",
    "    y_train,\n",
    "    epochs=20, #experimenta mudar este número\n",
    "    batch_size=52,\n",
    "    validation_data = ({\"lungs\": lungs_test, \"features\": features_test}, y_test)\n",
    ")"
   ]
  },
  {
   "cell_type": "code",
   "execution_count": null,
   "metadata": {},
   "outputs": [],
   "source": []
  },
  {
   "cell_type": "code",
   "execution_count": null,
   "metadata": {},
   "outputs": [],
   "source": [
    "un_scaler(model.predict(([lungs_test, features_test])), dataset[:,-1])"
   ]
  },
  {
   "cell_type": "code",
   "execution_count": null,
   "metadata": {},
   "outputs": [],
   "source": [
    "#diz-me que obtemos um número pequenino aqui para eu ficar feliz :D \n",
    "print(abs(un_scaler(model.predict(([lungs_test, features_test])), dataset[:,-1]) - un_scaler(y_test.reshape(-1,1), dataset[:,-1])).mean())\n",
    "print(abs(un_scaler(model.predict(([lungs_test, features_test])), dataset[:,-1]) - un_scaler(y_test.reshape(-1,1), dataset[:,-1])).max())\n",
    "print(abs(un_scaler(model.predict(([lungs_test, features_test])), dataset[:,-1]) - un_scaler(y_test.reshape(-1,1), dataset[:,-1])).min())"
   ]
  },
  {
   "cell_type": "code",
   "execution_count": null,
   "metadata": {},
   "outputs": [],
   "source": [
    "un_scaler(model.predict(([lungs_test, features_test])), dataset[:,-1]) - un_scaler(y_test.reshape(-1,1), dataset[:,-1])"
   ]
  },
  {
   "cell_type": "code",
   "execution_count": null,
   "metadata": {},
   "outputs": [],
   "source": [
    "print(abs(model.predict([lungs_test, features_test]) - dataset[:,-1] -y_test.reshape(-1,1)).max())\n",
    "print(abs(model.predict([lungs_test, features_test]) - dataset[:,-1] -y_test.reshape(-1,1)).min())\n",
    "print(abs(model.predict([lungs_test, features_test]) - dataset[:,-1] -y_test.reshape(-1,1)).mean())"
   ]
  },
  {
   "cell_type": "code",
   "execution_count": null,
   "metadata": {},
   "outputs": [],
   "source": []
  },
  {
   "cell_type": "code",
   "execution_count": null,
   "metadata": {},
   "outputs": [],
   "source": [
    "#last version"
   ]
  }
 ],
 "metadata": {
  "kernelspec": {
   "display_name": "Python 3",
   "language": "python",
   "name": "python3"
  },
  "language_info": {
   "codemirror_mode": {
    "name": "ipython",
    "version": 3
   },
   "file_extension": ".py",
   "mimetype": "text/x-python",
   "name": "python",
   "nbconvert_exporter": "python",
   "pygments_lexer": "ipython3",
   "version": "3.7.7"
  }
 },
 "nbformat": 4,
 "nbformat_minor": 4
}
