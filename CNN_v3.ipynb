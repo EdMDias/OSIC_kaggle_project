{
 "cells": [
  {
   "cell_type": "code",
   "execution_count": 1,
   "metadata": {},
   "outputs": [
    {
     "name": "stderr",
     "output_type": "stream",
     "text": [
      "Using TensorFlow backend.\n"
     ]
    }
   ],
   "source": [
    "import pandas as pd\n",
    "import numpy as np\n",
    "import pydicom \n",
    "import os\n",
    "import matplotlib.pyplot as plt\n",
    "\n",
    "import tensorflow as tf\n",
    "import keras\n",
    "from keras.models import Model, Sequential\n",
    "from keras.layers import Concatenate, Dense, Input, concatenate\n",
    "from keras.layers import Dense, Dropout, Conv2D, MaxPool2D, AveragePooling2D, Flatten\n",
    "\n",
    "from sklearn.preprocessing import MinMaxScaler"
   ]
  },
  {
   "cell_type": "code",
   "execution_count": 2,
   "metadata": {},
   "outputs": [],
   "source": [
    "def load_best_slices(path):\n",
    "    ind = []\n",
    "    for file in os.listdir(path):\n",
    "        if file.split('.')[1] == 'txt':\n",
    "            ind.append(file.split('.')[0])\n",
    "        \n",
    "    df = pd.DataFrame(index = ind, columns= ['CT'])\n",
    "    for ind in df.index:\n",
    "        df.loc[ind].CT = np.loadtxt(path + ind + '.txt')\n",
    "    \n",
    "    return df\n",
    "\n",
    "df = load_best_slices('best_lung_slice/')"
   ]
  },
  {
   "cell_type": "code",
   "execution_count": 50,
   "metadata": {},
   "outputs": [],
   "source": [
    "def custom_loss_function(original_array):\n",
    "    original_array = original_array.astype('float32')\n",
    "\n",
    "    def loss_function(y_true, y_pred):\n",
    "        \n",
    "        pred = un_scaler(y_pred, original_array)\n",
    "        true = un_scaler(y_true, original_array)\n",
    "        diff = abs(pred-true)\n",
    "        \n",
    "        return tf.reduce_mean(diff**4, axis=-1)**.25\n",
    "    \n",
    "    return loss_function\n",
    "\n",
    "def custom_metric_function(original_array):\n",
    "    original_array = original_array.astype('float32')\n",
    "\n",
    "    def metric_function(y_true, y_pred):\n",
    "        \n",
    "        pred = un_scaler(y_pred, original_array)\n",
    "        true = un_scaler(y_true, original_array)\n",
    "        diff = abs(pred-true)\n",
    "        diff = tf.where(diff > 7.5, 7.5, diff)\n",
    "        diff = tf.where(diff < 0.5, 0.5, diff)\n",
    "        \n",
    "        return tf.reduce_mean(diff, axis=-1)\n",
    "    \n",
    "    return metric_function"
   ]
  },
  {
   "cell_type": "code",
   "execution_count": 3,
   "metadata": {},
   "outputs": [],
   "source": [
    "df = df.reset_index()\n",
    "df = df.rename(columns = {'index' : 'Patient'})"
   ]
  },
  {
   "cell_type": "code",
   "execution_count": 4,
   "metadata": {},
   "outputs": [],
   "source": [
    "features = pd.read_csv('features.csv')\n",
    "df = df.merge(features, on= 'Patient')"
   ]
  },
  {
   "cell_type": "code",
   "execution_count": 5,
   "metadata": {},
   "outputs": [],
   "source": [
    "linear_data_all = pd.read_csv('patient_slope_intercept.csv', index_col=0)\n",
    "result = pd.DataFrame(index = df.Patient, columns = ['slope'])\n",
    "    \n",
    "for ind in result.index:\n",
    "    result.loc[ind].slope = linear_data_all.loc[ind].slope\n",
    "\n",
    "df = df.merge(result, on='Patient')\n",
    "df.iloc[:,2:] = df.iloc[:,2:].astype('float32')"
   ]
  },
  {
   "cell_type": "code",
   "execution_count": 6,
   "metadata": {},
   "outputs": [
    {
     "name": "stdout",
     "output_type": "stream",
     "text": [
      "<class 'pandas.core.frame.DataFrame'>\n",
      "Int64Index: 176 entries, 0 to 175\n",
      "Data columns (total 11 columns):\n",
      " #   Column        Non-Null Count  Dtype  \n",
      "---  ------        --------------  -----  \n",
      " 0   Patient       176 non-null    object \n",
      " 1   CT            176 non-null    object \n",
      " 2   Percent       176 non-null    float32\n",
      " 3   Age           176 non-null    float32\n",
      " 4   FirstWeek     176 non-null    float32\n",
      " 5   FirstFVC      176 non-null    float32\n",
      " 6   Height        176 non-null    float32\n",
      " 7   Male          176 non-null    float32\n",
      " 8   Ex-smoker     176 non-null    float32\n",
      " 9   Never smoked  176 non-null    float32\n",
      " 10  slope         176 non-null    float32\n",
      "dtypes: float32(9), object(2)\n",
      "memory usage: 10.3+ KB\n"
     ]
    }
   ],
   "source": [
    "#df.info()"
   ]
  },
  {
   "cell_type": "code",
   "execution_count": 7,
   "metadata": {},
   "outputs": [],
   "source": [
    "dataset = df.values[:,1:]"
   ]
  },
  {
   "cell_type": "code",
   "execution_count": 9,
   "metadata": {},
   "outputs": [],
   "source": [
    "scaler_features = MinMaxScaler()\n",
    "dataset[:,1:-1] = scaler_features.fit_transform(dataset[:,1:-1])"
   ]
  },
  {
   "cell_type": "code",
   "execution_count": 10,
   "metadata": {},
   "outputs": [],
   "source": [
    "def my_scaler(array):\n",
    "    max_ = array.max()\n",
    "    min_ = array.min()\n",
    "    y = (array-min_)/(max_-min_)\n",
    "    return 0.5*y + 0.25\n",
    "\n",
    "def un_scaler(array, original_array):\n",
    "    max_ = original_array.max()\n",
    "    min_ = original_array.min()\n",
    "    y = 2*(array - 0.25)\n",
    "    return (max_-min_)*y + min_\n",
    "\n",
    "#y_scaled = my_scaler(result)\n",
    "# y = un_scaler(y_scaled, result)"
   ]
  },
  {
   "cell_type": "code",
   "execution_count": 11,
   "metadata": {},
   "outputs": [],
   "source": [
    "scaled_dataset = np.copy(dataset)\n",
    "scaled_dataset[:,-1] = my_scaler(scaled_dataset[:,-1])\n",
    "\n",
    "#un_scaler(****, dataset[:,-1])"
   ]
  },
  {
   "cell_type": "code",
   "execution_count": 12,
   "metadata": {},
   "outputs": [],
   "source": [
    "#just to set the values of the lung matrices between 0 and 1\n",
    "scaled_dataset[:,0] = scaled_dataset[:,0]/10"
   ]
  },
  {
   "cell_type": "code",
   "execution_count": 13,
   "metadata": {},
   "outputs": [],
   "source": [
    "from sklearn.model_selection import train_test_split\n",
    "X_train, X_test, y_train, y_test = train_test_split(scaled_dataset[:,:-1], scaled_dataset[:,-1], test_size=0.2)"
   ]
  },
  {
   "cell_type": "code",
   "execution_count": 14,
   "metadata": {},
   "outputs": [],
   "source": [
    "lungs_train = []\n",
    "for i in range(X_train[:,0].shape[0]):\n",
    "    lungs_train.append(X_train[:,0][0].astype(np.float32))\n",
    "\n",
    "lungs_train = np.array(lungs_train)    \n",
    "lungs_train = lungs_train.reshape(X_train[:,0].shape[0], 512, 512, 1)\n",
    "\n",
    "lungs_test = []\n",
    "for i in range(X_test[:,0].shape[0]):\n",
    "    lungs_test.append(X_test[:,0][0].astype(np.float32))\n",
    "\n",
    "lungs_test = np.array(lungs_test)    \n",
    "lungs_test = lungs_test.reshape(X_test[:,0].shape[0], 512, 512, 1)"
   ]
  },
  {
   "cell_type": "code",
   "execution_count": 15,
   "metadata": {},
   "outputs": [],
   "source": [
    "features_train = []\n",
    "for i in range(X_train[:,1:].shape[0]):\n",
    "    features_train.append(X_train[i,1:].astype(np.float32))\n",
    "    \n",
    "features_test = []\n",
    "for i in range(X_test[:,1:].shape[0]):\n",
    "    features_test.append(X_test[i,1:].astype(np.float32))"
   ]
  },
  {
   "cell_type": "code",
   "execution_count": 16,
   "metadata": {},
   "outputs": [],
   "source": [
    "features_train = np.array(np.array(features_train))\n",
    "features_train = features_train.reshape(features_train.shape[0], 8)\n",
    "\n",
    "features_test = np.array(np.array(features_test))\n",
    "features_test = features_test.reshape(features_test.shape[0], 8)"
   ]
  },
  {
   "cell_type": "code",
   "execution_count": 37,
   "metadata": {},
   "outputs": [],
   "source": [
    "inp_conv = Input(shape = (512,512,1), name='lungs')\n",
    "\n",
    "model_conv = Conv2D(16, kernel_size=(2,2), strides=(1,1), padding='valid', activation='relu')(inp_conv)\n",
    "model_conv = Conv2D(16, kernel_size=(2,2), strides=(1,1), padding='valid', activation='relu')(model_conv)\n",
    "model_conv = AveragePooling2D(pool_size=(3,3))(model_conv)\n",
    "model_conv = Dropout(0.25)(model_conv)\n",
    "model_conv = Conv2D(32, kernel_size=(3,3), strides=(1,1), padding='valid', activation='relu')(model_conv)\n",
    "#model_conv = MaxPool2D(pool_size=(2,2))(model_conv)\n",
    "model_conv = Conv2D(32, kernel_size=(3,3), strides=(1,1), padding='valid', activation='relu')(model_conv)\n",
    "#model_conv = MaxPool2D(pool_size=(2,2))(model_conv)\n",
    "model_conv = AveragePooling2D(pool_size=(3,3))(model_conv)\n",
    "model_conv = Dropout(0.25)(model_conv)\n",
    "model_conv = Conv2D(64, kernel_size=(3,3), strides=(1,1), padding='valid', activation='relu')(model_conv)\n",
    "model_conv = Conv2D(64, kernel_size=(3,3), strides=(1,1), padding='valid', activation='relu')(model_conv)\n",
    "model_conv = AveragePooling2D(pool_size=(3,3))(model_conv)\n",
    "model_conv = MaxPool2D(pool_size=(2,2))(model_conv)\n",
    "model_conv = Dropout(0.25)(model_conv)\n",
    "model_conv = Flatten()(model_conv)\n",
    "model_conv = Dense(16, activation='relu')(model_conv)\n",
    "outp_conv = Dense(8, activation='sigmoid')(model_conv)\n",
    "\n",
    "inp_feat = Input(shape = (8,), name='features')\n",
    "model_feat = Dense(16, activation='relu')(inp_feat)\n",
    "outp_feat = Dense(8, activation='relu')(model_feat)\n",
    "\n",
    "model_conc = concatenate([outp_conv, outp_feat])\n",
    "model_conc = Dense(32, activation='relu')(model_conc)\n",
    "model_conc = Dense(16, activation='relu')(model_conc)\n",
    "model_conc = Dense(8, activation='relu')(model_conc)\n",
    "output = Dense(1, activation='sigmoid')(model_conc)\n",
    "\n",
    "model = Model(inputs=[inp_conv, inp_feat], outputs=output, name=\"cnn_nn_model\")"
   ]
  },
  {
   "cell_type": "code",
   "execution_count": 38,
   "metadata": {},
   "outputs": [
    {
     "name": "stdout",
     "output_type": "stream",
     "text": [
      "Model: \"cnn_nn_model\"\n",
      "__________________________________________________________________________________________________\n",
      "Layer (type)                    Output Shape         Param #     Connected to                     \n",
      "==================================================================================================\n",
      "lungs (InputLayer)              (None, 512, 512, 1)  0                                            \n",
      "__________________________________________________________________________________________________\n",
      "conv2d_13 (Conv2D)              (None, 511, 511, 16) 80          lungs[0][0]                      \n",
      "__________________________________________________________________________________________________\n",
      "conv2d_14 (Conv2D)              (None, 510, 510, 16) 1040        conv2d_13[0][0]                  \n",
      "__________________________________________________________________________________________________\n",
      "average_pooling2d_7 (AveragePoo (None, 170, 170, 16) 0           conv2d_14[0][0]                  \n",
      "__________________________________________________________________________________________________\n",
      "dropout_7 (Dropout)             (None, 170, 170, 16) 0           average_pooling2d_7[0][0]        \n",
      "__________________________________________________________________________________________________\n",
      "conv2d_15 (Conv2D)              (None, 168, 168, 32) 4640        dropout_7[0][0]                  \n",
      "__________________________________________________________________________________________________\n",
      "conv2d_16 (Conv2D)              (None, 166, 166, 32) 9248        conv2d_15[0][0]                  \n",
      "__________________________________________________________________________________________________\n",
      "average_pooling2d_8 (AveragePoo (None, 55, 55, 32)   0           conv2d_16[0][0]                  \n",
      "__________________________________________________________________________________________________\n",
      "dropout_8 (Dropout)             (None, 55, 55, 32)   0           average_pooling2d_8[0][0]        \n",
      "__________________________________________________________________________________________________\n",
      "conv2d_17 (Conv2D)              (None, 53, 53, 64)   18496       dropout_8[0][0]                  \n",
      "__________________________________________________________________________________________________\n",
      "conv2d_18 (Conv2D)              (None, 51, 51, 64)   36928       conv2d_17[0][0]                  \n",
      "__________________________________________________________________________________________________\n",
      "average_pooling2d_9 (AveragePoo (None, 17, 17, 64)   0           conv2d_18[0][0]                  \n",
      "__________________________________________________________________________________________________\n",
      "max_pooling2d_6 (MaxPooling2D)  (None, 8, 8, 64)     0           average_pooling2d_9[0][0]        \n",
      "__________________________________________________________________________________________________\n",
      "dropout_9 (Dropout)             (None, 8, 8, 64)     0           max_pooling2d_6[0][0]            \n",
      "__________________________________________________________________________________________________\n",
      "flatten_3 (Flatten)             (None, 4096)         0           dropout_9[0][0]                  \n",
      "__________________________________________________________________________________________________\n",
      "features (InputLayer)           (None, 8)            0                                            \n",
      "__________________________________________________________________________________________________\n",
      "dense_17 (Dense)                (None, 16)           65552       flatten_3[0][0]                  \n",
      "__________________________________________________________________________________________________\n",
      "dense_19 (Dense)                (None, 16)           144         features[0][0]                   \n",
      "__________________________________________________________________________________________________\n",
      "dense_18 (Dense)                (None, 8)            136         dense_17[0][0]                   \n",
      "__________________________________________________________________________________________________\n",
      "dense_20 (Dense)                (None, 8)            136         dense_19[0][0]                   \n",
      "__________________________________________________________________________________________________\n",
      "concatenate_3 (Concatenate)     (None, 16)           0           dense_18[0][0]                   \n",
      "                                                                 dense_20[0][0]                   \n",
      "__________________________________________________________________________________________________\n",
      "dense_21 (Dense)                (None, 32)           544         concatenate_3[0][0]              \n",
      "__________________________________________________________________________________________________\n",
      "dense_22 (Dense)                (None, 16)           528         dense_21[0][0]                   \n",
      "__________________________________________________________________________________________________\n",
      "dense_23 (Dense)                (None, 8)            136         dense_22[0][0]                   \n",
      "__________________________________________________________________________________________________\n",
      "dense_24 (Dense)                (None, 1)            9           dense_23[0][0]                   \n",
      "==================================================================================================\n",
      "Total params: 137,617\n",
      "Trainable params: 137,617\n",
      "Non-trainable params: 0\n",
      "__________________________________________________________________________________________________\n"
     ]
    }
   ],
   "source": [
    "model.summary()"
   ]
  },
  {
   "cell_type": "code",
   "execution_count": 51,
   "metadata": {},
   "outputs": [],
   "source": [
    "model.compile(loss=custom_loss_function(dataset[:,-1]), metrics=[custom_metric_function(dataset[:,-1])], optimizer='adam')"
   ]
  },
  {
   "cell_type": "code",
   "execution_count": 52,
   "metadata": {},
   "outputs": [
    {
     "name": "stdout",
     "output_type": "stream",
     "text": [
      "Train on 140 samples, validate on 36 samples\n",
      "Epoch 1/2\n",
      "140/140 [==============================] - 23s 161ms/step - loss: 4.0271 - metric_function: 3.3549 - val_loss: 4.6901 - val_metric_function: 3.8098\n",
      "Epoch 2/2\n",
      "140/140 [==============================] - 21s 153ms/step - loss: 3.9645 - metric_function: 3.2684 - val_loss: 4.7825 - val_metric_function: 3.8246\n"
     ]
    },
    {
     "data": {
      "text/plain": [
       "<keras.callbacks.callbacks.History at 0x7fa96822e4d0>"
      ]
     },
     "execution_count": 52,
     "metadata": {},
     "output_type": "execute_result"
    }
   ],
   "source": [
    "model.fit(\n",
    "    {\"lungs\": lungs_train, \"features\": features_train},\n",
    "    y_train,\n",
    "    epochs=2, #experimenta mudar este número\n",
    "    batch_size=28,\n",
    "    validation_data = ({\"lungs\": lungs_test, \"features\": features_test}, y_test)\n",
    ")"
   ]
  },
  {
   "cell_type": "code",
   "execution_count": 32,
   "metadata": {},
   "outputs": [
    {
     "data": {
      "text/plain": [
       "array([[3.970163106918335],\n",
       "       [0.5981338620185888],\n",
       "       [-4.808091163635254],\n",
       "       [-4.51304912567139],\n",
       "       [0.6563821434974706],\n",
       "       [-3.410314321517948],\n",
       "       [-1.0813171863555908],\n",
       "       [-8.287634849548343],\n",
       "       [-2.3353023529052734],\n",
       "       [-0.8837943077087331],\n",
       "       [-3.444329261779785],\n",
       "       [-5.494368553161628],\n",
       "       [-6.741822719573978],\n",
       "       [-1.0402375459671056],\n",
       "       [-7.182352542877194],\n",
       "       [-9.379955291748047],\n",
       "       [1.6565740108489955],\n",
       "       [-3.443578004837036],\n",
       "       [-18.381778717041016],\n",
       "       [14.682611465454102],\n",
       "       [-8.515748977661133],\n",
       "       [-5.733318328857422],\n",
       "       [-4.208603382110596],\n",
       "       [-9.673158645629883],\n",
       "       [-1.1616004705429077],\n",
       "       [-8.91279411315918],\n",
       "       [-20.45368194580078],\n",
       "       [-12.683186531066891],\n",
       "       [-2.3159203529357875],\n",
       "       [-8.189459800720211],\n",
       "       [-2.3561151027679443],\n",
       "       [1.8965998888015747],\n",
       "       [11.225947380065918],\n",
       "       [-8.139245033264157],\n",
       "       [-2.83713960647583],\n",
       "       [-13.420945167541504]], dtype=object)"
      ]
     },
     "execution_count": 32,
     "metadata": {},
     "output_type": "execute_result"
    }
   ],
   "source": [
    "un_scaler(y_test.reshape(-1,1), dataset[:,-1])"
   ]
  },
  {
   "cell_type": "code",
   "execution_count": 47,
   "metadata": {
    "scrolled": true
   },
   "outputs": [
    {
     "data": {
      "text/plain": [
       "array([[-3.3177586 ],\n",
       "       [-4.535124  ],\n",
       "       [-4.3442783 ],\n",
       "       [-3.937502  ],\n",
       "       [-4.491392  ],\n",
       "       [-4.2014294 ],\n",
       "       [-4.212549  ],\n",
       "       [-4.5679245 ],\n",
       "       [-4.3799763 ],\n",
       "       [-5.142086  ],\n",
       "       [-4.0574055 ],\n",
       "       [-3.5885086 ],\n",
       "       [-4.232712  ],\n",
       "       [-2.9177704 ],\n",
       "       [-4.319725  ],\n",
       "       [-4.8080845 ],\n",
       "       [-4.1323986 ],\n",
       "       [-4.771208  ],\n",
       "       [-4.0353928 ],\n",
       "       [ 0.33620834],\n",
       "       [-4.547024  ],\n",
       "       [-4.320818  ],\n",
       "       [-3.2156162 ],\n",
       "       [-4.203663  ],\n",
       "       [-4.5287914 ],\n",
       "       [-4.7370777 ],\n",
       "       [-4.5242653 ],\n",
       "       [-5.0828457 ],\n",
       "       [-2.9377995 ],\n",
       "       [-2.7172756 ],\n",
       "       [-2.5633144 ],\n",
       "       [-2.98872   ],\n",
       "       [-3.9713345 ],\n",
       "       [-4.1734676 ],\n",
       "       [-5.091236  ],\n",
       "       [-4.775284  ]], dtype=float32)"
      ]
     },
     "execution_count": 47,
     "metadata": {},
     "output_type": "execute_result"
    }
   ],
   "source": [
    "un_scaler(model.predict(([lungs_test, features_test])), dataset[:,-1])"
   ]
  },
  {
   "cell_type": "code",
   "execution_count": 46,
   "metadata": {},
   "outputs": [
    {
     "name": "stdout",
     "output_type": "stream",
     "text": [
      "15.92941665649414\n",
      "0.2071993350982666\n",
      "4.635238316324023\n"
     ]
    }
   ],
   "source": [
    "#diz-me que obtemos um número pequenino aqui para eu ficar feliz :D \n",
    "print(abs(un_scaler(model.predict(([lungs_test, features_test])), dataset[:,-1]) - un_scaler(y_test.reshape(-1,1), dataset[:,-1])).max())\n",
    "print(abs(un_scaler(model.predict(([lungs_test, features_test])), dataset[:,-1]) - un_scaler(y_test.reshape(-1,1), dataset[:,-1])).min())\n",
    "print(abs(un_scaler(model.predict(([lungs_test, features_test])), dataset[:,-1]) - un_scaler(y_test.reshape(-1,1), dataset[:,-1])).mean())"
   ]
  },
  {
   "cell_type": "code",
   "execution_count": null,
   "metadata": {},
   "outputs": [],
   "source": [
    "un_scaler(model.predict(([lungs_test, features_test])), dataset[:,-1]) - un_scaler(y_test.reshape(-1,1), dataset[:,-1])"
   ]
  },
  {
   "cell_type": "code",
   "execution_count": null,
   "metadata": {},
   "outputs": [],
   "source": [
    "print(abs(model.predict([lungs_test, features_test])  -y_test.reshape(-1,1)).max())\n",
    "print(abs(model.predict([lungs_test, features_test])  -y_test.reshape(-1,1)).min())\n",
    "print(abs(model.predict([lungs_test, features_test])  -y_test.reshape(-1,1)).mean())"
   ]
  },
  {
   "cell_type": "code",
   "execution_count": null,
   "metadata": {},
   "outputs": [],
   "source": [
    "#last version"
   ]
  },
  {
   "cell_type": "code",
   "execution_count": null,
   "metadata": {},
   "outputs": [],
   "source": []
  },
  {
   "cell_type": "code",
   "execution_count": null,
   "metadata": {},
   "outputs": [],
   "source": [
    "tf.compat.v1.enable_eager_execution()"
   ]
  },
  {
   "cell_type": "code",
   "execution_count": null,
   "metadata": {},
   "outputs": [],
   "source": [
    "tf.executing_eagerly() "
   ]
  },
  {
   "cell_type": "code",
   "execution_count": null,
   "metadata": {},
   "outputs": [],
   "source": [
    "tf.square(dataset[:,-1].astype('float32'))"
   ]
  },
  {
   "cell_type": "code",
   "execution_count": null,
   "metadata": {},
   "outputs": [],
   "source": [
    "un_scaler(1.5,dataset[:,-1])"
   ]
  }
 ],
 "metadata": {
  "kernelspec": {
   "display_name": "Python 3",
   "language": "python",
   "name": "python3"
  },
  "language_info": {
   "codemirror_mode": {
    "name": "ipython",
    "version": 3
   },
   "file_extension": ".py",
   "mimetype": "text/x-python",
   "name": "python",
   "nbconvert_exporter": "python",
   "pygments_lexer": "ipython3",
   "version": "3.7.7"
  }
 },
 "nbformat": 4,
 "nbformat_minor": 4
}
