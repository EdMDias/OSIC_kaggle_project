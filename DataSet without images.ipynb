{
 "cells": [
  {
   "cell_type": "code",
   "execution_count": 1,
   "metadata": {},
   "outputs": [],
   "source": [
    "import pandas as pd\n",
    "import numpy as np\n",
    "import pydicom \n",
    "import os\n",
    "import matplotlib.pyplot as plt"
   ]
  },
  {
   "cell_type": "code",
   "execution_count": 2,
   "metadata": {},
   "outputs": [],
   "source": [
    "train = pd.read_csv(\"train.csv\")\n",
    "test = pd.read_csv(\"test.csv\")\n",
    "submission = pd.read_csv('sample_submission.csv')"
   ]
  },
  {
   "cell_type": "code",
   "execution_count": 3,
   "metadata": {},
   "outputs": [],
   "source": [
    "train.drop_duplicates(keep=False, inplace=True, subset=['Patient','Weeks']) #there are 14 duplicates"
   ]
  },
  {
   "cell_type": "code",
   "execution_count": 4,
   "metadata": {},
   "outputs": [],
   "source": [
    "submission['Patient'] = (submission.Patient_Week.apply(lambda x: x.split('_')[0]))\n",
    "submission['Weeks'] = (submission.Patient_Week.apply(lambda x: x.split('_')[1]))"
   ]
  },
  {
   "cell_type": "code",
   "execution_count": 5,
   "metadata": {},
   "outputs": [],
   "source": [
    "submission =  submission[['Patient','Weeks', 'Confidence','Patient_Week']]"
   ]
  },
  {
   "cell_type": "code",
   "execution_count": 6,
   "metadata": {},
   "outputs": [],
   "source": [
    "submission = submission.merge(test.drop('Weeks', axis=1), on=\"Patient\")"
   ]
  },
  {
   "cell_type": "code",
   "execution_count": 7,
   "metadata": {},
   "outputs": [
    {
     "data": {
      "text/html": [
       "<div>\n",
       "<style scoped>\n",
       "    .dataframe tbody tr th:only-of-type {\n",
       "        vertical-align: middle;\n",
       "    }\n",
       "\n",
       "    .dataframe tbody tr th {\n",
       "        vertical-align: top;\n",
       "    }\n",
       "\n",
       "    .dataframe thead th {\n",
       "        text-align: right;\n",
       "    }\n",
       "</style>\n",
       "<table border=\"1\" class=\"dataframe\">\n",
       "  <thead>\n",
       "    <tr style=\"text-align: right;\">\n",
       "      <th></th>\n",
       "      <th>Patient</th>\n",
       "      <th>Weeks</th>\n",
       "      <th>Confidence</th>\n",
       "      <th>Patient_Week</th>\n",
       "      <th>FVC</th>\n",
       "      <th>Percent</th>\n",
       "      <th>Age</th>\n",
       "      <th>Sex</th>\n",
       "      <th>SmokingStatus</th>\n",
       "    </tr>\n",
       "  </thead>\n",
       "  <tbody>\n",
       "    <tr>\n",
       "      <th>0</th>\n",
       "      <td>ID00419637202311204720264</td>\n",
       "      <td>-12</td>\n",
       "      <td>100</td>\n",
       "      <td>ID00419637202311204720264_-12</td>\n",
       "      <td>3020</td>\n",
       "      <td>70.186855</td>\n",
       "      <td>73</td>\n",
       "      <td>Male</td>\n",
       "      <td>Ex-smoker</td>\n",
       "    </tr>\n",
       "    <tr>\n",
       "      <th>1</th>\n",
       "      <td>ID00419637202311204720264</td>\n",
       "      <td>-11</td>\n",
       "      <td>100</td>\n",
       "      <td>ID00419637202311204720264_-11</td>\n",
       "      <td>3020</td>\n",
       "      <td>70.186855</td>\n",
       "      <td>73</td>\n",
       "      <td>Male</td>\n",
       "      <td>Ex-smoker</td>\n",
       "    </tr>\n",
       "    <tr>\n",
       "      <th>2</th>\n",
       "      <td>ID00419637202311204720264</td>\n",
       "      <td>-10</td>\n",
       "      <td>100</td>\n",
       "      <td>ID00419637202311204720264_-10</td>\n",
       "      <td>3020</td>\n",
       "      <td>70.186855</td>\n",
       "      <td>73</td>\n",
       "      <td>Male</td>\n",
       "      <td>Ex-smoker</td>\n",
       "    </tr>\n",
       "    <tr>\n",
       "      <th>3</th>\n",
       "      <td>ID00419637202311204720264</td>\n",
       "      <td>-9</td>\n",
       "      <td>100</td>\n",
       "      <td>ID00419637202311204720264_-9</td>\n",
       "      <td>3020</td>\n",
       "      <td>70.186855</td>\n",
       "      <td>73</td>\n",
       "      <td>Male</td>\n",
       "      <td>Ex-smoker</td>\n",
       "    </tr>\n",
       "    <tr>\n",
       "      <th>4</th>\n",
       "      <td>ID00419637202311204720264</td>\n",
       "      <td>-8</td>\n",
       "      <td>100</td>\n",
       "      <td>ID00419637202311204720264_-8</td>\n",
       "      <td>3020</td>\n",
       "      <td>70.186855</td>\n",
       "      <td>73</td>\n",
       "      <td>Male</td>\n",
       "      <td>Ex-smoker</td>\n",
       "    </tr>\n",
       "  </tbody>\n",
       "</table>\n",
       "</div>"
      ],
      "text/plain": [
       "                     Patient Weeks  Confidence                   Patient_Week  \\\n",
       "0  ID00419637202311204720264   -12         100  ID00419637202311204720264_-12   \n",
       "1  ID00419637202311204720264   -11         100  ID00419637202311204720264_-11   \n",
       "2  ID00419637202311204720264   -10         100  ID00419637202311204720264_-10   \n",
       "3  ID00419637202311204720264    -9         100   ID00419637202311204720264_-9   \n",
       "4  ID00419637202311204720264    -8         100   ID00419637202311204720264_-8   \n",
       "\n",
       "    FVC    Percent  Age   Sex SmokingStatus  \n",
       "0  3020  70.186855   73  Male     Ex-smoker  \n",
       "1  3020  70.186855   73  Male     Ex-smoker  \n",
       "2  3020  70.186855   73  Male     Ex-smoker  \n",
       "3  3020  70.186855   73  Male     Ex-smoker  \n",
       "4  3020  70.186855   73  Male     Ex-smoker  "
      ]
     },
     "execution_count": 7,
     "metadata": {},
     "output_type": "execute_result"
    }
   ],
   "source": [
    "submission.head()"
   ]
  },
  {
   "cell_type": "code",
   "execution_count": 8,
   "metadata": {},
   "outputs": [],
   "source": [
    "train['Dataset'] = 'train'\n",
    "test['Dataset'] = 'test'\n",
    "submission['Dataset'] = 'submission'"
   ]
  },
  {
   "cell_type": "code",
   "execution_count": 9,
   "metadata": {},
   "outputs": [],
   "source": [
    "all_data = train.append([test, submission])\n",
    "\n",
    "all_data = all_data.reset_index()\n",
    "all_data = all_data.drop(columns=['index'])"
   ]
  },
  {
   "cell_type": "code",
   "execution_count": 10,
   "metadata": {},
   "outputs": [],
   "source": [
    "train_patients = train.Patient.unique()"
   ]
  },
  {
   "cell_type": "code",
   "execution_count": 11,
   "metadata": {},
   "outputs": [],
   "source": [
    "all_data['FirstWeek'] = all_data['Weeks']\n",
    "all_data.loc[all_data.Dataset=='submission','FirstWeek'] = np.nan\n",
    "all_data['FirstWeek'] = all_data.groupby('Patient')['FirstWeek'].transform('min')"
   ]
  },
  {
   "cell_type": "code",
   "execution_count": 12,
   "metadata": {},
   "outputs": [],
   "source": [
    "first_fvc = (\n",
    "    all_data\n",
    "    .loc[all_data.Weeks == all_data.FirstWeek][['Patient','FVC']]\n",
    "    .rename({'FVC': 'FirstFVC'}, axis=1)\n",
    "    .groupby('Patient')\n",
    "    .first()\n",
    "    .reset_index()\n",
    ")\n",
    "\n",
    "all_data = all_data.merge(first_fvc, on='Patient', how='left')"
   ]
  },
  {
   "cell_type": "code",
   "execution_count": 13,
   "metadata": {},
   "outputs": [],
   "source": [
    "all_data.Weeks = all_data.Weeks.astype(int)\n",
    "all_data['WeeksPassed'] = all_data['Weeks'] - all_data['FirstWeek']"
   ]
  },
  {
   "cell_type": "code",
   "execution_count": 14,
   "metadata": {},
   "outputs": [],
   "source": [
    "def calculate_height(row):\n",
    "    if row['Sex'] == 'Male':\n",
    "        return row['FirstFVC'] / (27.63 - 0.112 * row['Age'])\n",
    "    else:\n",
    "        return row['FirstFVC'] / (21.78 - 0.101 * row['Age'])\n",
    "\n",
    "all_data['Height'] = all_data.apply(calculate_height, axis=1)"
   ]
  },
  {
   "cell_type": "code",
   "execution_count": 15,
   "metadata": {},
   "outputs": [],
   "source": [
    "all_data = pd.concat([\n",
    "    all_data,\n",
    "    pd.get_dummies(all_data.Sex),\n",
    "    pd.get_dummies(all_data.SmokingStatus)\n",
    "], axis=1)\n",
    "\n",
    "all_data = all_data.drop(columns=['Sex', 'SmokingStatus'])"
   ]
  },
  {
   "cell_type": "code",
   "execution_count": 16,
   "metadata": {},
   "outputs": [],
   "source": [
    "def scale_feature(series):\n",
    "    return (series - series.min()) / (series.max() - series.min())\n",
    "\n",
    "all_data['Percent'] = scale_feature(all_data['Percent'])\n",
    "all_data['Age'] = scale_feature(all_data['Age'])\n",
    "all_data['FirstWeek'] = scale_feature(all_data['FirstWeek'])\n",
    "all_data['FirstFVC'] = scale_feature(all_data['FirstFVC'])\n",
    "all_data['WeeksPassed'] = scale_feature(all_data['WeeksPassed'])\n",
    "all_data['Height'] = scale_feature(all_data['Height'])"
   ]
  },
  {
   "cell_type": "code",
   "execution_count": 17,
   "metadata": {},
   "outputs": [],
   "source": [
    "feature_columns = ['Percent', 'Age', 'FirstWeek', 'FirstFVC', 'WeeksPassed', 'Height', 'Female', 'Male', 'Currently smokes', 'Ex-smoker', 'Never smoked']"
   ]
  },
  {
   "cell_type": "code",
   "execution_count": 18,
   "metadata": {},
   "outputs": [],
   "source": [
    "train = all_data.loc[all_data.Dataset == 'train']\n",
    "test = all_data.loc[all_data.Dataset == 'test']\n",
    "submission = all_data.loc[all_data.Dataset == 'submission']"
   ]
  },
  {
   "cell_type": "code",
   "execution_count": 19,
   "metadata": {},
   "outputs": [
    {
     "data": {
      "text/html": [
       "<div>\n",
       "<style scoped>\n",
       "    .dataframe tbody tr th:only-of-type {\n",
       "        vertical-align: middle;\n",
       "    }\n",
       "\n",
       "    .dataframe tbody tr th {\n",
       "        vertical-align: top;\n",
       "    }\n",
       "\n",
       "    .dataframe thead th {\n",
       "        text-align: right;\n",
       "    }\n",
       "</style>\n",
       "<table border=\"1\" class=\"dataframe\">\n",
       "  <thead>\n",
       "    <tr style=\"text-align: right;\">\n",
       "      <th></th>\n",
       "      <th>Percent</th>\n",
       "      <th>Age</th>\n",
       "      <th>FirstWeek</th>\n",
       "      <th>FirstFVC</th>\n",
       "      <th>WeeksPassed</th>\n",
       "      <th>Height</th>\n",
       "      <th>Female</th>\n",
       "      <th>Male</th>\n",
       "      <th>Currently smokes</th>\n",
       "      <th>Ex-smoker</th>\n",
       "      <th>Never smoked</th>\n",
       "    </tr>\n",
       "  </thead>\n",
       "  <tbody>\n",
       "    <tr>\n",
       "      <th>0</th>\n",
       "      <td>0.236393</td>\n",
       "      <td>0.769231</td>\n",
       "      <td>0.011905</td>\n",
       "      <td>0.241456</td>\n",
       "      <td>0.179012</td>\n",
       "      <td>0.211783</td>\n",
       "      <td>0</td>\n",
       "      <td>1</td>\n",
       "      <td>0</td>\n",
       "      <td>1</td>\n",
       "      <td>0</td>\n",
       "    </tr>\n",
       "    <tr>\n",
       "      <th>1</th>\n",
       "      <td>0.215941</td>\n",
       "      <td>0.769231</td>\n",
       "      <td>0.011905</td>\n",
       "      <td>0.241456</td>\n",
       "      <td>0.234568</td>\n",
       "      <td>0.211783</td>\n",
       "      <td>0</td>\n",
       "      <td>1</td>\n",
       "      <td>0</td>\n",
       "      <td>1</td>\n",
       "      <td>0</td>\n",
       "    </tr>\n",
       "    <tr>\n",
       "      <th>2</th>\n",
       "      <td>0.184960</td>\n",
       "      <td>0.769231</td>\n",
       "      <td>0.011905</td>\n",
       "      <td>0.241456</td>\n",
       "      <td>0.246914</td>\n",
       "      <td>0.211783</td>\n",
       "      <td>0</td>\n",
       "      <td>1</td>\n",
       "      <td>0</td>\n",
       "      <td>1</td>\n",
       "      <td>0</td>\n",
       "    </tr>\n",
       "    <tr>\n",
       "      <th>3</th>\n",
       "      <td>0.201767</td>\n",
       "      <td>0.769231</td>\n",
       "      <td>0.011905</td>\n",
       "      <td>0.241456</td>\n",
       "      <td>0.259259</td>\n",
       "      <td>0.211783</td>\n",
       "      <td>0</td>\n",
       "      <td>1</td>\n",
       "      <td>0</td>\n",
       "      <td>1</td>\n",
       "      <td>0</td>\n",
       "    </tr>\n",
       "    <tr>\n",
       "      <th>4</th>\n",
       "      <td>0.186580</td>\n",
       "      <td>0.769231</td>\n",
       "      <td>0.011905</td>\n",
       "      <td>0.241456</td>\n",
       "      <td>0.271605</td>\n",
       "      <td>0.211783</td>\n",
       "      <td>0</td>\n",
       "      <td>1</td>\n",
       "      <td>0</td>\n",
       "      <td>1</td>\n",
       "      <td>0</td>\n",
       "    </tr>\n",
       "  </tbody>\n",
       "</table>\n",
       "</div>"
      ],
      "text/plain": [
       "    Percent       Age  FirstWeek  FirstFVC  WeeksPassed    Height  Female  \\\n",
       "0  0.236393  0.769231   0.011905  0.241456     0.179012  0.211783       0   \n",
       "1  0.215941  0.769231   0.011905  0.241456     0.234568  0.211783       0   \n",
       "2  0.184960  0.769231   0.011905  0.241456     0.246914  0.211783       0   \n",
       "3  0.201767  0.769231   0.011905  0.241456     0.259259  0.211783       0   \n",
       "4  0.186580  0.769231   0.011905  0.241456     0.271605  0.211783       0   \n",
       "\n",
       "   Male  Currently smokes  Ex-smoker  Never smoked  \n",
       "0     1                 0          1             0  \n",
       "1     1                 0          1             0  \n",
       "2     1                 0          1             0  \n",
       "3     1                 0          1             0  \n",
       "4     1                 0          1             0  "
      ]
     },
     "execution_count": 19,
     "metadata": {},
     "output_type": "execute_result"
    }
   ],
   "source": [
    "train[feature_columns].head()"
   ]
  },
  {
   "cell_type": "code",
   "execution_count": null,
   "metadata": {},
   "outputs": [],
   "source": []
  }
 ],
 "metadata": {
  "kernelspec": {
   "display_name": "Python 3.8.2 64-bit",
   "language": "python",
   "name": "python38264bitfae13eb86ea847a7a1ad6d7eeadaf1fd"
  },
  "language_info": {
   "codemirror_mode": {
    "name": "ipython",
    "version": 3
   },
   "file_extension": ".py",
   "mimetype": "text/x-python",
   "name": "python",
   "nbconvert_exporter": "python",
   "pygments_lexer": "ipython3",
   "version": "3.8.2"
  }
 },
 "nbformat": 4,
 "nbformat_minor": 4
}
