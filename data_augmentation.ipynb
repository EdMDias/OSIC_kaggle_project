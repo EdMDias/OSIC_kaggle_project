{
 "cells": [
  {
   "cell_type": "code",
   "execution_count": 123,
   "metadata": {},
   "outputs": [],
   "source": [
    "import numpy as np\n",
    "import matplotlib.pyplot as plt"
   ]
  },
  {
   "cell_type": "code",
   "execution_count": 124,
   "metadata": {},
   "outputs": [],
   "source": [
    "#imgs = np.load('lung_chunks_256/ID00023637202179104603099.npy')"
   ]
  },
  {
   "cell_type": "code",
   "execution_count": 125,
   "metadata": {},
   "outputs": [],
   "source": []
  },
  {
   "cell_type": "code",
   "execution_count": 237,
   "metadata": {},
   "outputs": [],
   "source": [
    "def color_change(arr):\n",
    "    factor = 3*np.random.uniform()\n",
    "    return arr**factor  \n",
    "\n",
    "def translation(arr):\n",
    "    direction = [round(3*np.random.uniform()),round(50*np.random.uniform()),round(128*np.random.uniform())]\n",
    "    result = np.zeros(arr.shape)\n",
    "    for i in range(arr.shape[0]-direction[0]):\n",
    "        for j in range(arr.shape[1]-direction[1]):\n",
    "            for k in range(arr.shape[2]-direction[2]):\n",
    "                result[i+direction[0],j+direction[1],k+direction[2]] = arr[i,j,k]\n",
    "    return result\n",
    "\n",
    "def symmetry(arr):\n",
    "    result = np.zeros(arr.shape)\n",
    "    for i in range(arr.shape[0]):\n",
    "        result[i] = arr[i].T\n",
    "    return result\n",
    "\n",
    "def rand_crop(arr):\n",
    "    x, y = round(64*np.random.uniform()), round(64*np.random.uniform())\n",
    "    arr = arr.copy()\n",
    "    result = arr[:, x: x+128 , y: y+128]\n",
    "    tmp_ = []\n",
    "    for i in range(result.shape[0]):\n",
    "        tmp_.append(np.resize(result[i], (arr.shape[1], arr.shape[2])))\n",
    "    return tmp_\n",
    "\n",
    "def gaussian_noise(arr):\n",
    "    noise = np.random.normal(size = arr.shape[0]*arr.shape[1]*arr.shape[2])\n",
    "    return 0.05*noise.reshape(arr.shape) + arr"
   ]
  },
  {
   "cell_type": "code",
   "execution_count": 256,
   "metadata": {},
   "outputs": [],
   "source": []
  },
  {
   "cell_type": "code",
   "execution_count": 411,
   "metadata": {},
   "outputs": [],
   "source": []
  },
  {
   "cell_type": "code",
   "execution_count": 434,
   "metadata": {},
   "outputs": [],
   "source": []
  },
  {
   "cell_type": "code",
   "execution_count": null,
   "metadata": {},
   "outputs": [],
   "source": []
  }
 ],
 "metadata": {
  "kernelspec": {
   "display_name": "Python 3",
   "language": "python",
   "name": "python3"
  },
  "language_info": {
   "codemirror_mode": {
    "name": "ipython",
    "version": 3
   },
   "file_extension": ".py",
   "mimetype": "text/x-python",
   "name": "python",
   "nbconvert_exporter": "python",
   "pygments_lexer": "ipython3",
   "version": "3.7.7"
  }
 },
 "nbformat": 4,
 "nbformat_minor": 4
}
