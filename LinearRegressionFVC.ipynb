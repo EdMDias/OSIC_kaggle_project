{
 "cells": [
  {
   "cell_type": "code",
   "execution_count": 2,
   "metadata": {},
   "outputs": [],
   "source": [
    "import pandas as pd\n",
    "import numpy as np\n",
    "from sklearn.linear_model import LinearRegression\n",
    "import matplotlib.pyplot as plt"
   ]
  },
  {
   "cell_type": "code",
   "execution_count": 3,
   "metadata": {},
   "outputs": [],
   "source": [
    "train = pd.read_csv('train.csv')\n",
    "test = pd.read_csv('test.csv')"
   ]
  },
  {
   "cell_type": "code",
   "execution_count": 4,
   "metadata": {},
   "outputs": [],
   "source": [
    "train.drop_duplicates(keep=False, inplace=True, subset=['Patient','Weeks']) #there are 14 duplicates"
   ]
  },
  {
   "cell_type": "code",
   "execution_count": null,
   "metadata": {},
   "outputs": [],
   "source": []
  },
  {
   "cell_type": "code",
   "execution_count": 5,
   "metadata": {},
   "outputs": [
    {
     "data": {
      "text/plain": [
       "-8.027787873004472"
      ]
     },
     "execution_count": 5,
     "metadata": {},
     "output_type": "execute_result"
    }
   ],
   "source": [
    "def laplace_log_likelihood(actual_fvc, predicted_fvc, confidence, return_values=False):\n",
    "    \"\"\"\n",
    "    Calculates the modified Laplace Log Likelihood score for this competition.\n",
    "    \"\"\"\n",
    "    sd_clipped = np.maximum(confidence, 70)\n",
    "    delta = np.minimum(np.abs(actual_fvc - predicted_fvc), 1000)\n",
    "    metric = - np.sqrt(2) * delta / sd_clipped - np.log(np.sqrt(2) * sd_clipped)\n",
    "\n",
    "    if return_values:\n",
    "        return metric\n",
    "    else:\n",
    "        return np.mean(metric)\n",
    "\n",
    "\n",
    "## default benchmark\n",
    "laplace_log_likelihood(train.FVC, np.mean(train.FVC), np.std(train.FVC))"
   ]
  },
  {
   "cell_type": "code",
   "execution_count": null,
   "metadata": {},
   "outputs": [],
   "source": []
  },
  {
   "cell_type": "code",
   "execution_count": 6,
   "metadata": {},
   "outputs": [],
   "source": [
    "patients = train.Patient.unique()"
   ]
  },
  {
   "cell_type": "code",
   "execution_count": 7,
   "metadata": {},
   "outputs": [],
   "source": [
    "LinearData = pd.DataFrame(index=patients, columns= ['slope', 'intersect'])"
   ]
  },
  {
   "cell_type": "code",
   "execution_count": null,
   "metadata": {},
   "outputs": [],
   "source": []
  },
  {
   "cell_type": "code",
   "execution_count": 8,
   "metadata": {},
   "outputs": [],
   "source": [
    "for pat in patients:\n",
    "    x = np.array(train[train.Patient == pat]['Weeks'].to_list()).reshape(-1,1)\n",
    "    y = np.array(train[train.Patient == pat]['FVC'].to_list())\n",
    "    lr = LinearRegression().fit(x,y)\n",
    "    LinearData.loc[pat].slope = lr.coef_[0]\n",
    "    LinearData.loc[pat].intersect = lr.intercept_\n",
    "    \n",
    "LinearData.to_csv('patient_slope_intercept.csv')"
   ]
  },
  {
   "cell_type": "code",
   "execution_count": 9,
   "metadata": {},
   "outputs": [
    {
     "data": {
      "text/html": [
       "<div>\n",
       "<style scoped>\n",
       "    .dataframe tbody tr th:only-of-type {\n",
       "        vertical-align: middle;\n",
       "    }\n",
       "\n",
       "    .dataframe tbody tr th {\n",
       "        vertical-align: top;\n",
       "    }\n",
       "\n",
       "    .dataframe thead th {\n",
       "        text-align: right;\n",
       "    }\n",
       "</style>\n",
       "<table border=\"1\" class=\"dataframe\">\n",
       "  <thead>\n",
       "    <tr style=\"text-align: right;\">\n",
       "      <th></th>\n",
       "      <th>slope</th>\n",
       "      <th>intersect</th>\n",
       "    </tr>\n",
       "  </thead>\n",
       "  <tbody>\n",
       "    <tr>\n",
       "      <th>ID00007637202177411956430</th>\n",
       "      <td>-3.16713</td>\n",
       "      <td>2174.42</td>\n",
       "    </tr>\n",
       "    <tr>\n",
       "      <th>ID00009637202177434476278</th>\n",
       "      <td>-9.37996</td>\n",
       "      <td>3821.79</td>\n",
       "    </tr>\n",
       "    <tr>\n",
       "      <th>ID00010637202177584971671</th>\n",
       "      <td>-17.0428</td>\n",
       "      <td>3311.69</td>\n",
       "    </tr>\n",
       "    <tr>\n",
       "      <th>ID00011637202177653955184</th>\n",
       "      <td>-4.54893</td>\n",
       "      <td>3487.08</td>\n",
       "    </tr>\n",
       "    <tr>\n",
       "      <th>ID00012637202177665765362</th>\n",
       "      <td>-8.54308</td>\n",
       "      <td>3774.03</td>\n",
       "    </tr>\n",
       "  </tbody>\n",
       "</table>\n",
       "</div>"
      ],
      "text/plain": [
       "                             slope intersect\n",
       "ID00007637202177411956430 -3.16713   2174.42\n",
       "ID00009637202177434476278 -9.37996   3821.79\n",
       "ID00010637202177584971671 -17.0428   3311.69\n",
       "ID00011637202177653955184 -4.54893   3487.08\n",
       "ID00012637202177665765362 -8.54308   3774.03"
      ]
     },
     "execution_count": 9,
     "metadata": {},
     "output_type": "execute_result"
    }
   ],
   "source": [
    "LinearData.head()"
   ]
  },
  {
   "cell_type": "code",
   "execution_count": 10,
   "metadata": {},
   "outputs": [
    {
     "data": {
      "text/plain": [
       "(array([ 1.,  0.,  1.,  2.,  0.,  1.,  1.,  1.,  3.,  3.,  2.,  3.,  7.,\n",
       "        14., 10., 15., 23., 20., 23., 21., 11.,  4.,  4.,  0.,  2.,  1.,\n",
       "         1.,  1.,  0.,  1.]),\n",
       " array([-28.18257491675915, -26.753735361805727, -25.324895806852304,\n",
       "        -23.896056251898877, -22.467216696945453, -21.03837714199203,\n",
       "        -19.609537587038606, -18.180698032085182, -16.751858477131755,\n",
       "        -15.323018922178333, -13.894179367224908, -12.465339812271484,\n",
       "        -11.03650025731806, -9.607660702364637, -8.17882114741121,\n",
       "        -6.749981592457786, -5.321142037504362, -3.8923024825509387,\n",
       "        -2.463462927597515, -1.0346233726440879, 0.39421618230933575,\n",
       "        1.8230557372627594, 3.251895292216183, 4.68073484716961,\n",
       "        6.10957440212303, 7.5384139570764575, 8.967253512029878,\n",
       "        10.396093066983305, 11.824932621936732, 13.253772176890152,\n",
       "        14.682611731843576], dtype=object),\n",
       " <a list of 30 Patch objects>)"
      ]
     },
     "execution_count": 10,
     "metadata": {},
     "output_type": "execute_result"
    },
    {
     "data": {
      "image/png": "[encoded data removed]",
      "text/plain": [
       "<Figure size 432x288 with 1 Axes>"
      ]
     },
     "metadata": {
      "needs_background": "light"
     },
     "output_type": "display_data"
    }
   ],
   "source": [
    "plt.hist(LinearData.slope, bins=30)"
   ]
  },
  {
   "cell_type": "code",
   "execution_count": 11,
   "metadata": {},
   "outputs": [
    {
     "name": "stdout",
     "output_type": "stream",
     "text": [
      "-28.18257491675915 14.682611731843576\n",
      "1063.4501144913313 5919.045454545454\n"
     ]
    }
   ],
   "source": [
    "print(LinearData.slope.min(),LinearData.slope.max())\n",
    "print(LinearData.intersect.min(),LinearData.intersect.max())"
   ]
  },
  {
   "cell_type": "code",
   "execution_count": 12,
   "metadata": {},
   "outputs": [],
   "source": [
    "for pat in patients:\n",
    "    train.loc[train['Patient'] == pat, 'slope'] = LinearData.loc[pat, 'slope']\n",
    "    train.loc[train['Patient'] == pat, 'intersect'] = LinearData.loc[pat, 'intersect']"
   ]
  },
  {
   "cell_type": "code",
   "execution_count": 13,
   "metadata": {},
   "outputs": [
    {
     "data": {
      "text/html": [
       "<div>\n",
       "<style scoped>\n",
       "    .dataframe tbody tr th:only-of-type {\n",
       "        vertical-align: middle;\n",
       "    }\n",
       "\n",
       "    .dataframe tbody tr th {\n",
       "        vertical-align: top;\n",
       "    }\n",
       "\n",
       "    .dataframe thead th {\n",
       "        text-align: right;\n",
       "    }\n",
       "</style>\n",
       "<table border=\"1\" class=\"dataframe\">\n",
       "  <thead>\n",
       "    <tr style=\"text-align: right;\">\n",
       "      <th></th>\n",
       "      <th>Patient</th>\n",
       "      <th>Weeks</th>\n",
       "      <th>FVC</th>\n",
       "      <th>Percent</th>\n",
       "      <th>Age</th>\n",
       "      <th>Sex</th>\n",
       "      <th>SmokingStatus</th>\n",
       "      <th>slope</th>\n",
       "      <th>intersect</th>\n",
       "    </tr>\n",
       "  </thead>\n",
       "  <tbody>\n",
       "    <tr>\n",
       "      <th>0</th>\n",
       "      <td>ID00007637202177411956430</td>\n",
       "      <td>-4</td>\n",
       "      <td>2315</td>\n",
       "      <td>58.253649</td>\n",
       "      <td>79</td>\n",
       "      <td>Male</td>\n",
       "      <td>Ex-smoker</td>\n",
       "      <td>-3.167126</td>\n",
       "      <td>2174.416183</td>\n",
       "    </tr>\n",
       "    <tr>\n",
       "      <th>1</th>\n",
       "      <td>ID00007637202177411956430</td>\n",
       "      <td>5</td>\n",
       "      <td>2214</td>\n",
       "      <td>55.712129</td>\n",
       "      <td>79</td>\n",
       "      <td>Male</td>\n",
       "      <td>Ex-smoker</td>\n",
       "      <td>-3.167126</td>\n",
       "      <td>2174.416183</td>\n",
       "    </tr>\n",
       "    <tr>\n",
       "      <th>2</th>\n",
       "      <td>ID00007637202177411956430</td>\n",
       "      <td>7</td>\n",
       "      <td>2061</td>\n",
       "      <td>51.862104</td>\n",
       "      <td>79</td>\n",
       "      <td>Male</td>\n",
       "      <td>Ex-smoker</td>\n",
       "      <td>-3.167126</td>\n",
       "      <td>2174.416183</td>\n",
       "    </tr>\n",
       "    <tr>\n",
       "      <th>3</th>\n",
       "      <td>ID00007637202177411956430</td>\n",
       "      <td>9</td>\n",
       "      <td>2144</td>\n",
       "      <td>53.950679</td>\n",
       "      <td>79</td>\n",
       "      <td>Male</td>\n",
       "      <td>Ex-smoker</td>\n",
       "      <td>-3.167126</td>\n",
       "      <td>2174.416183</td>\n",
       "    </tr>\n",
       "    <tr>\n",
       "      <th>4</th>\n",
       "      <td>ID00007637202177411956430</td>\n",
       "      <td>11</td>\n",
       "      <td>2069</td>\n",
       "      <td>52.063412</td>\n",
       "      <td>79</td>\n",
       "      <td>Male</td>\n",
       "      <td>Ex-smoker</td>\n",
       "      <td>-3.167126</td>\n",
       "      <td>2174.416183</td>\n",
       "    </tr>\n",
       "    <tr>\n",
       "      <th>...</th>\n",
       "      <td>...</td>\n",
       "      <td>...</td>\n",
       "      <td>...</td>\n",
       "      <td>...</td>\n",
       "      <td>...</td>\n",
       "      <td>...</td>\n",
       "      <td>...</td>\n",
       "      <td>...</td>\n",
       "      <td>...</td>\n",
       "    </tr>\n",
       "    <tr>\n",
       "      <th>1544</th>\n",
       "      <td>ID00426637202313170790466</td>\n",
       "      <td>13</td>\n",
       "      <td>2712</td>\n",
       "      <td>66.594637</td>\n",
       "      <td>73</td>\n",
       "      <td>Male</td>\n",
       "      <td>Never smoked</td>\n",
       "      <td>-1.081317</td>\n",
       "      <td>2919.401434</td>\n",
       "    </tr>\n",
       "    <tr>\n",
       "      <th>1545</th>\n",
       "      <td>ID00426637202313170790466</td>\n",
       "      <td>19</td>\n",
       "      <td>2978</td>\n",
       "      <td>73.126412</td>\n",
       "      <td>73</td>\n",
       "      <td>Male</td>\n",
       "      <td>Never smoked</td>\n",
       "      <td>-1.081317</td>\n",
       "      <td>2919.401434</td>\n",
       "    </tr>\n",
       "    <tr>\n",
       "      <th>1546</th>\n",
       "      <td>ID00426637202313170790466</td>\n",
       "      <td>31</td>\n",
       "      <td>2908</td>\n",
       "      <td>71.407524</td>\n",
       "      <td>73</td>\n",
       "      <td>Male</td>\n",
       "      <td>Never smoked</td>\n",
       "      <td>-1.081317</td>\n",
       "      <td>2919.401434</td>\n",
       "    </tr>\n",
       "    <tr>\n",
       "      <th>1547</th>\n",
       "      <td>ID00426637202313170790466</td>\n",
       "      <td>43</td>\n",
       "      <td>2975</td>\n",
       "      <td>73.052745</td>\n",
       "      <td>73</td>\n",
       "      <td>Male</td>\n",
       "      <td>Never smoked</td>\n",
       "      <td>-1.081317</td>\n",
       "      <td>2919.401434</td>\n",
       "    </tr>\n",
       "    <tr>\n",
       "      <th>1548</th>\n",
       "      <td>ID00426637202313170790466</td>\n",
       "      <td>59</td>\n",
       "      <td>2774</td>\n",
       "      <td>68.117081</td>\n",
       "      <td>73</td>\n",
       "      <td>Male</td>\n",
       "      <td>Never smoked</td>\n",
       "      <td>-1.081317</td>\n",
       "      <td>2919.401434</td>\n",
       "    </tr>\n",
       "  </tbody>\n",
       "</table>\n",
       "<p>1535 rows × 9 columns</p>\n",
       "</div>"
      ],
      "text/plain": [
       "                        Patient  Weeks   FVC    Percent  Age   Sex  \\\n",
       "0     ID00007637202177411956430     -4  2315  58.253649   79  Male   \n",
       "1     ID00007637202177411956430      5  2214  55.712129   79  Male   \n",
       "2     ID00007637202177411956430      7  2061  51.862104   79  Male   \n",
       "3     ID00007637202177411956430      9  2144  53.950679   79  Male   \n",
       "4     ID00007637202177411956430     11  2069  52.063412   79  Male   \n",
       "...                         ...    ...   ...        ...  ...   ...   \n",
       "1544  ID00426637202313170790466     13  2712  66.594637   73  Male   \n",
       "1545  ID00426637202313170790466     19  2978  73.126412   73  Male   \n",
       "1546  ID00426637202313170790466     31  2908  71.407524   73  Male   \n",
       "1547  ID00426637202313170790466     43  2975  73.052745   73  Male   \n",
       "1548  ID00426637202313170790466     59  2774  68.117081   73  Male   \n",
       "\n",
       "     SmokingStatus     slope    intersect  \n",
       "0        Ex-smoker -3.167126  2174.416183  \n",
       "1        Ex-smoker -3.167126  2174.416183  \n",
       "2        Ex-smoker -3.167126  2174.416183  \n",
       "3        Ex-smoker -3.167126  2174.416183  \n",
       "4        Ex-smoker -3.167126  2174.416183  \n",
       "...            ...       ...          ...  \n",
       "1544  Never smoked -1.081317  2919.401434  \n",
       "1545  Never smoked -1.081317  2919.401434  \n",
       "1546  Never smoked -1.081317  2919.401434  \n",
       "1547  Never smoked -1.081317  2919.401434  \n",
       "1548  Never smoked -1.081317  2919.401434  \n",
       "\n",
       "[1535 rows x 9 columns]"
      ]
     },
     "execution_count": 13,
     "metadata": {},
     "output_type": "execute_result"
    }
   ],
   "source": [
    "train"
   ]
  },
  {
   "cell_type": "code",
   "execution_count": 14,
   "metadata": {},
   "outputs": [],
   "source": [
    "train['lr_value'] = train.Weeks*train.slope + train.intersect\n",
    "train['abs_diff'] = np.abs(train.FVC - train.lr_value )"
   ]
  },
  {
   "cell_type": "code",
   "execution_count": 15,
   "metadata": {},
   "outputs": [
    {
     "data": {
      "text/html": [
       "<div>\n",
       "<style scoped>\n",
       "    .dataframe tbody tr th:only-of-type {\n",
       "        vertical-align: middle;\n",
       "    }\n",
       "\n",
       "    .dataframe tbody tr th {\n",
       "        vertical-align: top;\n",
       "    }\n",
       "\n",
       "    .dataframe thead th {\n",
       "        text-align: right;\n",
       "    }\n",
       "</style>\n",
       "<table border=\"1\" class=\"dataframe\">\n",
       "  <thead>\n",
       "    <tr style=\"text-align: right;\">\n",
       "      <th></th>\n",
       "      <th>Patient</th>\n",
       "      <th>Weeks</th>\n",
       "      <th>FVC</th>\n",
       "      <th>Percent</th>\n",
       "      <th>Age</th>\n",
       "      <th>Sex</th>\n",
       "      <th>SmokingStatus</th>\n",
       "      <th>slope</th>\n",
       "      <th>intersect</th>\n",
       "      <th>lr_value</th>\n",
       "      <th>abs_diff</th>\n",
       "    </tr>\n",
       "  </thead>\n",
       "  <tbody>\n",
       "    <tr>\n",
       "      <th>175</th>\n",
       "      <td>ID00051637202185848464638</td>\n",
       "      <td>-1</td>\n",
       "      <td>1697</td>\n",
       "      <td>81.645417</td>\n",
       "      <td>73</td>\n",
       "      <td>Female</td>\n",
       "      <td>Ex-smoker</td>\n",
       "      <td>-3.37359</td>\n",
       "      <td>1691.838246</td>\n",
       "      <td>1695.211836</td>\n",
       "      <td>1.788164</td>\n",
       "    </tr>\n",
       "    <tr>\n",
       "      <th>176</th>\n",
       "      <td>ID00051637202185848464638</td>\n",
       "      <td>1</td>\n",
       "      <td>1569</td>\n",
       "      <td>75.487130</td>\n",
       "      <td>73</td>\n",
       "      <td>Female</td>\n",
       "      <td>Ex-smoker</td>\n",
       "      <td>-3.37359</td>\n",
       "      <td>1691.838246</td>\n",
       "      <td>1688.464655</td>\n",
       "      <td>119.464655</td>\n",
       "    </tr>\n",
       "    <tr>\n",
       "      <th>177</th>\n",
       "      <td>ID00051637202185848464638</td>\n",
       "      <td>3</td>\n",
       "      <td>1776</td>\n",
       "      <td>85.446235</td>\n",
       "      <td>73</td>\n",
       "      <td>Female</td>\n",
       "      <td>Ex-smoker</td>\n",
       "      <td>-3.37359</td>\n",
       "      <td>1691.838246</td>\n",
       "      <td>1681.717474</td>\n",
       "      <td>94.282526</td>\n",
       "    </tr>\n",
       "    <tr>\n",
       "      <th>178</th>\n",
       "      <td>ID00051637202185848464638</td>\n",
       "      <td>6</td>\n",
       "      <td>1718</td>\n",
       "      <td>82.655761</td>\n",
       "      <td>73</td>\n",
       "      <td>Female</td>\n",
       "      <td>Ex-smoker</td>\n",
       "      <td>-3.37359</td>\n",
       "      <td>1691.838246</td>\n",
       "      <td>1671.596703</td>\n",
       "      <td>46.403297</td>\n",
       "    </tr>\n",
       "    <tr>\n",
       "      <th>179</th>\n",
       "      <td>ID00051637202185848464638</td>\n",
       "      <td>7</td>\n",
       "      <td>1682</td>\n",
       "      <td>80.923743</td>\n",
       "      <td>73</td>\n",
       "      <td>Female</td>\n",
       "      <td>Ex-smoker</td>\n",
       "      <td>-3.37359</td>\n",
       "      <td>1691.838246</td>\n",
       "      <td>1668.223112</td>\n",
       "      <td>13.776888</td>\n",
       "    </tr>\n",
       "    <tr>\n",
       "      <th>180</th>\n",
       "      <td>ID00051637202185848464638</td>\n",
       "      <td>13</td>\n",
       "      <td>1624</td>\n",
       "      <td>78.133269</td>\n",
       "      <td>73</td>\n",
       "      <td>Female</td>\n",
       "      <td>Ex-smoker</td>\n",
       "      <td>-3.37359</td>\n",
       "      <td>1691.838246</td>\n",
       "      <td>1647.981569</td>\n",
       "      <td>23.981569</td>\n",
       "    </tr>\n",
       "    <tr>\n",
       "      <th>181</th>\n",
       "      <td>ID00051637202185848464638</td>\n",
       "      <td>26</td>\n",
       "      <td>1616</td>\n",
       "      <td>77.748376</td>\n",
       "      <td>73</td>\n",
       "      <td>Female</td>\n",
       "      <td>Ex-smoker</td>\n",
       "      <td>-3.37359</td>\n",
       "      <td>1691.838246</td>\n",
       "      <td>1604.124893</td>\n",
       "      <td>11.875107</td>\n",
       "    </tr>\n",
       "    <tr>\n",
       "      <th>182</th>\n",
       "      <td>ID00051637202185848464638</td>\n",
       "      <td>37</td>\n",
       "      <td>1520</td>\n",
       "      <td>73.129661</td>\n",
       "      <td>73</td>\n",
       "      <td>Female</td>\n",
       "      <td>Ex-smoker</td>\n",
       "      <td>-3.37359</td>\n",
       "      <td>1691.838246</td>\n",
       "      <td>1567.015398</td>\n",
       "      <td>47.015398</td>\n",
       "    </tr>\n",
       "    <tr>\n",
       "      <th>183</th>\n",
       "      <td>ID00051637202185848464638</td>\n",
       "      <td>54</td>\n",
       "      <td>1532</td>\n",
       "      <td>73.707000</td>\n",
       "      <td>73</td>\n",
       "      <td>Female</td>\n",
       "      <td>Ex-smoker</td>\n",
       "      <td>-3.37359</td>\n",
       "      <td>1691.838246</td>\n",
       "      <td>1509.664360</td>\n",
       "      <td>22.335640</td>\n",
       "    </tr>\n",
       "  </tbody>\n",
       "</table>\n",
       "</div>"
      ],
      "text/plain": [
       "                       Patient  Weeks   FVC    Percent  Age     Sex  \\\n",
       "175  ID00051637202185848464638     -1  1697  81.645417   73  Female   \n",
       "176  ID00051637202185848464638      1  1569  75.487130   73  Female   \n",
       "177  ID00051637202185848464638      3  1776  85.446235   73  Female   \n",
       "178  ID00051637202185848464638      6  1718  82.655761   73  Female   \n",
       "179  ID00051637202185848464638      7  1682  80.923743   73  Female   \n",
       "180  ID00051637202185848464638     13  1624  78.133269   73  Female   \n",
       "181  ID00051637202185848464638     26  1616  77.748376   73  Female   \n",
       "182  ID00051637202185848464638     37  1520  73.129661   73  Female   \n",
       "183  ID00051637202185848464638     54  1532  73.707000   73  Female   \n",
       "\n",
       "    SmokingStatus    slope    intersect     lr_value    abs_diff  \n",
       "175     Ex-smoker -3.37359  1691.838246  1695.211836    1.788164  \n",
       "176     Ex-smoker -3.37359  1691.838246  1688.464655  119.464655  \n",
       "177     Ex-smoker -3.37359  1691.838246  1681.717474   94.282526  \n",
       "178     Ex-smoker -3.37359  1691.838246  1671.596703   46.403297  \n",
       "179     Ex-smoker -3.37359  1691.838246  1668.223112   13.776888  \n",
       "180     Ex-smoker -3.37359  1691.838246  1647.981569   23.981569  \n",
       "181     Ex-smoker -3.37359  1691.838246  1604.124893   11.875107  \n",
       "182     Ex-smoker -3.37359  1691.838246  1567.015398   47.015398  \n",
       "183     Ex-smoker -3.37359  1691.838246  1509.664360   22.335640  "
      ]
     },
     "execution_count": 15,
     "metadata": {},
     "output_type": "execute_result"
    }
   ],
   "source": [
    "train[train['Patient'] == 'ID00051637202185848464638']"
   ]
  },
  {
   "cell_type": "code",
   "execution_count": 16,
   "metadata": {},
   "outputs": [
    {
     "data": {
      "image/png": "[encoded data removed]",
      "text/plain": [
       "<Figure size 432x288 with 1 Axes>"
      ]
     },
     "metadata": {
      "needs_background": "light"
     },
     "output_type": "display_data"
    }
   ],
   "source": [
    "patient = 'ID00051637202185848464638'\n",
    "plt.plot(train[train['Patient'] == patient].Weeks, train[train['Patient'] == patient].FVC,label='True Value')\n",
    "plt.plot(train[train['Patient'] == patient].Weeks, train[train['Patient'] == patient].lr_value, label = 'Prediciton')\n",
    "plt.legend(loc='best')\n",
    "plt.show()"
   ]
  },
  {
   "cell_type": "code",
   "execution_count": 28,
   "metadata": {},
   "outputs": [
    {
     "data": {
      "text/plain": [
       "4"
      ]
     },
     "execution_count": 28,
     "metadata": {},
     "output_type": "execute_result"
    }
   ],
   "source": [
    "len(train[train.abs_diff > 700].Patient.unique())"
   ]
  },
  {
   "cell_type": "code",
   "execution_count": 22,
   "metadata": {},
   "outputs": [
    {
     "data": {
      "text/html": [
       "<div>\n",
       "<style scoped>\n",
       "    .dataframe tbody tr th:only-of-type {\n",
       "        vertical-align: middle;\n",
       "    }\n",
       "\n",
       "    .dataframe tbody tr th {\n",
       "        vertical-align: top;\n",
       "    }\n",
       "\n",
       "    .dataframe thead th {\n",
       "        text-align: right;\n",
       "    }\n",
       "</style>\n",
       "<table border=\"1\" class=\"dataframe\">\n",
       "  <thead>\n",
       "    <tr style=\"text-align: right;\">\n",
       "      <th></th>\n",
       "      <th>Patient</th>\n",
       "      <th>Weeks</th>\n",
       "      <th>FVC</th>\n",
       "      <th>Percent</th>\n",
       "      <th>Age</th>\n",
       "      <th>Sex</th>\n",
       "      <th>SmokingStatus</th>\n",
       "      <th>slope</th>\n",
       "      <th>intersect</th>\n",
       "      <th>lr_value</th>\n",
       "      <th>abs_diff</th>\n",
       "    </tr>\n",
       "  </thead>\n",
       "  <tbody>\n",
       "    <tr>\n",
       "      <th>1</th>\n",
       "      <td>ID00007637202177411956430</td>\n",
       "      <td>5</td>\n",
       "      <td>2214</td>\n",
       "      <td>55.712129</td>\n",
       "      <td>79</td>\n",
       "      <td>Male</td>\n",
       "      <td>Ex-smoker</td>\n",
       "      <td>-3.167126</td>\n",
       "      <td>2174.416183</td>\n",
       "      <td>2158.580554</td>\n",
       "      <td>55.419446</td>\n",
       "    </tr>\n",
       "    <tr>\n",
       "      <th>3</th>\n",
       "      <td>ID00007637202177411956430</td>\n",
       "      <td>9</td>\n",
       "      <td>2144</td>\n",
       "      <td>53.950679</td>\n",
       "      <td>79</td>\n",
       "      <td>Male</td>\n",
       "      <td>Ex-smoker</td>\n",
       "      <td>-3.167126</td>\n",
       "      <td>2174.416183</td>\n",
       "      <td>2145.912050</td>\n",
       "      <td>1.912050</td>\n",
       "    </tr>\n",
       "    <tr>\n",
       "      <th>5</th>\n",
       "      <td>ID00007637202177411956430</td>\n",
       "      <td>17</td>\n",
       "      <td>2101</td>\n",
       "      <td>52.868646</td>\n",
       "      <td>79</td>\n",
       "      <td>Male</td>\n",
       "      <td>Ex-smoker</td>\n",
       "      <td>-3.167126</td>\n",
       "      <td>2174.416183</td>\n",
       "      <td>2120.575044</td>\n",
       "      <td>19.575044</td>\n",
       "    </tr>\n",
       "    <tr>\n",
       "      <th>7</th>\n",
       "      <td>ID00007637202177411956430</td>\n",
       "      <td>41</td>\n",
       "      <td>2064</td>\n",
       "      <td>51.937594</td>\n",
       "      <td>79</td>\n",
       "      <td>Male</td>\n",
       "      <td>Ex-smoker</td>\n",
       "      <td>-3.167126</td>\n",
       "      <td>2174.416183</td>\n",
       "      <td>2044.564023</td>\n",
       "      <td>19.435977</td>\n",
       "    </tr>\n",
       "    <tr>\n",
       "      <th>8</th>\n",
       "      <td>ID00007637202177411956430</td>\n",
       "      <td>57</td>\n",
       "      <td>2057</td>\n",
       "      <td>51.761449</td>\n",
       "      <td>79</td>\n",
       "      <td>Male</td>\n",
       "      <td>Ex-smoker</td>\n",
       "      <td>-3.167126</td>\n",
       "      <td>2174.416183</td>\n",
       "      <td>1993.890009</td>\n",
       "      <td>63.109991</td>\n",
       "    </tr>\n",
       "    <tr>\n",
       "      <th>...</th>\n",
       "      <td>...</td>\n",
       "      <td>...</td>\n",
       "      <td>...</td>\n",
       "      <td>...</td>\n",
       "      <td>...</td>\n",
       "      <td>...</td>\n",
       "      <td>...</td>\n",
       "      <td>...</td>\n",
       "      <td>...</td>\n",
       "      <td>...</td>\n",
       "      <td>...</td>\n",
       "    </tr>\n",
       "    <tr>\n",
       "      <th>1540</th>\n",
       "      <td>ID00426637202313170790466</td>\n",
       "      <td>0</td>\n",
       "      <td>2925</td>\n",
       "      <td>71.824968</td>\n",
       "      <td>73</td>\n",
       "      <td>Male</td>\n",
       "      <td>Never smoked</td>\n",
       "      <td>-1.081317</td>\n",
       "      <td>2919.401434</td>\n",
       "      <td>2919.401434</td>\n",
       "      <td>5.598566</td>\n",
       "    </tr>\n",
       "    <tr>\n",
       "      <th>1541</th>\n",
       "      <td>ID00426637202313170790466</td>\n",
       "      <td>7</td>\n",
       "      <td>2903</td>\n",
       "      <td>71.284746</td>\n",
       "      <td>73</td>\n",
       "      <td>Male</td>\n",
       "      <td>Never smoked</td>\n",
       "      <td>-1.081317</td>\n",
       "      <td>2919.401434</td>\n",
       "      <td>2911.832213</td>\n",
       "      <td>8.832213</td>\n",
       "    </tr>\n",
       "    <tr>\n",
       "      <th>1542</th>\n",
       "      <td>ID00426637202313170790466</td>\n",
       "      <td>9</td>\n",
       "      <td>2916</td>\n",
       "      <td>71.603968</td>\n",
       "      <td>73</td>\n",
       "      <td>Male</td>\n",
       "      <td>Never smoked</td>\n",
       "      <td>-1.081317</td>\n",
       "      <td>2919.401434</td>\n",
       "      <td>2909.669579</td>\n",
       "      <td>6.330421</td>\n",
       "    </tr>\n",
       "    <tr>\n",
       "      <th>1543</th>\n",
       "      <td>ID00426637202313170790466</td>\n",
       "      <td>11</td>\n",
       "      <td>2976</td>\n",
       "      <td>73.077301</td>\n",
       "      <td>73</td>\n",
       "      <td>Male</td>\n",
       "      <td>Never smoked</td>\n",
       "      <td>-1.081317</td>\n",
       "      <td>2919.401434</td>\n",
       "      <td>2907.506944</td>\n",
       "      <td>68.493056</td>\n",
       "    </tr>\n",
       "    <tr>\n",
       "      <th>1546</th>\n",
       "      <td>ID00426637202313170790466</td>\n",
       "      <td>31</td>\n",
       "      <td>2908</td>\n",
       "      <td>71.407524</td>\n",
       "      <td>73</td>\n",
       "      <td>Male</td>\n",
       "      <td>Never smoked</td>\n",
       "      <td>-1.081317</td>\n",
       "      <td>2919.401434</td>\n",
       "      <td>2885.880600</td>\n",
       "      <td>22.119400</td>\n",
       "    </tr>\n",
       "  </tbody>\n",
       "</table>\n",
       "<p>901 rows × 11 columns</p>\n",
       "</div>"
      ],
      "text/plain": [
       "                        Patient  Weeks   FVC    Percent  Age   Sex  \\\n",
       "1     ID00007637202177411956430      5  2214  55.712129   79  Male   \n",
       "3     ID00007637202177411956430      9  2144  53.950679   79  Male   \n",
       "5     ID00007637202177411956430     17  2101  52.868646   79  Male   \n",
       "7     ID00007637202177411956430     41  2064  51.937594   79  Male   \n",
       "8     ID00007637202177411956430     57  2057  51.761449   79  Male   \n",
       "...                         ...    ...   ...        ...  ...   ...   \n",
       "1540  ID00426637202313170790466      0  2925  71.824968   73  Male   \n",
       "1541  ID00426637202313170790466      7  2903  71.284746   73  Male   \n",
       "1542  ID00426637202313170790466      9  2916  71.603968   73  Male   \n",
       "1543  ID00426637202313170790466     11  2976  73.077301   73  Male   \n",
       "1546  ID00426637202313170790466     31  2908  71.407524   73  Male   \n",
       "\n",
       "     SmokingStatus     slope    intersect     lr_value   abs_diff  \n",
       "1        Ex-smoker -3.167126  2174.416183  2158.580554  55.419446  \n",
       "3        Ex-smoker -3.167126  2174.416183  2145.912050   1.912050  \n",
       "5        Ex-smoker -3.167126  2174.416183  2120.575044  19.575044  \n",
       "7        Ex-smoker -3.167126  2174.416183  2044.564023  19.435977  \n",
       "8        Ex-smoker -3.167126  2174.416183  1993.890009  63.109991  \n",
       "...            ...       ...          ...          ...        ...  \n",
       "1540  Never smoked -1.081317  2919.401434  2919.401434   5.598566  \n",
       "1541  Never smoked -1.081317  2919.401434  2911.832213   8.832213  \n",
       "1542  Never smoked -1.081317  2919.401434  2909.669579   6.330421  \n",
       "1543  Never smoked -1.081317  2919.401434  2907.506944  68.493056  \n",
       "1546  Never smoked -1.081317  2919.401434  2885.880600  22.119400  \n",
       "\n",
       "[901 rows x 11 columns]"
      ]
     },
     "execution_count": 22,
     "metadata": {},
     "output_type": "execute_result"
    }
   ],
   "source": [
    "train[train.abs_diff < 70]"
   ]
  },
  {
   "cell_type": "code",
   "execution_count": 27,
   "metadata": {},
   "outputs": [
    {
     "data": {
      "text/plain": [
       "-0.011859100415736996"
      ]
     },
     "execution_count": 27,
     "metadata": {},
     "output_type": "execute_result"
    }
   ],
   "source": [
    "train.abs_diff.corr(train.Weeks) # little relation with the number of weeks that have passed?"
   ]
  },
  {
   "cell_type": "markdown",
   "metadata": {},
   "source": [
    "An important remark is that for a specific value of $\\Delta < 1000$ \n",
    "the best $\\sigma<70$ we can have is given by $\\sqrt(2)\\Delta$"
   ]
  },
  {
   "cell_type": "code",
   "execution_count": 56,
   "metadata": {},
   "outputs": [
    {
     "data": {
      "text/plain": [
       "-6.077131768171264"
      ]
     },
     "execution_count": 56,
     "metadata": {},
     "output_type": "execute_result"
    }
   ],
   "source": [
    "sigma = train.abs_diff.mean()*np.sqrt(2) # a possible value for sigma\n",
    "laplace_log_likelihood(train.FVC, train.lr_value, sigma)"
   ]
  },
  {
   "cell_type": "code",
   "execution_count": 57,
   "metadata": {},
   "outputs": [
    {
     "data": {
      "text/plain": [
       "-6.08673691848217"
      ]
     },
     "execution_count": 57,
     "metadata": {},
     "output_type": "execute_result"
    }
   ],
   "source": [
    "sigma = 70*np.sqrt(2)\n",
    "laplace_log_likelihood(train.FVC, train.lr_value, sigma)"
   ]
  },
  {
   "cell_type": "code",
   "execution_count": 52,
   "metadata": {},
   "outputs": [
    {
     "data": {
      "image/png": "[encoded data removed]",
      "text/plain": [
       "<Figure size 432x288 with 1 Axes>"
      ]
     },
     "metadata": {
      "needs_background": "light"
     },
     "output_type": "display_data"
    }
   ],
   "source": [
    "#sorted(train.Weeks,reverse=True)\n",
    "# 133, 117, 116 - good one, 107 - difficult one, \n",
    "\n",
    "patient = 'ID00383637202300493233675'\n",
    "plt.plot(train[train['Patient'] == patient].Weeks, train[train['Patient'] == patient].FVC,label='True Value')\n",
    "plt.plot(train[train['Patient'] == patient].Weeks, train[train['Patient'] == patient].lr_value, label = 'Prediciton')\n",
    "plt.legend(loc='best')\n",
    "plt.show()"
   ]
  },
  {
   "cell_type": "code",
   "execution_count": null,
   "metadata": {},
   "outputs": [],
   "source": []
  }
 ],
 "metadata": {
  "kernelspec": {
   "display_name": "Python 3",
   "language": "python",
   "name": "python3"
  },
  "language_info": {
   "codemirror_mode": {
    "name": "ipython",
    "version": 3
   },
   "file_extension": ".py",
   "mimetype": "text/x-python",
   "name": "python",
   "nbconvert_exporter": "python",
   "pygments_lexer": "ipython3",
   "version": "3.7.7"
  }
 },
 "nbformat": 4,
 "nbformat_minor": 4
}
