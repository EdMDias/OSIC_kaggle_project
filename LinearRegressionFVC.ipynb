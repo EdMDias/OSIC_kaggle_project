{
 "cells": [
  {
   "cell_type": "code",
   "execution_count": 1,
   "metadata": {},
   "outputs": [],
   "source": [
    "import pandas as pd\n",
    "import numpy as np\n",
    "from sklearn.linear_model import LinearRegression\n",
    "import matplotlib.pyplot as plt"
   ]
  },
  {
   "cell_type": "code",
   "execution_count": 2,
   "metadata": {},
   "outputs": [],
   "source": [
    "train = pd.read_csv('train.csv')\n",
    "test = pd.read_csv('test.csv')"
   ]
  },
  {
   "cell_type": "code",
   "execution_count": 3,
   "metadata": {},
   "outputs": [],
   "source": [
    "train.drop_duplicates(keep=False, inplace=True, subset=['Patient','Weeks']) #there are 14 duplicates"
   ]
  },
  {
   "cell_type": "code",
   "execution_count": null,
   "metadata": {},
   "outputs": [],
   "source": []
  },
  {
   "cell_type": "code",
   "execution_count": 4,
   "metadata": {},
   "outputs": [],
   "source": [
    "patients = train.Patient.unique()"
   ]
  },
  {
   "cell_type": "code",
   "execution_count": 5,
   "metadata": {},
   "outputs": [],
   "source": [
    "LinearData = pd.DataFrame(index=patients, columns= ['slope', 'intersect'])"
   ]
  },
  {
   "cell_type": "code",
   "execution_count": null,
   "metadata": {},
   "outputs": [],
   "source": []
  },
  {
   "cell_type": "code",
   "execution_count": 6,
   "metadata": {},
   "outputs": [],
   "source": [
    "for pat in patients:\n",
    "    x = np.array(train[train.Patient == pat]['Weeks'].to_list()).reshape(-1,1)\n",
    "    y = np.array(train[train.Patient == pat]['FVC'].to_list())\n",
    "    lr = LinearRegression().fit(x,y)\n",
    "    LinearData.loc[pat].slope = lr.coef_[0]\n",
    "    LinearData.loc[pat].intersect = lr.intercept_\n",
    "    \n",
    "LinearData.to_csv('patient_slope_intercept.csv')"
   ]
  },
  {
   "cell_type": "code",
   "execution_count": 7,
   "metadata": {},
   "outputs": [
    {
     "data": {
      "text/html": [
       "<div>\n",
       "<style scoped>\n",
       "    .dataframe tbody tr th:only-of-type {\n",
       "        vertical-align: middle;\n",
       "    }\n",
       "\n",
       "    .dataframe tbody tr th {\n",
       "        vertical-align: top;\n",
       "    }\n",
       "\n",
       "    .dataframe thead th {\n",
       "        text-align: right;\n",
       "    }\n",
       "</style>\n",
       "<table border=\"1\" class=\"dataframe\">\n",
       "  <thead>\n",
       "    <tr style=\"text-align: right;\">\n",
       "      <th></th>\n",
       "      <th>slope</th>\n",
       "      <th>intersect</th>\n",
       "    </tr>\n",
       "  </thead>\n",
       "  <tbody>\n",
       "    <tr>\n",
       "      <th>ID00007637202177411956430</th>\n",
       "      <td>-3.16713</td>\n",
       "      <td>2174.42</td>\n",
       "    </tr>\n",
       "    <tr>\n",
       "      <th>ID00009637202177434476278</th>\n",
       "      <td>-9.37996</td>\n",
       "      <td>3821.79</td>\n",
       "    </tr>\n",
       "    <tr>\n",
       "      <th>ID00010637202177584971671</th>\n",
       "      <td>-17.0428</td>\n",
       "      <td>3311.69</td>\n",
       "    </tr>\n",
       "    <tr>\n",
       "      <th>ID00011637202177653955184</th>\n",
       "      <td>-4.54893</td>\n",
       "      <td>3487.08</td>\n",
       "    </tr>\n",
       "    <tr>\n",
       "      <th>ID00012637202177665765362</th>\n",
       "      <td>-8.54308</td>\n",
       "      <td>3774.03</td>\n",
       "    </tr>\n",
       "  </tbody>\n",
       "</table>\n",
       "</div>"
      ],
      "text/plain": [
       "                             slope intersect\n",
       "ID00007637202177411956430 -3.16713   2174.42\n",
       "ID00009637202177434476278 -9.37996   3821.79\n",
       "ID00010637202177584971671 -17.0428   3311.69\n",
       "ID00011637202177653955184 -4.54893   3487.08\n",
       "ID00012637202177665765362 -8.54308   3774.03"
      ]
     },
     "execution_count": 7,
     "metadata": {},
     "output_type": "execute_result"
    }
   ],
   "source": [
    "LinearData.head()"
   ]
  },
  {
   "cell_type": "code",
   "execution_count": null,
   "metadata": {},
   "outputs": [],
   "source": []
  },
  {
   "cell_type": "code",
   "execution_count": 8,
   "metadata": {},
   "outputs": [
    {
     "data": {
      "text/plain": [
       "(array([ 1.,  0.,  1.,  2.,  0.,  1.,  1.,  1.,  3.,  3.,  2.,  3.,  7.,\n",
       "        14., 10., 15., 23., 20., 23., 21., 11.,  4.,  4.,  0.,  2.,  1.,\n",
       "         1.,  1.,  0.,  1.]),\n",
       " array([-28.18257491675915, -26.753735361805727, -25.324895806852304,\n",
       "        -23.896056251898877, -22.467216696945453, -21.03837714199203,\n",
       "        -19.609537587038606, -18.180698032085182, -16.751858477131755,\n",
       "        -15.323018922178333, -13.894179367224908, -12.465339812271484,\n",
       "        -11.03650025731806, -9.607660702364637, -8.17882114741121,\n",
       "        -6.749981592457786, -5.321142037504362, -3.8923024825509387,\n",
       "        -2.463462927597515, -1.0346233726440879, 0.39421618230933575,\n",
       "        1.8230557372627594, 3.251895292216183, 4.68073484716961,\n",
       "        6.10957440212303, 7.5384139570764575, 8.967253512029878,\n",
       "        10.396093066983305, 11.824932621936732, 13.253772176890152,\n",
       "        14.682611731843576], dtype=object),\n",
       " <a list of 30 Patch objects>)"
      ]
     },
     "execution_count": 8,
     "metadata": {},
     "output_type": "execute_result"
    },
    {
     "data": {
      "image/png": "[encoded data removed]",
      "text/plain": [
       "<Figure size 432x288 with 1 Axes>"
      ]
     },
     "metadata": {
      "needs_background": "light"
     },
     "output_type": "display_data"
    }
   ],
   "source": [
    "plt.hist(LinearData.slope, bins=30)"
   ]
  },
  {
   "cell_type": "code",
   "execution_count": 9,
   "metadata": {},
   "outputs": [
    {
     "name": "stdout",
     "output_type": "stream",
     "text": [
      "-28.18257491675915 14.682611731843576\n"
     ]
    }
   ],
   "source": [
    "print(LinearData.slope.min(),LinearData.slope.max())"
   ]
  },
  {
   "cell_type": "code",
   "execution_count": 10,
   "metadata": {},
   "outputs": [
    {
     "name": "stdout",
     "output_type": "stream",
     "text": [
      "1063.4501144913313 5919.045454545454\n"
     ]
    }
   ],
   "source": [
    "print(LinearData.intersect.min(),LinearData.intersect.max())"
   ]
  },
  {
   "cell_type": "code",
   "execution_count": null,
   "metadata": {},
   "outputs": [],
   "source": []
  }
 ],
 "metadata": {
  "kernelspec": {
   "display_name": "Python 3",
   "language": "python",
   "name": "python3"
  },
  "language_info": {
   "codemirror_mode": {
    "name": "ipython",
    "version": 3
   },
   "file_extension": ".py",
   "mimetype": "text/x-python",
   "name": "python",
   "nbconvert_exporter": "python",
   "pygments_lexer": "ipython3",
   "version": "3.7.7"
  }
 },
 "nbformat": 4,
 "nbformat_minor": 4
}
