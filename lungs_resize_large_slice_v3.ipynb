{
 "cells": [
  {
   "cell_type": "code",
   "execution_count": 104,
   "metadata": {},
   "outputs": [],
   "source": [
    "import pandas as pd\n",
    "import numpy as np\n",
    "import pydicom \n",
    "import os\n",
    "import matplotlib\n",
    "import matplotlib.pyplot as plt\n",
    "\n",
    "from skimage.measure import label,regionprops\n",
    "from skimage.segmentation import clear_border\n",
    "\n",
    "from sklearn.cluster import KMeans\n",
    "from skimage import morphology\n",
    "from skimage import measure\n",
    "from skimage.transform import resize\n",
    "\n",
    "import scipy"
   ]
  },
  {
   "cell_type": "code",
   "execution_count": 105,
   "metadata": {},
   "outputs": [],
   "source": [
    "train = pd.read_csv(\"train.csv\")\n",
    "test = pd.read_csv(\"test.csv\")\n",
    "submission = pd.read_csv('sample_submission.csv')"
   ]
  },
  {
   "cell_type": "code",
   "execution_count": 106,
   "metadata": {},
   "outputs": [],
   "source": [
    "patients = train.Patient.unique()"
   ]
  },
  {
   "cell_type": "code",
   "execution_count": 107,
   "metadata": {},
   "outputs": [],
   "source": [
    "#this is a list of patients for which there is a border around the scans \n",
    "patients_with_border = ['ID00419637202311204720264', 'ID00240637202264138860065', 'ID00122637202216437668965', 'ID00086637202203494931510', \n",
    "                      'ID00094637202205333947361', 'ID00067637202189903532242', 'ID00014637202177757139317']"
   ]
  },
  {
   "cell_type": "code",
   "execution_count": 108,
   "metadata": {},
   "outputs": [],
   "source": [
    "def load_scan(path):\n",
    "    slices = [pydicom.read_file(path + '/' + s) for s in os.listdir(path)]\n",
    "    slices.sort(key = lambda x: int(x.InstanceNumber))\n",
    "    return slices\n",
    "\n",
    "def scan_28(scan):\n",
    "    \n",
    "    if len(scan) > 28:\n",
    "        n = int(round(len(scan)/28))\n",
    "        smaller = []\n",
    "        j=0\n",
    "        while j < len(scan):\n",
    "            smaller.append(scan[j])\n",
    "            j += n\n",
    "        return smaller\n",
    "    else:\n",
    "        return scan\n",
    "    \n",
    "def load_scan_28(path):\n",
    "    return scan_28(load_scan(path))"
   ]
  },
  {
   "cell_type": "code",
   "execution_count": 109,
   "metadata": {},
   "outputs": [],
   "source": [
    "def get_pixels_hu(scans):\n",
    "    image = np.stack([s.pixel_array for s in scans])\n",
    "    # Convert to int16 (from sometimes int16), \n",
    "    # should be possible as values should always be low enough (<32k)\n",
    "    image = image.astype(np.int16)\n",
    "\n",
    "    # Set outside-of-scan pixels to 1\n",
    "    # The intercept is usually -1024, so air is approximately 0\n",
    "    image[image == -2000] = 0\n",
    "    image[image == -3000] = 0\n",
    "    \n",
    "    # Convert to Hounsfield units (HU)\n",
    "    intercept = scans[0].RescaleIntercept\n",
    "    slope = scans[0].RescaleSlope\n",
    "    \n",
    "    if slope != 1:\n",
    "        image = slope * image.astype(np.float64)\n",
    "        image = image.astype(np.int16)\n",
    "        \n",
    "    image += np.int16(intercept)\n",
    "    \n",
    "    return np.array(image, dtype=np.int16)"
   ]
  },
  {
   "cell_type": "code",
   "execution_count": 110,
   "metadata": {},
   "outputs": [],
   "source": [
    "def crop_center(img):\n",
    "    y,x = img.shape    \n",
    "    return img[y//2 - 256:y//2 + 256,x//2 - 256:x//2 + 256]\n",
    "\n",
    "def shape_512(array):\n",
    "    \n",
    "    array_512 = np.zeros([array.shape[0],512,512])\n",
    "    \n",
    "    for i in range(array.shape[0]):\n",
    "        array_512[i] = crop_center(array[i])\n",
    "        \n",
    "    return array_512"
   ]
  },
  {
   "cell_type": "code",
   "execution_count": 111,
   "metadata": {},
   "outputs": [],
   "source": [
    "def scale_img(img):\n",
    "    return resize(img, (512, 512))\n",
    "\n",
    "def scale_array(array):\n",
    "    \n",
    "    array_512 = np.zeros([array.shape[0],512,512])\n",
    "    \n",
    "    for i in range(array.shape[0]):\n",
    "        array_512[i] = scale_img(array[i])\n",
    "        \n",
    "    return array_512"
   ]
  },
  {
   "cell_type": "code",
   "execution_count": null,
   "metadata": {},
   "outputs": [],
   "source": []
  },
  {
   "cell_type": "code",
   "execution_count": 112,
   "metadata": {},
   "outputs": [],
   "source": [
    "def first_treatment(path):\n",
    "    pat = path.split('/')[1]\n",
    "    scan_28 = load_scan_28(path)\n",
    "    imgs = get_pixels_hu(scan_28)\n",
    "    if pat in patients_with_border:\n",
    "        return shape_512(imgs)\n",
    "    elif imgs[1].shape[0] > 512:\n",
    "        return scale_array(imgs)\n",
    "    else:\n",
    "        return imgs        "
   ]
  },
  {
   "cell_type": "code",
   "execution_count": null,
   "metadata": {},
   "outputs": [],
   "source": []
  },
  {
   "cell_type": "code",
   "execution_count": 113,
   "metadata": {},
   "outputs": [],
   "source": [
    "def make_lungmask(imgs):\n",
    "\n",
    "    vert_size = imgs.shape[0]\n",
    "    row_size= imgs.shape[1]\n",
    "    col_size = imgs.shape[2]\n",
    "\n",
    "    mean = np.mean(imgs)\n",
    "    std = np.std(imgs)\n",
    "    imgs = imgs-mean\n",
    "    imgs = imgs/std\n",
    "    # Find the average pixel value near the lungs\n",
    "    # to renormalize washed out images\n",
    "    middle = imgs[int(vert_size/5):int(vert_size/5*4),int(col_size/5):int(col_size/5*4),int(row_size/5):int(row_size/5*4)] \n",
    "    mean = np.mean(middle)\n",
    "    max = np.max(imgs)\n",
    "    min = np.min(imgs)\n",
    "    # To improve threshold finding, I'm moving the \n",
    "    # underflow and overflow on the pixel spectrum\n",
    "    imgs[imgs==max]=mean\n",
    "    imgs[imgs==min]=mean\n",
    "\n",
    "    #\n",
    "    # Using Kmeans to separate foreground (soft tissue / bone) and background (lung/air)\n",
    "    #\n",
    "    kmeans = KMeans(n_clusters=2).fit(np.reshape(middle,[np.prod(middle.shape),1]))\n",
    "    centers = sorted(kmeans.cluster_centers_.flatten())\n",
    "    threshold = np.mean(centers)\n",
    "    thresh_imgs = np.where(imgs<threshold,1.0,0.0)  # threshold the image\n",
    "    for i in range(vert_size):\n",
    "        thresh_imgs[i] = clear_border(thresh_imgs[i])\n",
    "\n",
    "    eroded = morphology.erosion(thresh_imgs,np.ones([1,4,4]))\n",
    "    dilation = morphology.dilation(eroded,np.ones([1,8,8]))\n",
    "\n",
    "    labels = measure.label(dilation) # Different labels are displayed in different colors\n",
    "    label_vals = np.unique(labels)\n",
    "    regions = measure.regionprops(labels)\n",
    "    good_labels = []\n",
    "    for prop in regions:\n",
    "        B = prop.bbox\n",
    "        if prop.area > 5000:\n",
    "            #and B[2]>200 and B[0]<300:\n",
    "            good_labels.append(prop.label)\n",
    "\n",
    "    mask = np.ndarray([vert_size,row_size,col_size],dtype=np.int8)\n",
    "    mask[::] = 0\n",
    "\n",
    "    for N in good_labels:\n",
    "        mask = mask + np.where(labels==N,1,0)\n",
    "    mask = morphology.dilation(mask,np.ones([1,8,8])) # one last dilation\n",
    "\n",
    "    return mask*(imgs+2)\n",
    "\n",
    "def best_lung_img(imgs):\n",
    "    lungs = make_lungmask(imgs)\n",
    "    img = lungs[1]\n",
    "    pixel_nr = (img != 0).sum()\n",
    "    \n",
    "    for i in range(2,lungs.shape[0]):\n",
    "        tmp_img = lungs[i]\n",
    "        tmp_pixel_nr = (tmp_img != 0).sum() \n",
    "        if tmp_pixel_nr > pixel_nr:\n",
    "            img = tmp_img\n",
    "            pixel_nr = tmp_pixel_nr\n",
    "            \n",
    "    return img\n",
    "\n",
    "def best_lung_slice(path):\n",
    "    imgs = first_treatment(path)\n",
    "    return best_lung_img(imgs)"
   ]
  },
  {
   "cell_type": "code",
   "execution_count": 12,
   "metadata": {},
   "outputs": [],
   "source": [
    "for pat in patients:\n",
    "    np.savetxt('best_lung_slice/' + pat  + '.txt', best_lung_slice('train/' + pat)) "
   ]
  },
  {
   "cell_type": "code",
   "execution_count": null,
   "metadata": {},
   "outputs": [],
   "source": []
  },
  {
   "cell_type": "code",
   "execution_count": 13,
   "metadata": {},
   "outputs": [],
   "source": [
    "def load_best_slices(path):\n",
    "    ind = []\n",
    "    for file in os.listdir(path):\n",
    "        if file.split('.')[1] == 'txt':\n",
    "            ind.append(file.split('.')[0])\n",
    "        \n",
    "    df = pd.DataFrame(index = ind, columns= ['CT'])\n",
    "    for ind in df.index:\n",
    "        df.loc[ind].CT = np.loadtxt(path + ind + '.txt')\n",
    "    \n",
    "    return df\n",
    "\n",
    "df = load_best_slices('best_lung_slice/')\n",
    "\n",
    "import matplotlib\n",
    "\n",
    "for ind in df.index.to_list():\n",
    "    matplotlib.image.imsave('lung_images/'+ ind +'.jpeg', df.loc[ind].CT)"
   ]
  },
  {
   "cell_type": "code",
   "execution_count": null,
   "metadata": {},
   "outputs": [],
   "source": []
  },
  {
   "cell_type": "code",
   "execution_count": null,
   "metadata": {},
   "outputs": [],
   "source": []
  },
  {
   "cell_type": "code",
   "execution_count": null,
   "metadata": {},
   "outputs": [],
   "source": []
  }
 ],
 "metadata": {
  "kernelspec": {
   "display_name": "Python 3",
   "language": "python",
   "name": "python3"
  },
  "language_info": {
   "codemirror_mode": {
    "name": "ipython",
    "version": 3
   },
   "file_extension": ".py",
   "mimetype": "text/x-python",
   "name": "python",
   "nbconvert_exporter": "python",
   "pygments_lexer": "ipython3",
   "version": "3.7.7"
  }
 },
 "nbformat": 4,
 "nbformat_minor": 4
}
