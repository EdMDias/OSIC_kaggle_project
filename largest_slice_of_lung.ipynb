{
 "cells": [
  {
   "cell_type": "code",
   "execution_count": 1,
   "metadata": {},
   "outputs": [],
   "source": [
    "import pandas as pd\n",
    "import numpy as np\n",
    "import pydicom \n",
    "import os\n",
    "import matplotlib.pyplot as plt\n",
    "\n",
    "from skimage.measure import label,regionprops\n",
    "from skimage.segmentation import clear_border"
   ]
  },
  {
   "cell_type": "code",
   "execution_count": 2,
   "metadata": {},
   "outputs": [],
   "source": [
    "train = pd.read_csv(\"train.csv\")\n",
    "test = pd.read_csv(\"test.csv\")\n",
    "submission = pd.read_csv('sample_submission.csv')"
   ]
  },
  {
   "cell_type": "code",
   "execution_count": 3,
   "metadata": {},
   "outputs": [],
   "source": [
    "def load_scans(path):\n",
    "    slices = [pydicom.dcmread(path + '/' + file) for file in os.listdir(path)]\n",
    "    slices.sort(key = lambda x : float(x.ImagePositionPatient[2]))\n",
    "    return slices"
   ]
  },
  {
   "cell_type": "code",
   "execution_count": 4,
   "metadata": {},
   "outputs": [],
   "source": [
    "def lung_slices_pic(slices):\n",
    "    slices_3d = []\n",
    "    for slc in slices:\n",
    "        tmp_dicom = slc.pixel_array\n",
    "        img = (tmp_dicom + slc.RescaleIntercept)/ slc.RescaleSlope\n",
    "        img = img < -400\n",
    "        img = clear_border(img)\n",
    "        \n",
    "        img = label(img)\n",
    "        \n",
    "        areas = [r.area for r in regionprops(img)]\n",
    "        areas.sort()\n",
    "        if len(areas) > 2:\n",
    "            for region in regionprops(img):\n",
    "                if region.area < areas[-2]:\n",
    "                    for coordinates in region.coords:                \n",
    "                        img[coordinates[0], coordinates[1]] = 0\n",
    "        img = img > 0\n",
    "        \n",
    "        \n",
    "        slices_3d.append(img*tmp_dicom)\n",
    "        \n",
    "    return np.array(slices_3d)"
   ]
  },
  {
   "cell_type": "code",
   "execution_count": 5,
   "metadata": {},
   "outputs": [],
   "source": [
    "def best_slice(array):\n",
    "    tmp_best = array[0]\n",
    "    pixel_nr = 0\n",
    "    for i in range(1,array.shape[0]):\n",
    "        if (array[i]!=0).sum() > pixel_nr:\n",
    "            tmp_best = array[i]\n",
    "            pixel_nr = (array[i]!=0).sum()\n",
    "    return tmp_best"
   ]
  },
  {
   "cell_type": "code",
   "execution_count": 6,
   "metadata": {},
   "outputs": [],
   "source": [
    "#example = 'train/' + train['Patient'][0]\n",
    "#example_3d = lung_slices_pic(load_scans(example))\n",
    "\n",
    "#plt.imshow(best_slice(example_3d))"
   ]
  },
  {
   "cell_type": "code",
   "execution_count": 7,
   "metadata": {},
   "outputs": [],
   "source": [
    "patients = train.Patient.unique()"
   ]
  },
  {
   "cell_type": "code",
   "execution_count": 8,
   "metadata": {},
   "outputs": [],
   "source": [
    "train_ct = pd.DataFrame(index=patients, columns=['CT'])\n",
    "train_ct = train_ct.drop(index = ['ID00011637202177653955184', 'ID00026637202179561894768', 'ID00132637202222178761324'])"
   ]
  },
  {
   "cell_type": "code",
   "execution_count": null,
   "metadata": {},
   "outputs": [],
   "source": [
    "for ind in train_ct.index:\n",
    "    train_ct.loc[ind].CT = best_slice( lung_slices_pic(load_scans( 'train/' + ind  )) )"
   ]
  },
  {
   "cell_type": "code",
   "execution_count": null,
   "metadata": {},
   "outputs": [],
   "source": [
    "#train_ct.to_csv('train_CT.csv')"
   ]
  },
  {
   "cell_type": "code",
   "execution_count": 1,
   "metadata": {},
   "outputs": [
    {
     "ename": "NameError",
     "evalue": "name 'train_ct' is not defined",
     "output_type": "error",
     "traceback": [
      "\u001b[0;31m---------------------------------------------------------------------------\u001b[0m",
      "\u001b[0;31mNameError\u001b[0m                                 Traceback (most recent call last)",
      "\u001b[0;32m<ipython-input-1-5af3c09ad3cb>\u001b[0m in \u001b[0;36m<module>\u001b[0;34m\u001b[0m\n\u001b[0;32m----> 1\u001b[0;31m \u001b[0mtrain_ct\u001b[0m\u001b[0;34m[\u001b[0m\u001b[0mtrain_ct\u001b[0m\u001b[0;34m.\u001b[0m\u001b[0mCT\u001b[0m\u001b[0;34m.\u001b[0m\u001b[0misna\u001b[0m\u001b[0;34m(\u001b[0m\u001b[0;34m)\u001b[0m\u001b[0;34m]\u001b[0m\u001b[0;34m\u001b[0m\u001b[0;34m\u001b[0m\u001b[0m\n\u001b[0m",
      "\u001b[0;31mNameError\u001b[0m: name 'train_ct' is not defined"
     ]
    }
   ],
   "source": [
    "train_ct[train_ct.CT.isna()]"
   ]
  },
  {
   "cell_type": "code",
   "execution_count": null,
   "metadata": {},
   "outputs": [],
   "source": [
    "#best_slice( lung_slices_pic(load_scans( 'train/' + ''  )) )"
   ]
  },
  {
   "cell_type": "code",
   "execution_count": null,
   "metadata": {},
   "outputs": [],
   "source": []
  }
 ],
 "metadata": {
  "kernelspec": {
   "display_name": "Python 3",
   "language": "python",
   "name": "python3"
  },
  "language_info": {
   "codemirror_mode": {
    "name": "ipython",
    "version": 3
   },
   "file_extension": ".py",
   "mimetype": "text/x-python",
   "name": "python",
   "nbconvert_exporter": "python",
   "pygments_lexer": "ipython3",
   "version": "3.7.7"
  }
 },
 "nbformat": 4,
 "nbformat_minor": 4
}
