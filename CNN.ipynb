{
 "cells": [
  {
   "cell_type": "code",
   "execution_count": 1,
   "metadata": {},
   "outputs": [
    {
     "name": "stderr",
     "output_type": "stream",
     "text": [
      "Using TensorFlow backend.\n"
     ]
    }
   ],
   "source": [
    "import pandas as pd\n",
    "import numpy as np\n",
    "import pydicom \n",
    "import os\n",
    "import matplotlib.pyplot as plt\n",
    "\n",
    "from sklearn.model_selection import train_test_split\n",
    "\n",
    "from keras.models import Model, Sequential\n",
    "from keras.layers import Concatenate, Dense, Input, concatenate\n",
    "from keras.layers import Dense, Dropout, Conv2D, MaxPool2D, Flatten"
   ]
  },
  {
   "cell_type": "code",
   "execution_count": 2,
   "metadata": {},
   "outputs": [],
   "source": [
    "def load_best_slices(path):\n",
    "    ind = []\n",
    "    for file in os.listdir(path):\n",
    "        if file.split('.')[1] == 'txt':\n",
    "            ind.append(file.split('.')[0])\n",
    "        \n",
    "    df = pd.DataFrame(index = ind, columns= ['CT'])\n",
    "    for ind in df.index:\n",
    "        df.loc[ind].CT = np.loadtxt(path + ind + '.txt')\n",
    "    \n",
    "    return df\n",
    "\n",
    "df = load_best_slices('best_lung_slice/')"
   ]
  },
  {
   "cell_type": "code",
   "execution_count": 3,
   "metadata": {},
   "outputs": [],
   "source": [
    "linear_data_all = pd.read_csv('patient_slope_intercept.csv', index_col=0)\n",
    "result = pd.DataFrame(index = df.index, columns = ['slope', 'intersect'])\n",
    "\n",
    "for ind in result.index:\n",
    "    result.loc[ind].slope = linear_data_all.loc[ind].slope\n",
    "    result.loc[ind].intersect = linear_data_all.loc[ind].intersect"
   ]
  },
  {
   "cell_type": "code",
   "execution_count": 4,
   "metadata": {},
   "outputs": [],
   "source": [
    "dataset = df.values"
   ]
  },
  {
   "cell_type": "code",
   "execution_count": 5,
   "metadata": {},
   "outputs": [],
   "source": [
    "X = []\n",
    "for ind in df.index:\n",
    "    X.append(df.loc[ind].CT)\n",
    "\n",
    "X = np.array(X)\n",
    "X = X.reshape(X.shape[0], 512, 512, 1)"
   ]
  },
  {
   "cell_type": "code",
   "execution_count": 6,
   "metadata": {},
   "outputs": [],
   "source": [
    "from sklearn.preprocessing import MinMaxScaler\n",
    "y = result.values\n",
    "scaler = MinMaxScaler()\n",
    "scaler.fit(y)\n",
    "y_scaled = scaler.transform(y)"
   ]
  },
  {
   "cell_type": "code",
   "execution_count": 7,
   "metadata": {},
   "outputs": [],
   "source": [
    "X_train, X_test, y_train, y_test = train_test_split(X, y, test_size=0.33)"
   ]
  },
  {
   "cell_type": "code",
   "execution_count": 8,
   "metadata": {},
   "outputs": [],
   "source": [
    "# building a linear stack of layers with the sequential model\n",
    "model = Sequential()\n",
    "# convolutional layer\n",
    "model.add(Conv2D(10, kernel_size=(2,2), strides=(1,1), padding='valid', activation='relu', input_shape=(512,512,1)))\n",
    "model.add(MaxPool2D(pool_size=(1,1)))\n",
    "# flatten output of conv\n",
    "model.add(Flatten())\n",
    "# hidden layer\n",
    "model.add(Dense(2, activation='relu'))\n",
    "# output layer\n",
    "model.add(Dense(2, activation='sigmoid'))"
   ]
  },
  {
   "cell_type": "code",
   "execution_count": null,
   "metadata": {},
   "outputs": [],
   "source": []
  },
  {
   "cell_type": "code",
   "execution_count": 9,
   "metadata": {},
   "outputs": [],
   "source": [
    "model.compile(loss='mean_squared_error', metrics=['accuracy'], optimizer='adam')"
   ]
  },
  {
   "cell_type": "code",
   "execution_count": null,
   "metadata": {},
   "outputs": [
    {
     "name": "stdout",
     "output_type": "stream",
     "text": [
      "Train on 117 samples, validate on 59 samples\n",
      "Epoch 1/100\n",
      "117/117 [==============================] - 7s 56ms/step - loss: 4137124.2137 - accuracy: 1.0000 - val_loss: 4659817.8390 - val_accuracy: 1.0000\n",
      "Epoch 2/100\n",
      "117/117 [==============================] - 6s 52ms/step - loss: 4137030.6068 - accuracy: 1.0000 - val_loss: 4659817.8390 - val_accuracy: 1.0000\n",
      "Epoch 3/100\n",
      "117/117 [==============================] - 6s 54ms/step - loss: 4137030.5855 - accuracy: 1.0000 - val_loss: 4659817.8390 - val_accuracy: 1.0000\n",
      "Epoch 4/100\n",
      "117/117 [==============================] - 6s 53ms/step - loss: 4137030.5449 - accuracy: 1.0000 - val_loss: 4659817.8390 - val_accuracy: 1.0000\n",
      "Epoch 5/100\n",
      "117/117 [==============================] - 6s 53ms/step - loss: 4137030.7692 - accuracy: 1.0000 - val_loss: 4659817.8390 - val_accuracy: 1.0000\n",
      "Epoch 6/100\n",
      "117/117 [==============================] - 6s 53ms/step - loss: 4137030.6154 - accuracy: 1.0000 - val_loss: 4659817.8390 - val_accuracy: 1.0000\n",
      "Epoch 7/100\n",
      "117/117 [==============================] - 6s 53ms/step - loss: 4137030.7350 - accuracy: 1.0000 - val_loss: 4659817.8390 - val_accuracy: 1.0000\n",
      "Epoch 8/100\n",
      "117/117 [==============================] - 6s 53ms/step - loss: 4137030.6496 - accuracy: 1.0000 - val_loss: 4659817.8390 - val_accuracy: 1.0000\n",
      "Epoch 9/100\n",
      "117/117 [==============================] - 6s 53ms/step - loss: 4137030.7201 - accuracy: 1.0000 - val_loss: 4659817.8390 - val_accuracy: 1.0000\n",
      "Epoch 10/100\n",
      "117/117 [==============================] - 6s 53ms/step - loss: 4137030.6923 - accuracy: 1.0000 - val_loss: 4659817.8390 - val_accuracy: 1.0000\n",
      "Epoch 11/100\n",
      "117/117 [==============================] - 6s 54ms/step - loss: 4137030.7350 - accuracy: 1.0000 - val_loss: 4659817.8390 - val_accuracy: 1.0000\n",
      "Epoch 12/100\n",
      "117/117 [==============================] - 6s 54ms/step - loss: 4137030.5940 - accuracy: 1.0000 - val_loss: 4659817.8390 - val_accuracy: 1.0000\n",
      "Epoch 13/100\n",
      "117/117 [==============================] - 6s 54ms/step - loss: 4137030.7009 - accuracy: 1.0000 - val_loss: 4659817.8390 - val_accuracy: 1.0000\n",
      "Epoch 14/100\n",
      "117/117 [==============================] - 6s 53ms/step - loss: 4137030.7030 - accuracy: 1.0000 - val_loss: 4659817.8390 - val_accuracy: 1.0000\n",
      "Epoch 15/100\n",
      "117/117 [==============================] - 6s 54ms/step - loss: 4137030.6816 - accuracy: 1.0000 - val_loss: 4659817.8390 - val_accuracy: 1.0000\n",
      "Epoch 16/100\n",
      "117/117 [==============================] - 6s 53ms/step - loss: 4137030.7393 - accuracy: 1.0000 - val_loss: 4659817.8390 - val_accuracy: 1.0000\n",
      "Epoch 17/100\n",
      "117/117 [==============================] - 6s 53ms/step - loss: 4137030.6880 - accuracy: 1.0000 - val_loss: 4659817.8390 - val_accuracy: 1.0000\n",
      "Epoch 18/100\n",
      "117/117 [==============================] - 6s 53ms/step - loss: 4137030.6944 - accuracy: 1.0000 - val_loss: 4659817.8390 - val_accuracy: 1.0000\n",
      "Epoch 19/100\n",
      "117/117 [==============================] - 6s 55ms/step - loss: 4137030.5940 - accuracy: 1.0000 - val_loss: 4659817.8390 - val_accuracy: 1.0000\n",
      "Epoch 20/100\n",
      "117/117 [==============================] - 6s 54ms/step - loss: 4137030.6368 - accuracy: 1.0000 - val_loss: 4659817.8390 - val_accuracy: 1.0000\n",
      "Epoch 21/100\n",
      "117/117 [==============================] - 6s 53ms/step - loss: 4137030.6795 - accuracy: 1.0000 - val_loss: 4659817.8390 - val_accuracy: 1.0000\n",
      "Epoch 22/100\n",
      "117/117 [==============================] - 6s 54ms/step - loss: 4137030.6838 - accuracy: 1.0000 - val_loss: 4659817.8390 - val_accuracy: 1.0000\n",
      "Epoch 23/100\n",
      "117/117 [==============================] - 6s 55ms/step - loss: 4137030.5983 - accuracy: 1.0000 - val_loss: 4659817.8390 - val_accuracy: 1.0000\n",
      "Epoch 24/100\n",
      "117/117 [==============================] - 6s 53ms/step - loss: 4137030.7179 - accuracy: 1.0000 - val_loss: 4659817.8390 - val_accuracy: 1.0000\n",
      "Epoch 25/100\n",
      "117/117 [==============================] - 6s 53ms/step - loss: 4137030.6432 - accuracy: 1.0000 - val_loss: 4659817.8390 - val_accuracy: 1.0000\n",
      "Epoch 26/100\n",
      "117/117 [==============================] - 8s 68ms/step - loss: 4137030.6795 - accuracy: 1.0000 - val_loss: 4659817.8390 - val_accuracy: 1.0000\n",
      "Epoch 27/100\n",
      "117/117 [==============================] - 7s 58ms/step - loss: 4137030.7756 - accuracy: 1.0000 - val_loss: 4659817.8390 - val_accuracy: 1.0000\n",
      "Epoch 28/100\n",
      "117/117 [==============================] - 7s 61ms/step - loss: 4137030.6111 - accuracy: 1.0000 - val_loss: 4659817.8390 - val_accuracy: 1.0000\n",
      "Epoch 29/100\n",
      "117/117 [==============================] - 7s 62ms/step - loss: 4137030.6966 - accuracy: 1.0000 - val_loss: 4659817.8390 - val_accuracy: 1.0000\n",
      "Epoch 30/100\n",
      "117/117 [==============================] - 7s 57ms/step - loss: 4137030.6987 - accuracy: 1.0000 - val_loss: 4659817.8390 - val_accuracy: 1.0000\n",
      "Epoch 31/100\n",
      "117/117 [==============================] - 6s 56ms/step - loss: 4137030.5769 - accuracy: 1.0000 - val_loss: 4659817.8390 - val_accuracy: 1.0000\n",
      "Epoch 32/100\n",
      "117/117 [==============================] - 7s 56ms/step - loss: 4137030.6218 - accuracy: 1.0000 - val_loss: 4659817.8390 - val_accuracy: 1.0000\n",
      "Epoch 33/100\n",
      "117/117 [==============================] - 7s 56ms/step - loss: 4137030.7030 - accuracy: 1.0000 - val_loss: 4659817.8390 - val_accuracy: 1.0000\n",
      "Epoch 34/100\n",
      "117/117 [==============================] - 6s 55ms/step - loss: 4137030.6838 - accuracy: 1.0000 - val_loss: 4659817.8390 - val_accuracy: 1.0000\n",
      "Epoch 35/100\n",
      "117/117 [==============================] - 6s 55ms/step - loss: 4137030.6581 - accuracy: 1.0000 - val_loss: 4659817.8390 - val_accuracy: 1.0000\n",
      "Epoch 36/100\n",
      "117/117 [==============================] - 7s 58ms/step - loss: 4137030.6410 - accuracy: 1.0000 - val_loss: 4659817.8390 - val_accuracy: 1.0000\n",
      "Epoch 37/100\n",
      "117/117 [==============================] - 7s 57ms/step - loss: 4137030.7051 - accuracy: 1.0000 - val_loss: 4659817.8390 - val_accuracy: 1.0000\n",
      "Epoch 38/100\n",
      "117/117 [==============================] - 9s 75ms/step - loss: 4137030.6410 - accuracy: 1.0000 - val_loss: 4659817.8390 - val_accuracy: 1.0000\n",
      "Epoch 39/100\n",
      "117/117 [==============================] - 7s 58ms/step - loss: 4137030.5812 - accuracy: 1.0000 - val_loss: 4659817.8390 - val_accuracy: 1.0000\n",
      "Epoch 40/100\n",
      "117/117 [==============================] - 7s 57ms/step - loss: 4137030.6453 - accuracy: 1.0000 - val_loss: 4659817.8390 - val_accuracy: 1.0000\n",
      "Epoch 41/100\n",
      "117/117 [==============================] - 7s 60ms/step - loss: 4137030.6709 - accuracy: 1.0000 - val_loss: 4659817.8390 - val_accuracy: 1.0000\n",
      "Epoch 42/100\n",
      "117/117 [==============================] - 7s 58ms/step - loss: 4137030.7308 - accuracy: 1.0000 - val_loss: 4659817.8390 - val_accuracy: 1.0000\n",
      "Epoch 43/100\n",
      "117/117 [==============================] - 6s 55ms/step - loss: 4137030.6581 - accuracy: 1.0000 - val_loss: 4659817.8390 - val_accuracy: 1.0000\n",
      "Epoch 44/100\n",
      "117/117 [==============================] - 7s 58ms/step - loss: 4137030.7778 - accuracy: 1.0000 - val_loss: 4659817.8390 - val_accuracy: 1.0000\n",
      "Epoch 45/100\n",
      "117/117 [==============================] - 7s 58ms/step - loss: 4137030.5833 - accuracy: 1.0000 - val_loss: 4659817.8390 - val_accuracy: 1.0000\n",
      "Epoch 46/100\n",
      "117/117 [==============================] - 7s 57ms/step - loss: 4137030.6880 - accuracy: 1.0000 - val_loss: 4659817.8390 - val_accuracy: 1.0000\n",
      "Epoch 47/100\n",
      "117/117 [==============================] - 7s 59ms/step - loss: 4137030.6432 - accuracy: 1.0000 - val_loss: 4659817.8390 - val_accuracy: 1.0000\n",
      "Epoch 48/100\n",
      "117/117 [==============================] - 7s 57ms/step - loss: 4137030.5983 - accuracy: 1.0000 - val_loss: 4659817.8390 - val_accuracy: 1.0000\n",
      "Epoch 49/100\n",
      "117/117 [==============================] - 7s 58ms/step - loss: 4137030.6496 - accuracy: 1.0000 - val_loss: 4659817.8390 - val_accuracy: 1.0000\n",
      "Epoch 50/100\n",
      "117/117 [==============================] - 7s 57ms/step - loss: 4137030.6709 - accuracy: 1.0000 - val_loss: 4659817.8390 - val_accuracy: 1.0000\n",
      "Epoch 51/100\n",
      "117/117 [==============================] - 7s 62ms/step - loss: 4137030.6624 - accuracy: 1.0000 - val_loss: 4659817.8390 - val_accuracy: 1.0000\n",
      "Epoch 52/100\n",
      "117/117 [==============================] - 7s 60ms/step - loss: 4137030.6880 - accuracy: 1.0000 - val_loss: 4659817.8390 - val_accuracy: 1.0000\n"
     ]
    },
    {
     "name": "stdout",
     "output_type": "stream",
     "text": [
      "Epoch 53/100\n",
      "117/117 [==============================] - 7s 58ms/step - loss: 4137030.6838 - accuracy: 1.0000 - val_loss: 4659817.8390 - val_accuracy: 1.0000\n",
      "Epoch 54/100\n",
      "117/117 [==============================] - 8s 71ms/step - loss: 4137030.6645 - accuracy: 1.0000 - val_loss: 4659817.8390 - val_accuracy: 1.0000\n",
      "Epoch 55/100\n",
      "117/117 [==============================] - 8s 70ms/step - loss: 4137030.7500 - accuracy: 1.0000 - val_loss: 4659817.8390 - val_accuracy: 1.0000\n",
      "Epoch 56/100\n",
      "117/117 [==============================] - 8s 70ms/step - loss: 4137030.5556 - accuracy: 1.0000 - val_loss: 4659817.8390 - val_accuracy: 1.0000\n",
      "Epoch 57/100\n",
      "117/117 [==============================] - 8s 70ms/step - loss: 4137030.6560 - accuracy: 1.0000 - val_loss: 4659817.8390 - val_accuracy: 1.0000\n",
      "Epoch 58/100\n",
      "117/117 [==============================] - 8s 70ms/step - loss: 4137030.6709 - accuracy: 1.0000 - val_loss: 4659817.8390 - val_accuracy: 1.0000\n",
      "Epoch 59/100\n",
      "117/117 [==============================] - 8s 70ms/step - loss: 4137030.6560 - accuracy: 1.0000 - val_loss: 4659817.8390 - val_accuracy: 1.0000\n",
      "Epoch 60/100\n",
      "117/117 [==============================] - 8s 70ms/step - loss: 4137030.7265 - accuracy: 1.0000 - val_loss: 4659817.8390 - val_accuracy: 1.0000\n",
      "Epoch 61/100\n",
      "117/117 [==============================] - 8s 71ms/step - loss: 4137030.7521 - accuracy: 1.0000 - val_loss: 4659817.8390 - val_accuracy: 1.0000\n",
      "Epoch 62/100\n",
      "117/117 [==============================] - 8s 70ms/step - loss: 4137030.6368 - accuracy: 1.0000 - val_loss: 4659817.8390 - val_accuracy: 1.0000\n",
      "Epoch 63/100\n",
      "117/117 [==============================] - 8s 71ms/step - loss: 4137030.6132 - accuracy: 1.0000 - val_loss: 4659817.8390 - val_accuracy: 1.0000\n",
      "Epoch 64/100\n",
      "117/117 [==============================] - 9s 73ms/step - loss: 4137030.6325 - accuracy: 1.0000 - val_loss: 4659817.8390 - val_accuracy: 1.0000\n",
      "Epoch 65/100\n",
      " 90/117 [======================>.......] - ETA: 1s - loss: 4212931.8889 - accuracy: 1.0000"
     ]
    }
   ],
   "source": [
    "model.fit(X_train,y_train, batch_size=10, epochs=100,validation_data=(X_test,y_test))"
   ]
  },
  {
   "cell_type": "code",
   "execution_count": null,
   "metadata": {},
   "outputs": [],
   "source": []
  }
 ],
 "metadata": {
  "kernelspec": {
   "display_name": "Python 3",
   "language": "python",
   "name": "python3"
  },
  "language_info": {
   "codemirror_mode": {
    "name": "ipython",
    "version": 3
   },
   "file_extension": ".py",
   "mimetype": "text/x-python",
   "name": "python",
   "nbconvert_exporter": "python",
   "pygments_lexer": "ipython3",
   "version": "3.7.7"
  }
 },
 "nbformat": 4,
 "nbformat_minor": 4
}
