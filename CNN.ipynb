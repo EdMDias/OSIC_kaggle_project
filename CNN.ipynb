{
 "cells": [
  {
   "cell_type": "code",
   "execution_count": 1,
   "metadata": {},
   "outputs": [
    {
     "name": "stderr",
     "output_type": "stream",
     "text": [
      "Using TensorFlow backend.\n"
     ]
    }
   ],
   "source": [
    "import pandas as pd\n",
    "import numpy as np\n",
    "import pydicom \n",
    "import os\n",
    "import matplotlib.pyplot as plt\n",
    "\n",
    "from sklearn.model_selection import train_test_split\n",
    "\n",
    "from keras.models import Model, Sequential\n",
    "from keras.layers import Concatenate, Dense, Input, concatenate\n",
    "from keras.layers import Dense, Dropout, Conv2D, MaxPool2D, Flatten"
   ]
  },
  {
   "cell_type": "code",
   "execution_count": 2,
   "metadata": {},
   "outputs": [],
   "source": [
    "def load_best_slices(path):\n",
    "    ind = []\n",
    "    for file in os.listdir(path):\n",
    "        if file.split('.')[1] == 'txt':\n",
    "            ind.append(file.split('.')[0])\n",
    "        \n",
    "    df = pd.DataFrame(index = ind, columns= ['CT'])\n",
    "    for ind in df.index:\n",
    "        df.loc[ind].CT = np.loadtxt(path + ind + '.txt')\n",
    "    \n",
    "    return df\n",
    "\n",
    "df = load_best_slices('best_lung_slice/')"
   ]
  },
  {
   "cell_type": "code",
   "execution_count": 3,
   "metadata": {},
   "outputs": [],
   "source": [
    "linear_data_all = pd.read_csv('patient_slope_intercept.csv', index_col=0)\n",
    "result = pd.DataFrame(index = df.index, columns = ['slope', 'intersect'])\n",
    "\n",
    "for ind in result.index:\n",
    "    result.loc[ind].slope = linear_data_all.loc[ind].slope\n",
    "    result.loc[ind].intersect = linear_data_all.loc[ind].intersect"
   ]
  },
  {
   "cell_type": "code",
   "execution_count": 4,
   "metadata": {},
   "outputs": [],
   "source": [
    "dataset = df.values"
   ]
  },
  {
   "cell_type": "code",
   "execution_count": 5,
   "metadata": {},
   "outputs": [],
   "source": [
    "X = []\n",
    "for ind in df.index:\n",
    "    X.append(df.loc[ind].CT)\n",
    "\n",
    "X = np.array(X)\n",
    "X = X.reshape(X.shape[0], 512, 512, 1)"
   ]
  },
  {
   "cell_type": "code",
   "execution_count": 7,
   "metadata": {},
   "outputs": [],
   "source": [
    "from sklearn.preprocessing import MinMaxScaler\n",
    "y = result.values\n",
    "scaler = MinMaxScaler()\n",
    "scaler.fit(y)\n",
    "y_scaled = scaler.transform(y)"
   ]
  },
  {
   "cell_type": "code",
   "execution_count": 23,
   "metadata": {},
   "outputs": [],
   "source": [
    "X_train, X_test, y_train, y_test = train_test_split(X, y_scaled, test_size=0.3)"
   ]
  },
  {
   "cell_type": "code",
   "execution_count": 24,
   "metadata": {},
   "outputs": [],
   "source": [
    "# building a linear stack of layers with the sequential model\n",
    "model = Sequential()\n",
    "# convolutional layer\n",
    "model.add(Conv2D(12, kernel_size=(3,3), strides=(1,1), padding='valid', activation='relu', input_shape=(512,512,1)))\n",
    "model.add(MaxPool2D(pool_size=(2,2)))\n",
    "model.add(Dropout(0.25))\n",
    "\n",
    "model.add(Conv2D(8, kernel_size=(3,3), strides=(1,1), padding='valid', activation='relu'))\n",
    "model.add(MaxPool2D(pool_size=(3,3)))\n",
    "model.add(Dropout(0.25))\n",
    "\n",
    "# flatten output of conv\n",
    "model.add(Flatten())\n",
    "# hidden layer\n",
    "model.add(Dense(10, activation='relu'))\n",
    "model.add(Dropout(0.25))\n",
    "model.add(Dense(5, activation='relu'))\n",
    "# output layer\n",
    "model.add(Dense(2, activation='sigmoid'))"
   ]
  },
  {
   "cell_type": "code",
   "execution_count": null,
   "metadata": {},
   "outputs": [],
   "source": []
  },
  {
   "cell_type": "code",
   "execution_count": 25,
   "metadata": {},
   "outputs": [],
   "source": [
    "model.compile(loss='mean_squared_error', metrics=['mean_squared_error'], optimizer='adam')"
   ]
  },
  {
   "cell_type": "code",
   "execution_count": 27,
   "metadata": {},
   "outputs": [
    {
     "name": "stdout",
     "output_type": "stream",
     "text": [
      "Train on 123 samples, validate on 53 samples\n",
      "Epoch 1/20\n",
      "123/123 [==============================] - 9s 73ms/step - loss: 0.0442 - mean_squared_error: 0.0442 - val_loss: 0.0347 - val_mean_squared_error: 0.0347\n",
      "Epoch 2/20\n",
      "123/123 [==============================] - 10s 79ms/step - loss: 0.0334 - mean_squared_error: 0.0334 - val_loss: 0.0355 - val_mean_squared_error: 0.0355\n",
      "Epoch 3/20\n",
      "123/123 [==============================] - 11s 87ms/step - loss: 0.0315 - mean_squared_error: 0.0315 - val_loss: 0.0345 - val_mean_squared_error: 0.0345\n",
      "Epoch 4/20\n",
      "123/123 [==============================] - 10s 82ms/step - loss: 0.0286 - mean_squared_error: 0.0286 - val_loss: 0.0341 - val_mean_squared_error: 0.0341\n",
      "Epoch 5/20\n",
      "123/123 [==============================] - 9s 77ms/step - loss: 0.0282 - mean_squared_error: 0.0282 - val_loss: 0.0340 - val_mean_squared_error: 0.0340\n",
      "Epoch 6/20\n",
      "123/123 [==============================] - 10s 79ms/step - loss: 0.0281 - mean_squared_error: 0.0281 - val_loss: 0.0342 - val_mean_squared_error: 0.0342\n",
      "Epoch 7/20\n",
      "123/123 [==============================] - 9s 75ms/step - loss: 0.0283 - mean_squared_error: 0.0283 - val_loss: 0.0342 - val_mean_squared_error: 0.0342\n",
      "Epoch 8/20\n",
      "123/123 [==============================] - 10s 85ms/step - loss: 0.0262 - mean_squared_error: 0.0262 - val_loss: 0.0339 - val_mean_squared_error: 0.0339\n",
      "Epoch 9/20\n",
      "123/123 [==============================] - 11s 88ms/step - loss: 0.0257 - mean_squared_error: 0.0257 - val_loss: 0.0337 - val_mean_squared_error: 0.0337\n",
      "Epoch 10/20\n",
      "123/123 [==============================] - 11s 90ms/step - loss: 0.0261 - mean_squared_error: 0.0261 - val_loss: 0.0337 - val_mean_squared_error: 0.0337\n",
      "Epoch 11/20\n",
      "123/123 [==============================] - 11s 92ms/step - loss: 0.0252 - mean_squared_error: 0.0252 - val_loss: 0.0334 - val_mean_squared_error: 0.0334\n",
      "Epoch 12/20\n",
      "123/123 [==============================] - 12s 95ms/step - loss: 0.0240 - mean_squared_error: 0.0240 - val_loss: 0.0332 - val_mean_squared_error: 0.0332\n",
      "Epoch 13/20\n",
      "123/123 [==============================] - 12s 96ms/step - loss: 0.0233 - mean_squared_error: 0.0233 - val_loss: 0.0334 - val_mean_squared_error: 0.0334\n",
      "Epoch 14/20\n",
      "123/123 [==============================] - 12s 94ms/step - loss: 0.0237 - mean_squared_error: 0.0237 - val_loss: 0.0329 - val_mean_squared_error: 0.0329\n",
      "Epoch 15/20\n",
      "123/123 [==============================] - 11s 90ms/step - loss: 0.0232 - mean_squared_error: 0.0232 - val_loss: 0.0331 - val_mean_squared_error: 0.0331\n",
      "Epoch 16/20\n",
      "123/123 [==============================] - 10s 83ms/step - loss: 0.0226 - mean_squared_error: 0.0226 - val_loss: 0.0329 - val_mean_squared_error: 0.0329\n",
      "Epoch 17/20\n",
      "123/123 [==============================] - 10s 82ms/step - loss: 0.0234 - mean_squared_error: 0.0234 - val_loss: 0.0328 - val_mean_squared_error: 0.0328\n",
      "Epoch 18/20\n",
      "123/123 [==============================] - 10s 82ms/step - loss: 0.0212 - mean_squared_error: 0.0212 - val_loss: 0.0327 - val_mean_squared_error: 0.0327\n",
      "Epoch 19/20\n",
      "123/123 [==============================] - 11s 88ms/step - loss: 0.0221 - mean_squared_error: 0.0221 - val_loss: 0.0328 - val_mean_squared_error: 0.0328\n",
      "Epoch 20/20\n",
      "123/123 [==============================] - 11s 87ms/step - loss: 0.0217 - mean_squared_error: 0.0217 - val_loss: 0.0326 - val_mean_squared_error: 0.0326\n"
     ]
    },
    {
     "data": {
      "text/plain": [
       "<keras.callbacks.callbacks.History at 0x7fbcd6cee650>"
      ]
     },
     "execution_count": 27,
     "metadata": {},
     "output_type": "execute_result"
    }
   ],
   "source": [
    "model.fit(X_train,y_train, batch_size=32, epochs=20, validation_data=(X_test,y_test))"
   ]
  },
  {
   "cell_type": "code",
   "execution_count": 28,
   "metadata": {},
   "outputs": [
    {
     "data": {
      "text/plain": [
       "array([[  -5.4439683, 3267.4197   ],\n",
       "       [  -4.8745356, 3235.5615   ],\n",
       "       [  -5.48275  , 3269.588    ],\n",
       "       [  -6.945752 , 3360.7368   ],\n",
       "       [  -5.1827054, 3252.808    ],\n",
       "       [  -6.722429 , 3338.9028   ],\n",
       "       [  -5.392951 , 3264.5671   ],\n",
       "       [  -5.701289 , 3281.8054   ],\n",
       "       [  -3.463889 , 3156.3064   ],\n",
       "       [  -5.911453 , 3293.553    ],\n",
       "       [  -4.9355636, 3238.978    ],\n",
       "       [  -6.4390783, 3323.0513   ],\n",
       "       [  -6.7118974, 3338.3137   ],\n",
       "       [  -5.8105803, 3287.9146   ],\n",
       "       [  -6.8063674, 3343.6008   ],\n",
       "       [  -5.918558 , 3293.9504   ],\n",
       "       [  -6.554297 , 3329.4958   ],\n",
       "       [  -6.843404 , 3348.0454   ],\n",
       "       [  -4.362986 , 3206.8918   ],\n",
       "       [  -6.945752 , 3360.7368   ],\n",
       "       [  -6.945752 , 3360.7368   ],\n",
       "       [  -6.945752 , 3360.7368   ],\n",
       "       [  -6.832664 , 3346.714    ],\n",
       "       [  -6.825987 , 3345.8865   ],\n",
       "       [  -6.3724627, 3319.3262   ],\n",
       "       [  -4.9745603, 3241.161    ],\n",
       "       [  -6.945752 , 3360.7368   ],\n",
       "       [  -6.462753 , 3324.3755   ],\n",
       "       [  -5.5660677, 3274.2463   ],\n",
       "       [  -6.4200363, 3321.9863   ],\n",
       "       [  -5.7133613, 3282.4802   ],\n",
       "       [  -5.7232513, 3283.033    ],\n",
       "       [  -6.9145637, 3356.8684   ],\n",
       "       [  -5.085571 , 3247.3735   ],\n",
       "       [  -5.707541 , 3282.155    ],\n",
       "       [  -6.945752 , 3360.7368   ],\n",
       "       [  -6.945752 , 3360.7368   ],\n",
       "       [  -5.1525645, 3251.122    ],\n",
       "       [  -4.8228154, 3232.6653   ],\n",
       "       [  -6.335191 , 3317.2417   ],\n",
       "       [  -6.75554  , 3340.7559   ],\n",
       "       [  -6.8863583, 3353.371    ],\n",
       "       [  -5.3688397, 3263.2185   ],\n",
       "       [  -5.8366103, 3289.3696   ],\n",
       "       [  -5.162902 , 3251.7002   ],\n",
       "       [  -6.156686 , 3307.2617   ],\n",
       "       [  -6.5199914, 3327.5771   ],\n",
       "       [  -5.270583 , 3257.7236   ],\n",
       "       [  -5.5873604, 3275.4365   ],\n",
       "       [  -6.945752 , 3360.7368   ],\n",
       "       [  -5.4910793, 3270.0537   ],\n",
       "       [  -6.786473 , 3342.4873   ],\n",
       "       [  -6.945752 , 3360.7368   ]], dtype=float32)"
      ]
     },
     "execution_count": 28,
     "metadata": {},
     "output_type": "execute_result"
    }
   ],
   "source": [
    "scaler.inverse_transform(model.predict(X_test))"
   ]
  },
  {
   "cell_type": "code",
   "execution_count": 18,
   "metadata": {},
   "outputs": [
    {
     "name": "stdout",
     "output_type": "stream",
     "text": [
      "[[  -4.6193943 3287.677    ]]\n",
      "slope       -3.41031\n",
      "intersect    3636.58\n",
      "Name: ID00229637202260254240583, dtype: object\n"
     ]
    }
   ],
   "source": [
    "n=8\n",
    "example = df.iloc[n].CT.reshape(1,512,512,1)\n",
    "print(scaler.inverse_transform(model.predict(example)))\n",
    "print(result.iloc[n])"
   ]
  },
  {
   "cell_type": "code",
   "execution_count": 14,
   "metadata": {},
   "outputs": [
    {
     "data": {
      "text/plain": [
       "array([[  -5.10545461, 3307.48428664],\n",
       "       [  -4.78305531, 3308.12438375],\n",
       "       [  -4.89725229, 3307.83212794],\n",
       "       [  -5.22165662, 3307.8550803 ],\n",
       "       [  -5.42184356, 3307.78302211],\n",
       "       [  -5.43281351, 3308.12617764],\n",
       "       [  -5.16927023, 3307.59642907],\n",
       "       [  -5.24072548, 3308.16093316],\n",
       "       [  -5.35191159, 3308.08266831],\n",
       "       [  -5.33692126, 3307.92509442],\n",
       "       [  -5.26648015, 3308.33170063],\n",
       "       [  -5.31021219, 3308.13071862],\n",
       "       [  -5.3362097 , 3307.95688147],\n",
       "       [  -5.28324564, 3307.8856003 ],\n",
       "       [  -5.32835758, 3307.98839754],\n",
       "       [  -5.44998669, 3308.09456244],\n",
       "       [  -5.31234745, 3308.01621194],\n",
       "       [  -5.24865659, 3308.08910545],\n",
       "       [  -5.4360549 , 3307.89741209],\n",
       "       [  -5.18908541, 3307.96594882],\n",
       "       [  -5.29321019, 3308.04920766],\n",
       "       [  -5.36017272, 3307.81951334],\n",
       "       [  -5.53804201, 3307.92597347],\n",
       "       [  -5.48692184, 3307.99768183],\n",
       "       [  -5.23259914, 3308.06525225],\n",
       "       [  -5.65170388, 3308.19652758],\n",
       "       [  -5.45671029, 3308.01039744],\n",
       "       [  -5.01169764, 3308.05865399],\n",
       "       [  -5.18783676, 3307.90587924],\n",
       "       [  -5.42726345, 3307.99638931],\n",
       "       [  -5.35502187, 3308.06904522],\n",
       "       [  -5.40782485, 3308.28984453],\n",
       "       [  -5.16853522, 3308.07770926],\n",
       "       [  -5.2765279 , 3308.20081687],\n",
       "       [  -5.43397358, 3308.26805007],\n",
       "       [  -5.35154757, 3308.11338177]])"
      ]
     },
     "execution_count": 14,
     "metadata": {},
     "output_type": "execute_result"
    }
   ],
   "source": [
    "scaler.inverse_transform(model.predict(X_test)) - y_test"
   ]
  },
  {
   "cell_type": "code",
   "execution_count": 15,
   "metadata": {},
   "outputs": [
    {
     "data": {
      "text/plain": [
       "array([[0.3223993 , 0.88680711],\n",
       "       [0.        , 0.24671   ],\n",
       "       [0.11419698, 0.53896581],\n",
       "       [0.43860131, 0.51601345],\n",
       "       [0.63878826, 0.58807164],\n",
       "       [0.6497582 , 0.24491611],\n",
       "       [0.38621492, 0.77466468],\n",
       "       [0.45767017, 0.21016059],\n",
       "       [0.56885628, 0.28842544],\n",
       "       [0.55386596, 0.44599933],\n",
       "       [0.48342484, 0.03939312],\n",
       "       [0.52715689, 0.24037513],\n",
       "       [0.5531544 , 0.41421228],\n",
       "       [0.50019034, 0.48549345],\n",
       "       [0.54530227, 0.38269621],\n",
       "       [0.66693138, 0.27653131],\n",
       "       [0.52929214, 0.35488181],\n",
       "       [0.46560128, 0.2819883 ],\n",
       "       [0.6529996 , 0.47368166],\n",
       "       [0.40603011, 0.40514493],\n",
       "       [0.51015489, 0.32188609],\n",
       "       [0.57711742, 0.55158041],\n",
       "       [0.75498671, 0.44512028],\n",
       "       [0.70386654, 0.37341192],\n",
       "       [0.44954384, 0.3058415 ],\n",
       "       [0.86864858, 0.17456617],\n",
       "       [0.67365498, 0.36069631],\n",
       "       [0.22864234, 0.31243976],\n",
       "       [0.40478145, 0.46521451],\n",
       "       [0.64420815, 0.37470444],\n",
       "       [0.57196657, 0.30204853],\n",
       "       [0.62476955, 0.08124922],\n",
       "       [0.38547992, 0.29338449],\n",
       "       [0.49347259, 0.17027688],\n",
       "       [0.65091828, 0.10304368],\n",
       "       [0.56849226, 0.25771198]])"
      ]
     },
     "execution_count": 15,
     "metadata": {},
     "output_type": "execute_result"
    }
   ],
   "source": [
    "y_test"
   ]
  },
  {
   "cell_type": "code",
   "execution_count": null,
   "metadata": {},
   "outputs": [],
   "source": []
  }
 ],
 "metadata": {
  "kernelspec": {
   "display_name": "Python 3",
   "language": "python",
   "name": "python3"
  },
  "language_info": {
   "codemirror_mode": {
    "name": "ipython",
    "version": 3
   },
   "file_extension": ".py",
   "mimetype": "text/x-python",
   "name": "python",
   "nbconvert_exporter": "python",
   "pygments_lexer": "ipython3",
   "version": "3.7.7"
  }
 },
 "nbformat": 4,
 "nbformat_minor": 4
}
